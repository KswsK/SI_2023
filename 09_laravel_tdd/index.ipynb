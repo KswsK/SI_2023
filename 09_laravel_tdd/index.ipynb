{
 "cells": [
  {
   "cell_type": "markdown",
   "metadata": {},
   "source": [
    "# PHP 2022"
   ]
  },
  {
   "cell_type": "markdown",
   "metadata": {},
   "source": [
    "## 9. Laravel TDD"
   ]
  },
  {
   "cell_type": "markdown",
   "metadata": {},
   "source": [
    "This project was started from the solution of the previous exercise.\n",
    "\n",
    "#### Laravel Breeze\n",
    "\n",
    "The [Laravel Breeze](https://laravel.com/docs/9.x/starter-kits#laravel-breeze) package was installed using the ```composer require laravel/breeze --dev``` and ```php artisan breeze:install``` commands. This package enables user registration and logging into the application.\n",
    "\n",
    "An example user is added through the [database/seeders/UsersSeeder.php](../../edit/09_laravel_tdd/project/database/seeders/UsersSeeder.php) class generated using the ```php artisan make:seeder UsersSeeder``` command. The database seeding is done during the execution of the ```php artisan db:seed``` command before the database dump.\n",
    "\n",
    "The logging-in is tested in the [tests_codeception/Acceptance/Test02_LoginCest.php](../../edit/09_laravel_tdd/project/tests_codeception/Acceptance/Test02_LoginCest.php) test.\n",
    "\n",
    "Extensive testing is also done when executing the ```php artisan test``` command because the ```php artisan breeze:install``` command added many additional tests.\n",
    "\n",
    "Because there are many tests, it was possible to safely clean up PHPStan issues in the code added by ```php artisan breeze:install``` command.\n",
    "\n",
    "#### Laravel Markdown\n",
    "\n",
    "The next change done in the project was the use of the [graham-campbell/markdown](https://packagist.org/packages/graham-campbell/markdown) package, which adds support for Markdown in Laravel.\n",
    "\n",
    "The package was installed using the ```composer require graham-campbell/markdown``` command.\n",
    "\n",
    "The [tests_codeception/Acceptance/Test01_CommentsCest.php](../../edit/09_laravel_tdd/project/tests_codeception/Acceptance/Test01_CommentsCest.php) test was extended to test for adding some **bold** text. The [resources/views/comments/show.blade.php](../../edit/09_laravel_tdd/project/resources/views/comments/show.blade.php) view was updated to render the Markdown.\n",
    "\n",
    "#### Tailwind CSS\n",
    "\n",
    "The [tailwindcss](https://tailwindcss.com/) is used to style the front end. Some examples of how to build components in HTML with CSS can be found on, e.g., [flowbite](https://flowbite.com/) site.\n",
    "\n",
    "However, I am not an expert here, so there might be much better resources ;)"
   ]
  },
  {
   "cell_type": "markdown",
   "metadata": {},
   "source": [
    "Start database:"
   ]
  },
  {
   "cell_type": "code",
   "execution_count": 1,
   "metadata": {},
   "outputs": [
    {
     "name": "stdout",
     "output_type": "stream",
     "text": [
      "abfe8f454e8dfb9bde58725e8dff685f6c8422bac8d527181a6fcc1e8756c10b\r\n"
     ]
    }
   ],
   "source": [
    "! docker run --name=mysql --net=host --rm --env MYSQL_ROOT_PASSWORD=root123 --env MYSQL_ROOT_HOST=% --env MYSQL_DATABASE=test --env MYSQL_USER=test --env MYSQL_PASSWORD=test123 -d mysql/mysql-server:8.0"
   ]
  },
  {
   "cell_type": "code",
   "execution_count": 2,
   "metadata": {},
   "outputs": [
    {
     "name": "stdout",
     "output_type": "stream",
     "text": [
      "Done.\r\n"
     ]
    }
   ],
   "source": [
    "! while ! timeout 1 bash -c \"echo > /dev/tcp/localhost/3306\" 2> /dev/null; do sleep 1; done; echo \"Done.\";"
   ]
  },
  {
   "cell_type": "markdown",
   "metadata": {},
   "source": [
    "Edit the code:"
   ]
  },
  {
   "cell_type": "code",
   "execution_count": null,
   "metadata": {},
   "outputs": [
    {
     "name": "stdout",
     "output_type": "stream",
     "text": [
      "CompileCommand: exclude com/intellij/openapi/vfs/impl/FilePartNodeRoot.trieDescend bool exclude = true\n",
      "2023-04-03 19:25:46,094 [   1751] SEVERE - #c.i.d.LoadingState - Should be called at least in the state COMPONENTS_LOADED, the current state is: CONFIGURATION_STORE_INITIALIZED\n",
      "Current violators count: 1\n",
      "\n",
      "\n",
      "java.lang.Throwable\n",
      "\tat com.intellij.diagnostic.LoadingState.logStateError(LoadingState.java:52)\n",
      "\tat com.intellij.diagnostic.LoadingState.checkOccurred(LoadingState.java:48)\n",
      "\tat com.intellij.openapi.actionSystem.impl.ActionManagerImpl.<init>(ActionManagerImpl.java:133)\n",
      "\tat com.jetbrains.rdserver.ui.actionPopupMenu.BackendActionManager.<init>(BackendActionManager.kt:17)\n",
      "\tat java.base/jdk.internal.reflect.NativeConstructorAccessorImpl.newInstance0(Native Method)\n",
      "\tat java.base/jdk.internal.reflect.NativeConstructorAccessorImpl.newInstance(NativeConstructorAccessorImpl.java:77)\n",
      "\tat java.base/jdk.internal.reflect.DelegatingConstructorAccessorImpl.newInstance(DelegatingConstructorAccessorImpl.java:45)\n",
      "\tat java.base/java.lang.reflect.Constructor.newInstanceWithCaller(Constructor.java:499)\n",
      "\tat java.base/java.lang.reflect.Constructor.newInstance(Constructor.java:480)\n",
      "\tat com.intellij.serviceContainer.ConstructorInjectionKt.instantiateUsingPicoContainer(constructorInjection.kt:47)\n",
      "\tat com.intellij.serviceContainer.ComponentManagerImpl.instantiateClassWithConstructorInjection(ComponentManagerImpl.kt:890)\n",
      "\tat com.intellij.serviceContainer.ServiceComponentAdapter.createAndInitialize(ServiceComponentAdapter.kt:51)\n",
      "\tat com.intellij.serviceContainer.ServiceComponentAdapter.doCreateInstance(ServiceComponentAdapter.kt:41)\n",
      "\tat com.intellij.serviceContainer.BaseComponentAdapter.getInstanceUncached(BaseComponentAdapter.kt:119)\n",
      "\tat com.intellij.serviceContainer.BaseComponentAdapter.getInstance(BaseComponentAdapter.kt:73)\n",
      "\tat com.intellij.serviceContainer.BaseComponentAdapter.getInstance$default(BaseComponentAdapter.kt:66)\n",
      "\tat com.intellij.serviceContainer.ComponentManagerImpl.doGetService(ComponentManagerImpl.kt:609)\n",
      "\tat com.intellij.serviceContainer.ComponentManagerImpl.getService(ComponentManagerImpl.kt:583)\n",
      "\tat com.intellij.openapi.client.ClientAwareComponentManager.getFromSelfOrCurrentSession(ClientAwareComponentManager.kt:37)\n",
      "\tat com.intellij.openapi.client.ClientAwareComponentManager.getService(ClientAwareComponentManager.kt:22)\n",
      "\tat com.intellij.openapi.actionSystem.ActionManager.getInstance(ActionManager.java:29)\n",
      "\tat com.intellij.help.impl.KeymapGenerator.<clinit>(KeymapGenerator.java:33)\n",
      "\tat java.base/jdk.internal.misc.Unsafe.allocateInstance(Native Method)\n",
      "\tat java.base/java.lang.invoke.DirectMethodHandle.allocateInstance(DirectMethodHandle.java:520)\n",
      "\tat com.intellij.serviceContainer.ComponentManagerImpl.instantiateClass(ComponentManagerImpl.kt:844)\n",
      "\tat com.intellij.openapi.extensions.impl.XmlExtensionAdapter.instantiateClass(XmlExtensionAdapter.kt:79)\n",
      "\tat com.intellij.openapi.extensions.impl.XmlExtensionAdapter$SimpleConstructorInjectionAdapter.instantiateClass(XmlExtensionAdapter.kt:90)\n",
      "\tat com.intellij.openapi.extensions.impl.XmlExtensionAdapter.doCreateInstance(XmlExtensionAdapter.kt:50)\n",
      "\tat com.intellij.openapi.extensions.impl.XmlExtensionAdapter.createInstance(XmlExtensionAdapter.kt:31)\n",
      "\tat com.intellij.openapi.extensions.impl.ExtensionPointImpl.processAdapter(ExtensionPointImpl.java:447)\n",
      "\tat com.intellij.openapi.extensions.impl.ExtensionPointImpl.access$200(ExtensionPointImpl.java:33)\n",
      "\tat com.intellij.openapi.extensions.impl.ExtensionPointImpl$1.next(ExtensionPointImpl.java:355)\n",
      "\tat com.intellij.idea.ApplicationLoader.findAppStarter(ApplicationLoader.kt:595)\n",
      "\tat com.intellij.idea.ApplicationLoader.access$findAppStarter(ApplicationLoader.kt:1)\n",
      "\tat com.intellij.idea.ApplicationLoader$initApplication$block$3.apply(ApplicationLoader.kt:170)\n",
      "\tat com.intellij.idea.ApplicationLoader$initApplication$block$3.apply(ApplicationLoader.kt)\n",
      "\tat java.base/java.util.concurrent.CompletableFuture$UniCompose.tryFire(CompletableFuture.java:1150)\n",
      "\tat java.base/java.util.concurrent.CompletableFuture.postComplete(CompletableFuture.java:510)\n",
      "\tat java.base/java.util.concurrent.CompletableFuture.postFire(CompletableFuture.java:614)\n",
      "\tat java.base/java.util.concurrent.CompletableFuture$UniCompose.tryFire(CompletableFuture.java:1163)\n",
      "\tat java.base/java.util.concurrent.CompletableFuture$Completion.run(CompletableFuture.java:482)\n",
      "\tat com.intellij.idea.ApplicationLoader$initApplication$block$2.execute(ApplicationLoader.kt:142)\n",
      "\tat java.base/java.util.concurrent.CompletableFuture$UniCompletion.claim(CompletableFuture.java:572)\n",
      "\tat java.base/java.util.concurrent.CompletableFuture$UniCompose.tryFire(CompletableFuture.java:1147)\n",
      "\tat java.base/java.util.concurrent.CompletableFuture.postComplete(CompletableFuture.java:510)\n",
      "\tat java.base/java.util.concurrent.CompletableFuture.postFire(CompletableFuture.java:614)\n",
      "\tat java.base/java.util.concurrent.CompletableFuture$UniCompose.tryFire(CompletableFuture.java:1163)\n",
      "\tat java.base/java.util.concurrent.CompletableFuture$Completion.exec(CompletableFuture.java:483)\n",
      "\tat java.base/java.util.concurrent.ForkJoinTask.doExec(ForkJoinTask.java:373)\n",
      "\tat java.base/java.util.concurrent.ForkJoinPool$WorkQueue.topLevelExec(ForkJoinPool.java:1182)\n",
      "\tat java.base/java.util.concurrent.ForkJoinPool.scan(ForkJoinPool.java:1655)\n",
      "\tat java.base/java.util.concurrent.ForkJoinPool.runWorker(ForkJoinPool.java:1622)\n",
      "\tat java.base/java.util.concurrent.ForkJoinWorkerThread.run(ForkJoinWorkerThread.java:165)\n",
      "2023-04-03 19:25:46,109 [   1766] SEVERE - #c.i.d.LoadingState - PhpStorm 2022.2.3  Build #PS-222.4345.15\n",
      "2023-04-03 19:25:46,110 [   1767] SEVERE - #c.i.d.LoadingState - JDK: 17.0.4.1; VM: OpenJDK 64-Bit Server VM; Vendor: JetBrains s.r.o.\n",
      "2023-04-03 19:25:46,111 [   1768] SEVERE - #c.i.d.LoadingState - OS: Linux\n",
      "2023-04-03 19:25:47,106 [   2763] SEVERE - #c.i.d.LoadingState - Should be called at least in the state COMPONENTS_LOADED, the current state is: CONFIGURATION_STORE_INITIALIZED\n",
      "Current violators count: 2\n",
      "\n",
      "\n",
      "java.lang.Throwable\n",
      "\tat com.intellij.diagnostic.LoadingState.logStateError(LoadingState.java:52)\n",
      "\tat com.intellij.diagnostic.LoadingState.checkOccurred(LoadingState.java:48)\n",
      "\tat com.intellij.openapi.util.registry.Registry.getInstance(Registry.java:176)\n",
      "\tat com.intellij.openapi.util.registry.Registry.get(Registry.java:50)\n",
      "\tat com.intellij.openapi.util.registry.Registry.is(Registry.java:63)\n",
      "\tat com.intellij.execution.ExecutorRegistryImpl.isExecutorInMainGroup(ExecutorRegistryImpl.java:195)\n",
      "\tat com.intellij.execution.ExecutorRegistryImpl.initExecutorActions(ExecutorRegistryImpl.java:127)\n",
      "\tat com.intellij.execution.ExecutorRegistryImpl.init(ExecutorRegistryImpl.java:278)\n",
      "\tat com.intellij.execution.ExecutorRegistryImpl$ExecutorRegistryActionConfigurationTuner.customize(ExecutorRegistryImpl.java:92)\n",
      "\tat com.intellij.openapi.actionSystem.impl.ActionManagerImpl.lambda$new$0(ActionManagerImpl.java:141)\n",
      "\tat com.intellij.openapi.extensions.impl.ExtensionProcessingHelper.forEachExtensionSafe(ExtensionProcessingHelper.java:34)\n",
      "\tat com.intellij.openapi.extensions.ExtensionPointName.forEachExtensionSafe(ExtensionPointName.java:46)\n",
      "\tat com.intellij.openapi.actionSystem.impl.ActionManagerImpl.<init>(ActionManagerImpl.java:141)\n",
      "\tat com.jetbrains.rdserver.ui.actionPopupMenu.BackendActionManager.<init>(BackendActionManager.kt:17)\n",
      "\tat java.base/jdk.internal.reflect.NativeConstructorAccessorImpl.newInstance0(Native Method)\n",
      "\tat java.base/jdk.internal.reflect.NativeConstructorAccessorImpl.newInstance(NativeConstructorAccessorImpl.java:77)\n",
      "\tat java.base/jdk.internal.reflect.DelegatingConstructorAccessorImpl.newInstance(DelegatingConstructorAccessorImpl.java:45)\n",
      "\tat java.base/java.lang.reflect.Constructor.newInstanceWithCaller(Constructor.java:499)\n",
      "\tat java.base/java.lang.reflect.Constructor.newInstance(Constructor.java:480)\n",
      "\tat com.intellij.serviceContainer.ConstructorInjectionKt.instantiateUsingPicoContainer(constructorInjection.kt:47)\n",
      "\tat com.intellij.serviceContainer.ComponentManagerImpl.instantiateClassWithConstructorInjection(ComponentManagerImpl.kt:890)\n",
      "\tat com.intellij.serviceContainer.ServiceComponentAdapter.createAndInitialize(ServiceComponentAdapter.kt:51)\n",
      "\tat com.intellij.serviceContainer.ServiceComponentAdapter.doCreateInstance(ServiceComponentAdapter.kt:41)\n",
      "\tat com.intellij.serviceContainer.BaseComponentAdapter.getInstanceUncached(BaseComponentAdapter.kt:119)\n",
      "\tat com.intellij.serviceContainer.BaseComponentAdapter.getInstance(BaseComponentAdapter.kt:73)\n",
      "\tat com.intellij.serviceContainer.BaseComponentAdapter.getInstance$default(BaseComponentAdapter.kt:66)\n",
      "\tat com.intellij.serviceContainer.ComponentManagerImpl.doGetService(ComponentManagerImpl.kt:609)\n",
      "\tat com.intellij.serviceContainer.ComponentManagerImpl.getService(ComponentManagerImpl.kt:583)\n",
      "\tat com.intellij.openapi.client.ClientAwareComponentManager.getFromSelfOrCurrentSession(ClientAwareComponentManager.kt:37)\n",
      "\tat com.intellij.openapi.client.ClientAwareComponentManager.getService(ClientAwareComponentManager.kt:22)\n",
      "\tat com.intellij.openapi.actionSystem.ActionManager.getInstance(ActionManager.java:29)\n",
      "\tat com.intellij.help.impl.KeymapGenerator.<clinit>(KeymapGenerator.java:33)\n",
      "\tat java.base/jdk.internal.misc.Unsafe.allocateInstance(Native Method)\n",
      "\tat java.base/java.lang.invoke.DirectMethodHandle.allocateInstance(DirectMethodHandle.java:520)\n",
      "\tat com.intellij.serviceContainer.ComponentManagerImpl.instantiateClass(ComponentManagerImpl.kt:844)\n",
      "\tat com.intellij.openapi.extensions.impl.XmlExtensionAdapter.instantiateClass(XmlExtensionAdapter.kt:79)\n",
      "\tat com.intellij.openapi.extensions.impl.XmlExtensionAdapter$SimpleConstructorInjectionAdapter.instantiateClass(XmlExtensionAdapter.kt:90)\n",
      "\tat com.intellij.openapi.extensions.impl.XmlExtensionAdapter.doCreateInstance(XmlExtensionAdapter.kt:50)\n",
      "\tat com.intellij.openapi.extensions.impl.XmlExtensionAdapter.createInstance(XmlExtensionAdapter.kt:31)\n",
      "\tat com.intellij.openapi.extensions.impl.ExtensionPointImpl.processAdapter(ExtensionPointImpl.java:447)\n",
      "\tat com.intellij.openapi.extensions.impl.ExtensionPointImpl.access$200(ExtensionPointImpl.java:33)\n",
      "\tat com.intellij.openapi.extensions.impl.ExtensionPointImpl$1.next(ExtensionPointImpl.java:355)\n",
      "\tat com.intellij.idea.ApplicationLoader.findAppStarter(ApplicationLoader.kt:595)\n",
      "\tat com.intellij.idea.ApplicationLoader.access$findAppStarter(ApplicationLoader.kt:1)\n",
      "\tat com.intellij.idea.ApplicationLoader$initApplication$block$3.apply(ApplicationLoader.kt:170)\n",
      "\tat com.intellij.idea.ApplicationLoader$initApplication$block$3.apply(ApplicationLoader.kt)\n",
      "\tat java.base/java.util.concurrent.CompletableFuture$UniCompose.tryFire(CompletableFuture.java:1150)\n",
      "\tat java.base/java.util.concurrent.CompletableFuture.postComplete(CompletableFuture.java:510)\n",
      "\tat java.base/java.util.concurrent.CompletableFuture.postFire(CompletableFuture.java:614)\n",
      "\tat java.base/java.util.concurrent.CompletableFuture$UniCompose.tryFire(CompletableFuture.java:1163)\n",
      "\tat java.base/java.util.concurrent.CompletableFuture$Completion.run(CompletableFuture.java:482)\n",
      "\tat com.intellij.idea.ApplicationLoader$initApplication$block$2.execute(ApplicationLoader.kt:142)\n",
      "\tat java.base/java.util.concurrent.CompletableFuture$UniCompletion.claim(CompletableFuture.java:572)\n",
      "\tat java.base/java.util.concurrent.CompletableFuture$UniCompose.tryFire(CompletableFuture.java:1147)\n",
      "\tat java.base/java.util.concurrent.CompletableFuture.postComplete(CompletableFuture.java:510)\n",
      "\tat java.base/java.util.concurrent.CompletableFuture.postFire(CompletableFuture.java:614)\n",
      "\tat java.base/java.util.concurrent.CompletableFuture$UniCompose.tryFire(CompletableFuture.java:1163)\n",
      "\tat java.base/java.util.concurrent.CompletableFuture$Completion.exec(CompletableFuture.java:483)\n",
      "\tat java.base/java.util.concurrent.ForkJoinTask.doExec(ForkJoinTask.java:373)\n",
      "\tat java.base/java.util.concurrent.ForkJoinPool$WorkQueue.topLevelExec(ForkJoinPool.java:1182)\n",
      "\tat java.base/java.util.concurrent.ForkJoinPool.scan(ForkJoinPool.java:1655)\n",
      "\tat java.base/java.util.concurrent.ForkJoinPool.runWorker(ForkJoinPool.java:1622)\n",
      "\tat java.base/java.util.concurrent.ForkJoinWorkerThread.run(ForkJoinWorkerThread.java:165)\n",
      "2023-04-03 19:25:47,111 [   2768] SEVERE - #c.i.d.LoadingState - PhpStorm 2022.2.3  Build #PS-222.4345.15\n",
      "2023-04-03 19:25:47,112 [   2769] SEVERE - #c.i.d.LoadingState - JDK: 17.0.4.1; VM: OpenJDK 64-Bit Server VM; Vendor: JetBrains s.r.o.\n",
      "2023-04-03 19:25:47,112 [   2769] SEVERE - #c.i.d.LoadingState - OS: Linux\n",
      "2023-04-03 19:25:47,135 [   2792] SEVERE - #c.i.d.LoadingState - Should be called at least in the state COMPONENTS_LOADED, the current state is: CONFIGURATION_STORE_INITIALIZED\n",
      "Current violators count: 3\n",
      "\n",
      "\n",
      "java.lang.Throwable\n",
      "\tat com.intellij.diagnostic.LoadingState.logStateError(LoadingState.java:52)\n",
      "\tat com.intellij.diagnostic.LoadingState.checkOccurred(LoadingState.java:48)\n",
      "\tat com.intellij.openapi.util.registry.Registry.getInstance(Registry.java:176)\n",
      "\tat com.intellij.openapi.util.registry.Registry.get(Registry.java:50)\n",
      "\tat com.intellij.openapi.util.registry.Registry.is(Registry.java:63)\n",
      "\tat com.intellij.openapi.wm.impl.GlobalMenuLinux._loadLibrary(GlobalMenuLinux.java:797)\n",
      "\tat com.intellij.openapi.wm.impl.GlobalMenuLinux.<clinit>(GlobalMenuLinux.java:164)\n",
      "\tat com.intellij.openapi.wm.impl.GlobalMenuLinux$MyActionTuner.customize(GlobalMenuLinux.java:230)\n",
      "\tat com.intellij.openapi.actionSystem.impl.ActionManagerImpl.lambda$new$0(ActionManagerImpl.java:141)\n",
      "\tat com.intellij.openapi.extensions.impl.ExtensionProcessingHelper.forEachExtensionSafe(ExtensionProcessingHelper.java:34)\n",
      "\tat com.intellij.openapi.extensions.ExtensionPointName.forEachExtensionSafe(ExtensionPointName.java:46)\n",
      "\tat com.intellij.openapi.actionSystem.impl.ActionManagerImpl.<init>(ActionManagerImpl.java:141)\n",
      "\tat com.jetbrains.rdserver.ui.actionPopupMenu.BackendActionManager.<init>(BackendActionManager.kt:17)\n",
      "\tat java.base/jdk.internal.reflect.NativeConstructorAccessorImpl.newInstance0(Native Method)\n",
      "\tat java.base/jdk.internal.reflect.NativeConstructorAccessorImpl.newInstance(NativeConstructorAccessorImpl.java:77)\n",
      "\tat java.base/jdk.internal.reflect.DelegatingConstructorAccessorImpl.newInstance(DelegatingConstructorAccessorImpl.java:45)\n",
      "\tat java.base/java.lang.reflect.Constructor.newInstanceWithCaller(Constructor.java:499)\n",
      "\tat java.base/java.lang.reflect.Constructor.newInstance(Constructor.java:480)\n"
     ]
    },
    {
     "name": "stdout",
     "output_type": "stream",
     "text": [
      "\tat com.intellij.serviceContainer.ConstructorInjectionKt.instantiateUsingPicoContainer(constructorInjection.kt:47)\n",
      "\tat com.intellij.serviceContainer.ComponentManagerImpl.instantiateClassWithConstructorInjection(ComponentManagerImpl.kt:890)\n",
      "\tat com.intellij.serviceContainer.ServiceComponentAdapter.createAndInitialize(ServiceComponentAdapter.kt:51)\n",
      "\tat com.intellij.serviceContainer.ServiceComponentAdapter.doCreateInstance(ServiceComponentAdapter.kt:41)\n",
      "\tat com.intellij.serviceContainer.BaseComponentAdapter.getInstanceUncached(BaseComponentAdapter.kt:119)\n",
      "\tat com.intellij.serviceContainer.BaseComponentAdapter.getInstance(BaseComponentAdapter.kt:73)\n",
      "\tat com.intellij.serviceContainer.BaseComponentAdapter.getInstance$default(BaseComponentAdapter.kt:66)\n",
      "\tat com.intellij.serviceContainer.ComponentManagerImpl.doGetService(ComponentManagerImpl.kt:609)\n",
      "\tat com.intellij.serviceContainer.ComponentManagerImpl.getService(ComponentManagerImpl.kt:583)\n",
      "\tat com.intellij.openapi.client.ClientAwareComponentManager.getFromSelfOrCurrentSession(ClientAwareComponentManager.kt:37)\n",
      "\tat com.intellij.openapi.client.ClientAwareComponentManager.getService(ClientAwareComponentManager.kt:22)\n",
      "\tat com.intellij.openapi.actionSystem.ActionManager.getInstance(ActionManager.java:29)\n",
      "\tat com.intellij.help.impl.KeymapGenerator.<clinit>(KeymapGenerator.java:33)\n",
      "\tat java.base/jdk.internal.misc.Unsafe.allocateInstance(Native Method)\n",
      "\tat java.base/java.lang.invoke.DirectMethodHandle.allocateInstance(DirectMethodHandle.java:520)\n",
      "\tat com.intellij.serviceContainer.ComponentManagerImpl.instantiateClass(ComponentManagerImpl.kt:844)\n",
      "\tat com.intellij.openapi.extensions.impl.XmlExtensionAdapter.instantiateClass(XmlExtensionAdapter.kt:79)\n",
      "\tat com.intellij.openapi.extensions.impl.XmlExtensionAdapter$SimpleConstructorInjectionAdapter.instantiateClass(XmlExtensionAdapter.kt:90)\n",
      "\tat com.intellij.openapi.extensions.impl.XmlExtensionAdapter.doCreateInstance(XmlExtensionAdapter.kt:50)\n",
      "\tat com.intellij.openapi.extensions.impl.XmlExtensionAdapter.createInstance(XmlExtensionAdapter.kt:31)\n",
      "\tat com.intellij.openapi.extensions.impl.ExtensionPointImpl.processAdapter(ExtensionPointImpl.java:447)\n",
      "\tat com.intellij.openapi.extensions.impl.ExtensionPointImpl.access$200(ExtensionPointImpl.java:33)\n",
      "\tat com.intellij.openapi.extensions.impl.ExtensionPointImpl$1.next(ExtensionPointImpl.java:355)\n",
      "\tat com.intellij.idea.ApplicationLoader.findAppStarter(ApplicationLoader.kt:595)\n",
      "\tat com.intellij.idea.ApplicationLoader.access$findAppStarter(ApplicationLoader.kt:1)\n",
      "\tat com.intellij.idea.ApplicationLoader$initApplication$block$3.apply(ApplicationLoader.kt:170)\n",
      "\tat com.intellij.idea.ApplicationLoader$initApplication$block$3.apply(ApplicationLoader.kt)\n",
      "\tat java.base/java.util.concurrent.CompletableFuture$UniCompose.tryFire(CompletableFuture.java:1150)\n",
      "\tat java.base/java.util.concurrent.CompletableFuture.postComplete(CompletableFuture.java:510)\n",
      "\tat java.base/java.util.concurrent.CompletableFuture.postFire(CompletableFuture.java:614)\n",
      "\tat java.base/java.util.concurrent.CompletableFuture$UniCompose.tryFire(CompletableFuture.java:1163)\n",
      "\tat java.base/java.util.concurrent.CompletableFuture$Completion.run(CompletableFuture.java:482)\n",
      "\tat com.intellij.idea.ApplicationLoader$initApplication$block$2.execute(ApplicationLoader.kt:142)\n",
      "\tat java.base/java.util.concurrent.CompletableFuture$UniCompletion.claim(CompletableFuture.java:572)\n",
      "\tat java.base/java.util.concurrent.CompletableFuture$UniCompose.tryFire(CompletableFuture.java:1147)\n",
      "\tat java.base/java.util.concurrent.CompletableFuture.postComplete(CompletableFuture.java:510)\n",
      "\tat java.base/java.util.concurrent.CompletableFuture.postFire(CompletableFuture.java:614)\n",
      "\tat java.base/java.util.concurrent.CompletableFuture$UniCompose.tryFire(CompletableFuture.java:1163)\n",
      "\tat java.base/java.util.concurrent.CompletableFuture$Completion.exec(CompletableFuture.java:483)\n",
      "\tat java.base/java.util.concurrent.ForkJoinTask.doExec(ForkJoinTask.java:373)\n",
      "\tat java.base/java.util.concurrent.ForkJoinPool$WorkQueue.topLevelExec(ForkJoinPool.java:1182)\n",
      "\tat java.base/java.util.concurrent.ForkJoinPool.scan(ForkJoinPool.java:1655)\n",
      "\tat java.base/java.util.concurrent.ForkJoinPool.runWorker(ForkJoinPool.java:1622)\n",
      "\tat java.base/java.util.concurrent.ForkJoinWorkerThread.run(ForkJoinWorkerThread.java:165)\n",
      "2023-04-03 19:25:47,139 [   2796] SEVERE - #c.i.d.LoadingState - PhpStorm 2022.2.3  Build #PS-222.4345.15\n",
      "2023-04-03 19:25:47,140 [   2797] SEVERE - #c.i.d.LoadingState - JDK: 17.0.4.1; VM: OpenJDK 64-Bit Server VM; Vendor: JetBrains s.r.o.\n",
      "2023-04-03 19:25:47,140 [   2797] SEVERE - #c.i.d.LoadingState - OS: Linux\n",
      "Info  | RdCoroutineScope          | 14:JobScheduler FJ pool 2/3 | RdCoroutineHost overridden \n",
      "2023-04-03 19:25:57,208 [  12865]   WARN - #c.i.o.a.i.ActionUpdater - 252 ms to grab EDT for CWMTelephonyGroup#update@NavBarToolbar (com.jetbrains.rd.platform.codeWithMe.telephony.CWMTelephonyGroup)\n",
      "2023-04-03 19:26:01,507 [  17164]   WARN - #c.i.u.x.Binding - no accessors for com.jetbrains.php.testFramework.PhpTestFrameworkType\n",
      "2023-04-03 19:26:06,472 [  22129]   WARN - #c.i.d.m.s.ModelImporter - Reading from xml: test@localhost\n",
      "2023-04-03 19:26:06,550 [  22207]   WARN - #c.i.o.a.i.ActionUpdater - 3025 ms to grab EDT for CWMTelephonyGroup#update@NavBarToolbar (com.jetbrains.rd.platform.codeWithMe.telephony.CWMTelephonyGroup)\n",
      "2023-04-03 19:26:07,718 [  23375]   WARN - #c.i.o.a.i.ActionUpdater - 3025 ms total to grab EDT 1 times to expand DefaultActionGroup@NavBarToolbar (CustomisedActionGroup/com.intellij.openapi.actionSystem.DefaultActionGroup). Use `ActionUpdateThread.BGT`.\n",
      "2023-04-03 19:26:10,570 [  26227]   WARN - #c.i.o.a.i.ActionUpdater - 443 ms to grab EDT for CWMTelephonyGroup#update@NavBarToolbar (com.jetbrains.rd.platform.codeWithMe.telephony.CWMTelephonyGroup)\n",
      "2023-04-03 19:26:33,776 [  49433]   WARN - #o.e.l.s.p.EditorConfigJsonSchemaParser - Found illegal descriptor: {}\n",
      "2023-04-03 19:26:33,776 [  49433]   WARN - #o.e.l.s.p.EditorConfigJsonSchemaParser - Found illegal descriptor: {}\n",
      "2023-04-03 19:26:33,808 [  49465]   WARN - #o.e.l.s.p.EditorConfigJsonSchemaParser - Found illegal descriptor: {}\n",
      "2023-04-03 19:26:33,817 [  49474]   WARN - #o.e.l.s.p.EditorConfigJsonSchemaParser - Found illegal descriptor: {}\n",
      "2023-04-03 19:26:33,819 [  49476]   WARN - #o.e.l.s.p.EditorConfigJsonSchemaParser - Found illegal descriptor: {}\n",
      "2023-04-03 19:26:33,819 [  49476]   WARN - #o.e.l.s.p.EditorConfigJsonSchemaParser - Found illegal descriptor: {}\n",
      "2023-04-03 19:26:33,820 [  49477]   WARN - #o.e.l.s.p.EditorConfigJsonSchemaParser - Found illegal descriptor: {}\n",
      "2023-04-03 19:26:33,820 [  49477]   WARN - #o.e.l.s.p.EditorConfigJsonSchemaParser - Found illegal descriptor: {}\n",
      "2023-04-03 19:26:40,646 [  56303]   WARN - #c.i.o.a.i.ActionUpdater - 512 ms to grab EDT for CWMTelephonyGroup#update@NavBarToolbar (com.jetbrains.rd.platform.codeWithMe.telephony.CWMTelephonyGroup)\n",
      "2023-04-03 19:26:44,201 [  59858]   WARN - #c.j.p.p.PharHandler - Stub end marker missing: /home/student/SI_school/szkola/SI_2023/SI_school/09_laravel_tdd/project/vendor/bin/phpstan.phar\n",
      "java.io.IOException: Stub end marker missing\n",
      "\tat com.jetbrains.php.phar.PharHandler.readStub(PharHandler.java:125)\n",
      "\tat com.jetbrains.php.phar.PharHandler.createEntriesMap(PharHandler.java:60)\n",
      "\tat com.intellij.openapi.vfs.impl.ArchiveHandler.getEntriesMap(ArchiveHandler.java:188)\n",
      "\tat com.intellij.openapi.vfs.impl.ArchiveHandler.getEntryInfo(ArchiveHandler.java:173)\n",
      "\tat com.intellij.openapi.vfs.impl.ArchiveHandler.list(ArchiveHandler.java:90)\n",
      "\tat com.intellij.openapi.vfs.newvfs.ArchiveFileSystem.lambda$new$1(ArchiveFileSystem.java:143)\n",
      "\tat com.intellij.openapi.vfs.DiskQueryRelay.lambda$accessDiskWithCheckCanceled$0(DiskQueryRelay.java:42)\n",
      "\tat java.base/java.util.concurrent.FutureTask.run(FutureTask.java:264)\n",
      "\tat java.base/java.util.concurrent.ThreadPoolExecutor.runWorker(ThreadPoolExecutor.java:1136)\n",
      "\tat java.base/java.util.concurrent.ThreadPoolExecutor$Worker.run(ThreadPoolExecutor.java:635)\n",
      "\tat java.base/java.util.concurrent.Executors$PrivilegedThreadFactory$1$1.run(Executors.java:702)\n",
      "\tat java.base/java.util.concurrent.Executors$PrivilegedThreadFactory$1$1.run(Executors.java:699)\n",
      "\tat java.base/java.security.AccessController.doPrivileged(AccessController.java:399)\n",
      "\tat java.base/java.util.concurrent.Executors$PrivilegedThreadFactory$1.run(Executors.java:699)\n",
      "\tat java.base/java.lang.Thread.run(Thread.java:833)\n"
     ]
    },
    {
     "name": "stdout",
     "output_type": "stream",
     "text": [
      "2023-04-03 19:27:14,917 [  90574]   WARN - #c.i.o.a.i.ActionUpdater - 401 ms to grab EDT for CWMTelephonyGroup#update@NavBarToolbar (com.jetbrains.rd.platform.codeWithMe.telephony.CWMTelephonyGroup)\n",
      "2023-04-03 19:29:19,389 [ 215046] SEVERE - c.j.t.m.TerminalTextBuffer - Attempt to get line out of bounds: 14 >= 14\n",
      "2023-04-03 19:29:19,394 [ 215051] SEVERE - c.j.t.m.TerminalTextBuffer - Attempt to get line out of bounds: 14 >= 14\n",
      "2023-04-03 19:29:44,786 [ 240443]   WARN - #c.i.o.a.i.ActionUpdater - 209 ms to grab EDT for GitCommitWithStagingAreaAction#update@NavBarToolbar (git4idea.index.actions.GitCommitWithStagingAreaAction)\n",
      "2023-04-03 19:31:29,381 [ 345038]   WARN - #c.i.u.x.Binding - no accessors for org.jetbrains.idea.perforce.perforce.ConnectionId\n",
      "2023-04-03 19:33:50,192 [ 485849]   WARN - #c.i.o.a.i.ActionUpdater - 358 ms to grab EDT for GitCommitWithStagingAreaAction#update@NavBarToolbar (git4idea.index.actions.GitCommitWithStagingAreaAction)\n",
      "2023-04-03 19:46:36,295 [1251952]   WARN - #c.j.p.PhpIndex - Invalid Signature '\\array'\n",
      "2023-04-03 19:55:49,258 [1804915]   WARN - #c.j.p.t.q.QualityToolXmlMessageProcessor - Invalid range: /home/student/SI_school/szkola/SI_2023/SI_school/09_laravel_tdd/project/routes/web.php java.lang.IndexOutOfBoundsException: Wrong line: 31. Available lines count: 31\n",
      "2023-04-03 20:09:36,198 [2631855]   WARN - #c.i.o.a.i.ActionUpdater - 254 ms to grab EDT for #update@ToolwindowTitle (com.intellij.toolWindow.ToolWindowHeader$2)\n",
      "2023-04-03 20:09:36,200 [2631857]   WARN - #c.i.o.a.i.ActionUpdater - 227 ms to grab EDT for ToggleAmendCommitModeAction#update@ChangesView.CommitToolbar (com.intellij.vcs.commit.ToggleAmendCommitModeAction)\n",
      "2023-04-03 20:10:24,256 [2679913]   WARN - #c.i.o.a.i.ActionUpdater - 268 ms to grab EDT for #update@ToolwindowTitle (com.intellij.toolWindow.ToolWindowHeader$2)\n"
     ]
    }
   ],
   "source": [
    "! phpstorm project"
   ]
  },
  {
   "cell_type": "markdown",
   "metadata": {},
   "source": [
    "You can test your solution using included tests:"
   ]
  },
  {
   "cell_type": "code",
   "execution_count": 3,
   "metadata": {},
   "outputs": [
    {
     "name": "stdout",
     "output_type": "stream",
     "text": [
      "/home/student/php_2022_platforma_e-handlu_typu_olx/09_laravel_tdd/project\n"
     ]
    }
   ],
   "source": [
    "%cd project"
   ]
  },
  {
   "cell_type": "code",
   "execution_count": 4,
   "metadata": {},
   "outputs": [
    {
     "name": "stdout",
     "output_type": "stream",
     "text": [
      "\u001b[32mInstalling dependencies from lock file (including require-dev)\u001b[39m\n",
      "\u001b[32mVerifying lock file contents can be installed on current platform.\u001b[39m\n",
      "Nothing to install, update or remove\n",
      "\u001b[32mGenerating optimized autoload files\u001b[39m\n",
      "> Illuminate\\Foundation\\ComposerScripts::postAutoloadDump\n",
      "> @php artisan package:discover --ansi\n",
      "\n",
      "  \u001b[37;44m INFO \u001b[39;49m Discovering packages.  \n",
      "\n",
      "  graham-campbell/markdown \u001b[90m.\u001b[39m\u001b[90m.\u001b[39m\u001b[90m.\u001b[39m\u001b[90m.\u001b[39m\u001b[90m.\u001b[39m\u001b[90m.\u001b[39m\u001b[90m.\u001b[39m\u001b[90m.\u001b[39m\u001b[90m.\u001b[39m\u001b[90m.\u001b[39m\u001b[90m.\u001b[39m\u001b[90m.\u001b[39m\u001b[90m.\u001b[39m\u001b[90m.\u001b[39m\u001b[90m.\u001b[39m\u001b[90m.\u001b[39m\u001b[90m.\u001b[39m\u001b[90m.\u001b[39m\u001b[90m.\u001b[39m\u001b[90m.\u001b[39m\u001b[90m.\u001b[39m\u001b[90m.\u001b[39m\u001b[90m.\u001b[39m\u001b[90m.\u001b[39m\u001b[90m.\u001b[39m\u001b[90m.\u001b[39m\u001b[90m.\u001b[39m\u001b[90m.\u001b[39m\u001b[90m.\u001b[39m\u001b[90m.\u001b[39m\u001b[90m.\u001b[39m\u001b[90m.\u001b[39m\u001b[90m.\u001b[39m\u001b[90m.\u001b[39m\u001b[90m.\u001b[39m\u001b[90m.\u001b[39m\u001b[90m.\u001b[39m\u001b[90m.\u001b[39m\u001b[90m.\u001b[39m\u001b[90m.\u001b[39m\u001b[90m.\u001b[39m\u001b[90m.\u001b[39m\u001b[90m.\u001b[39m\u001b[90m.\u001b[39m\u001b[90m.\u001b[39m\u001b[90m.\u001b[39m \u001b[32;1mDONE\u001b[39;22m\n",
      "  laravel/breeze \u001b[90m.\u001b[39m\u001b[90m.\u001b[39m\u001b[90m.\u001b[39m\u001b[90m.\u001b[39m\u001b[90m.\u001b[39m\u001b[90m.\u001b[39m\u001b[90m.\u001b[39m\u001b[90m.\u001b[39m\u001b[90m.\u001b[39m\u001b[90m.\u001b[39m\u001b[90m.\u001b[39m\u001b[90m.\u001b[39m\u001b[90m.\u001b[39m\u001b[90m.\u001b[39m\u001b[90m.\u001b[39m\u001b[90m.\u001b[39m\u001b[90m.\u001b[39m\u001b[90m.\u001b[39m\u001b[90m.\u001b[39m\u001b[90m.\u001b[39m\u001b[90m.\u001b[39m\u001b[90m.\u001b[39m\u001b[90m.\u001b[39m\u001b[90m.\u001b[39m\u001b[90m.\u001b[39m\u001b[90m.\u001b[39m\u001b[90m.\u001b[39m\u001b[90m.\u001b[39m\u001b[90m.\u001b[39m\u001b[90m.\u001b[39m\u001b[90m.\u001b[39m\u001b[90m.\u001b[39m\u001b[90m.\u001b[39m\u001b[90m.\u001b[39m\u001b[90m.\u001b[39m\u001b[90m.\u001b[39m\u001b[90m.\u001b[39m\u001b[90m.\u001b[39m\u001b[90m.\u001b[39m\u001b[90m.\u001b[39m\u001b[90m.\u001b[39m\u001b[90m.\u001b[39m\u001b[90m.\u001b[39m\u001b[90m.\u001b[39m\u001b[90m.\u001b[39m\u001b[90m.\u001b[39m\u001b[90m.\u001b[39m\u001b[90m.\u001b[39m\u001b[90m.\u001b[39m\u001b[90m.\u001b[39m\u001b[90m.\u001b[39m\u001b[90m.\u001b[39m\u001b[90m.\u001b[39m\u001b[90m.\u001b[39m\u001b[90m.\u001b[39m\u001b[90m.\u001b[39m \u001b[32;1mDONE\u001b[39;22m\n",
      "  laravel/sail \u001b[90m.\u001b[39m\u001b[90m.\u001b[39m\u001b[90m.\u001b[39m\u001b[90m.\u001b[39m\u001b[90m.\u001b[39m\u001b[90m.\u001b[39m\u001b[90m.\u001b[39m\u001b[90m.\u001b[39m\u001b[90m.\u001b[39m\u001b[90m.\u001b[39m\u001b[90m.\u001b[39m\u001b[90m.\u001b[39m\u001b[90m.\u001b[39m\u001b[90m.\u001b[39m\u001b[90m.\u001b[39m\u001b[90m.\u001b[39m\u001b[90m.\u001b[39m\u001b[90m.\u001b[39m\u001b[90m.\u001b[39m\u001b[90m.\u001b[39m\u001b[90m.\u001b[39m\u001b[90m.\u001b[39m\u001b[90m.\u001b[39m\u001b[90m.\u001b[39m\u001b[90m.\u001b[39m\u001b[90m.\u001b[39m\u001b[90m.\u001b[39m\u001b[90m.\u001b[39m\u001b[90m.\u001b[39m\u001b[90m.\u001b[39m\u001b[90m.\u001b[39m\u001b[90m.\u001b[39m\u001b[90m.\u001b[39m\u001b[90m.\u001b[39m\u001b[90m.\u001b[39m\u001b[90m.\u001b[39m\u001b[90m.\u001b[39m\u001b[90m.\u001b[39m\u001b[90m.\u001b[39m\u001b[90m.\u001b[39m\u001b[90m.\u001b[39m\u001b[90m.\u001b[39m\u001b[90m.\u001b[39m\u001b[90m.\u001b[39m\u001b[90m.\u001b[39m\u001b[90m.\u001b[39m\u001b[90m.\u001b[39m\u001b[90m.\u001b[39m\u001b[90m.\u001b[39m\u001b[90m.\u001b[39m\u001b[90m.\u001b[39m\u001b[90m.\u001b[39m\u001b[90m.\u001b[39m\u001b[90m.\u001b[39m\u001b[90m.\u001b[39m\u001b[90m.\u001b[39m\u001b[90m.\u001b[39m\u001b[90m.\u001b[39m \u001b[32;1mDONE\u001b[39;22m\n",
      "  laravel/sanctum \u001b[90m.\u001b[39m\u001b[90m.\u001b[39m\u001b[90m.\u001b[39m\u001b[90m.\u001b[39m\u001b[90m.\u001b[39m\u001b[90m.\u001b[39m\u001b[90m.\u001b[39m\u001b[90m.\u001b[39m\u001b[90m.\u001b[39m\u001b[90m.\u001b[39m\u001b[90m.\u001b[39m\u001b[90m.\u001b[39m\u001b[90m.\u001b[39m\u001b[90m.\u001b[39m\u001b[90m.\u001b[39m\u001b[90m.\u001b[39m\u001b[90m.\u001b[39m\u001b[90m.\u001b[39m\u001b[90m.\u001b[39m\u001b[90m.\u001b[39m\u001b[90m.\u001b[39m\u001b[90m.\u001b[39m\u001b[90m.\u001b[39m\u001b[90m.\u001b[39m\u001b[90m.\u001b[39m\u001b[90m.\u001b[39m\u001b[90m.\u001b[39m\u001b[90m.\u001b[39m\u001b[90m.\u001b[39m\u001b[90m.\u001b[39m\u001b[90m.\u001b[39m\u001b[90m.\u001b[39m\u001b[90m.\u001b[39m\u001b[90m.\u001b[39m\u001b[90m.\u001b[39m\u001b[90m.\u001b[39m\u001b[90m.\u001b[39m\u001b[90m.\u001b[39m\u001b[90m.\u001b[39m\u001b[90m.\u001b[39m\u001b[90m.\u001b[39m\u001b[90m.\u001b[39m\u001b[90m.\u001b[39m\u001b[90m.\u001b[39m\u001b[90m.\u001b[39m\u001b[90m.\u001b[39m\u001b[90m.\u001b[39m\u001b[90m.\u001b[39m\u001b[90m.\u001b[39m\u001b[90m.\u001b[39m\u001b[90m.\u001b[39m\u001b[90m.\u001b[39m\u001b[90m.\u001b[39m\u001b[90m.\u001b[39m\u001b[90m.\u001b[39m \u001b[32;1mDONE\u001b[39;22m\n",
      "  laravel/tinker \u001b[90m.\u001b[39m\u001b[90m.\u001b[39m\u001b[90m.\u001b[39m\u001b[90m.\u001b[39m\u001b[90m.\u001b[39m\u001b[90m.\u001b[39m\u001b[90m.\u001b[39m\u001b[90m.\u001b[39m\u001b[90m.\u001b[39m\u001b[90m.\u001b[39m\u001b[90m.\u001b[39m\u001b[90m.\u001b[39m\u001b[90m.\u001b[39m\u001b[90m.\u001b[39m\u001b[90m.\u001b[39m\u001b[90m.\u001b[39m\u001b[90m.\u001b[39m\u001b[90m.\u001b[39m\u001b[90m.\u001b[39m\u001b[90m.\u001b[39m\u001b[90m.\u001b[39m\u001b[90m.\u001b[39m\u001b[90m.\u001b[39m\u001b[90m.\u001b[39m\u001b[90m.\u001b[39m\u001b[90m.\u001b[39m\u001b[90m.\u001b[39m\u001b[90m.\u001b[39m\u001b[90m.\u001b[39m\u001b[90m.\u001b[39m\u001b[90m.\u001b[39m\u001b[90m.\u001b[39m\u001b[90m.\u001b[39m\u001b[90m.\u001b[39m\u001b[90m.\u001b[39m\u001b[90m.\u001b[39m\u001b[90m.\u001b[39m\u001b[90m.\u001b[39m\u001b[90m.\u001b[39m\u001b[90m.\u001b[39m\u001b[90m.\u001b[39m\u001b[90m.\u001b[39m\u001b[90m.\u001b[39m\u001b[90m.\u001b[39m\u001b[90m.\u001b[39m\u001b[90m.\u001b[39m\u001b[90m.\u001b[39m\u001b[90m.\u001b[39m\u001b[90m.\u001b[39m\u001b[90m.\u001b[39m\u001b[90m.\u001b[39m\u001b[90m.\u001b[39m\u001b[90m.\u001b[39m\u001b[90m.\u001b[39m\u001b[90m.\u001b[39m\u001b[90m.\u001b[39m \u001b[32;1mDONE\u001b[39;22m\n",
      "  nesbot/carbon \u001b[90m.\u001b[39m\u001b[90m.\u001b[39m\u001b[90m.\u001b[39m\u001b[90m.\u001b[39m\u001b[90m.\u001b[39m\u001b[90m.\u001b[39m\u001b[90m.\u001b[39m\u001b[90m.\u001b[39m\u001b[90m.\u001b[39m\u001b[90m.\u001b[39m\u001b[90m.\u001b[39m\u001b[90m.\u001b[39m\u001b[90m.\u001b[39m\u001b[90m.\u001b[39m\u001b[90m.\u001b[39m\u001b[90m.\u001b[39m\u001b[90m.\u001b[39m\u001b[90m.\u001b[39m\u001b[90m.\u001b[39m\u001b[90m.\u001b[39m\u001b[90m.\u001b[39m\u001b[90m.\u001b[39m\u001b[90m.\u001b[39m\u001b[90m.\u001b[39m\u001b[90m.\u001b[39m\u001b[90m.\u001b[39m\u001b[90m.\u001b[39m\u001b[90m.\u001b[39m\u001b[90m.\u001b[39m\u001b[90m.\u001b[39m\u001b[90m.\u001b[39m\u001b[90m.\u001b[39m\u001b[90m.\u001b[39m\u001b[90m.\u001b[39m\u001b[90m.\u001b[39m\u001b[90m.\u001b[39m\u001b[90m.\u001b[39m\u001b[90m.\u001b[39m\u001b[90m.\u001b[39m\u001b[90m.\u001b[39m\u001b[90m.\u001b[39m\u001b[90m.\u001b[39m\u001b[90m.\u001b[39m\u001b[90m.\u001b[39m\u001b[90m.\u001b[39m\u001b[90m.\u001b[39m\u001b[90m.\u001b[39m\u001b[90m.\u001b[39m\u001b[90m.\u001b[39m\u001b[90m.\u001b[39m\u001b[90m.\u001b[39m\u001b[90m.\u001b[39m\u001b[90m.\u001b[39m\u001b[90m.\u001b[39m\u001b[90m.\u001b[39m\u001b[90m.\u001b[39m\u001b[90m.\u001b[39m \u001b[32;1mDONE\u001b[39;22m\n",
      "  nunomaduro/collision \u001b[90m.\u001b[39m\u001b[90m.\u001b[39m\u001b[90m.\u001b[39m\u001b[90m.\u001b[39m\u001b[90m.\u001b[39m\u001b[90m.\u001b[39m\u001b[90m.\u001b[39m\u001b[90m.\u001b[39m\u001b[90m.\u001b[39m\u001b[90m.\u001b[39m\u001b[90m.\u001b[39m\u001b[90m.\u001b[39m\u001b[90m.\u001b[39m\u001b[90m.\u001b[39m\u001b[90m.\u001b[39m\u001b[90m.\u001b[39m\u001b[90m.\u001b[39m\u001b[90m.\u001b[39m\u001b[90m.\u001b[39m\u001b[90m.\u001b[39m\u001b[90m.\u001b[39m\u001b[90m.\u001b[39m\u001b[90m.\u001b[39m\u001b[90m.\u001b[39m\u001b[90m.\u001b[39m\u001b[90m.\u001b[39m\u001b[90m.\u001b[39m\u001b[90m.\u001b[39m\u001b[90m.\u001b[39m\u001b[90m.\u001b[39m\u001b[90m.\u001b[39m\u001b[90m.\u001b[39m\u001b[90m.\u001b[39m\u001b[90m.\u001b[39m\u001b[90m.\u001b[39m\u001b[90m.\u001b[39m\u001b[90m.\u001b[39m\u001b[90m.\u001b[39m\u001b[90m.\u001b[39m\u001b[90m.\u001b[39m\u001b[90m.\u001b[39m\u001b[90m.\u001b[39m\u001b[90m.\u001b[39m\u001b[90m.\u001b[39m\u001b[90m.\u001b[39m\u001b[90m.\u001b[39m\u001b[90m.\u001b[39m\u001b[90m.\u001b[39m\u001b[90m.\u001b[39m\u001b[90m.\u001b[39m \u001b[32;1mDONE\u001b[39;22m\n",
      "  nunomaduro/termwind \u001b[90m.\u001b[39m\u001b[90m.\u001b[39m\u001b[90m.\u001b[39m\u001b[90m.\u001b[39m\u001b[90m.\u001b[39m\u001b[90m.\u001b[39m\u001b[90m.\u001b[39m\u001b[90m.\u001b[39m\u001b[90m.\u001b[39m\u001b[90m.\u001b[39m\u001b[90m.\u001b[39m\u001b[90m.\u001b[39m\u001b[90m.\u001b[39m\u001b[90m.\u001b[39m\u001b[90m.\u001b[39m\u001b[90m.\u001b[39m\u001b[90m.\u001b[39m\u001b[90m.\u001b[39m\u001b[90m.\u001b[39m\u001b[90m.\u001b[39m\u001b[90m.\u001b[39m\u001b[90m.\u001b[39m\u001b[90m.\u001b[39m\u001b[90m.\u001b[39m\u001b[90m.\u001b[39m\u001b[90m.\u001b[39m\u001b[90m.\u001b[39m\u001b[90m.\u001b[39m\u001b[90m.\u001b[39m\u001b[90m.\u001b[39m\u001b[90m.\u001b[39m\u001b[90m.\u001b[39m\u001b[90m.\u001b[39m\u001b[90m.\u001b[39m\u001b[90m.\u001b[39m\u001b[90m.\u001b[39m\u001b[90m.\u001b[39m\u001b[90m.\u001b[39m\u001b[90m.\u001b[39m\u001b[90m.\u001b[39m\u001b[90m.\u001b[39m\u001b[90m.\u001b[39m\u001b[90m.\u001b[39m\u001b[90m.\u001b[39m\u001b[90m.\u001b[39m\u001b[90m.\u001b[39m\u001b[90m.\u001b[39m\u001b[90m.\u001b[39m\u001b[90m.\u001b[39m\u001b[90m.\u001b[39m\u001b[90m.\u001b[39m \u001b[32;1mDONE\u001b[39;22m\n",
      "  spatie/laravel-ignition \u001b[90m.\u001b[39m\u001b[90m.\u001b[39m\u001b[90m.\u001b[39m\u001b[90m.\u001b[39m\u001b[90m.\u001b[39m\u001b[90m.\u001b[39m\u001b[90m.\u001b[39m\u001b[90m.\u001b[39m\u001b[90m.\u001b[39m\u001b[90m.\u001b[39m\u001b[90m.\u001b[39m\u001b[90m.\u001b[39m\u001b[90m.\u001b[39m\u001b[90m.\u001b[39m\u001b[90m.\u001b[39m\u001b[90m.\u001b[39m\u001b[90m.\u001b[39m\u001b[90m.\u001b[39m\u001b[90m.\u001b[39m\u001b[90m.\u001b[39m\u001b[90m.\u001b[39m\u001b[90m.\u001b[39m\u001b[90m.\u001b[39m\u001b[90m.\u001b[39m\u001b[90m.\u001b[39m\u001b[90m.\u001b[39m\u001b[90m.\u001b[39m\u001b[90m.\u001b[39m\u001b[90m.\u001b[39m\u001b[90m.\u001b[39m\u001b[90m.\u001b[39m\u001b[90m.\u001b[39m\u001b[90m.\u001b[39m\u001b[90m.\u001b[39m\u001b[90m.\u001b[39m\u001b[90m.\u001b[39m\u001b[90m.\u001b[39m\u001b[90m.\u001b[39m\u001b[90m.\u001b[39m\u001b[90m.\u001b[39m\u001b[90m.\u001b[39m\u001b[90m.\u001b[39m\u001b[90m.\u001b[39m\u001b[90m.\u001b[39m\u001b[90m.\u001b[39m\u001b[90m.\u001b[39m\u001b[90m.\u001b[39m \u001b[32;1mDONE\u001b[39;22m\n",
      "\n",
      "\u001b[32m96 packages you are using are looking for funding.\u001b[39m\n",
      "\u001b[32mUse the `composer fund` command to find out more!\u001b[39m\n"
     ]
    }
   ],
   "source": [
    "! composer install"
   ]
  },
  {
   "cell_type": "code",
   "execution_count": 5,
   "metadata": {},
   "outputs": [
    {
     "name": "stdout",
     "output_type": "stream",
     "text": [
      "\u001b[32mBuilding Actor classes for suites: Acceptance\u001b[39m\n",
      " -> AcceptanceTesterActions.php generated successfully. 81 methods added\n",
      "\u001b[32mTestsCodeception\\AcceptanceTester\u001b[39m includes modules: PhpBrowser, Db\n"
     ]
    }
   ],
   "source": [
    "! vendor/bin/codecept build"
   ]
  },
  {
   "cell_type": "code",
   "execution_count": 6,
   "metadata": {},
   "outputs": [
    {
     "name": "stdout",
     "output_type": "stream",
     "text": [
      "Loaded config \u001b[33mdefault\u001b[39m from \"/home/student/php_2022_platforma_e-handlu_typu_olx/09_laravel_tdd/project/./.php-cs-fixer.dist.php\".\n",
      "Using cache file \".php-cs-fixer.cache\".\n",
      "   1) tests_codeception/Acceptance/Test06_PurchaseHistoryCest.php\n",
      "\u001b[33m      ---------- begin diff ----------\u001b[39m\n",
      "\u001b[31m--- /home/student/php_2022_platforma_e-handlu_typu_olx/09_laravel_tdd/project/tests_codeception/Acceptance/Test06_PurchaseHistoryCest.php\u001b[39m\n",
      "\u001b[32m+++ /home/student/php_2022_platforma_e-handlu_typu_olx/09_laravel_tdd/project/tests_codeception/Acceptance/Test06_PurchaseHistoryCest.php\u001b[39m\n",
      "\u001b[36m@@ -69,11 +69,11 @@\u001b[39m\n",
      "         $I->see(\"test1\", \"h1\");\n",
      "         $I->click(\"#star4\");\n",
      "         $I->click(\"Rate\");\n",
      "\u001b[31m-        $I->see(\"User 'sprzedawca' for offer titled 'test1' has been rated successfully!\",\"div\");\u001b[39m\n",
      "\u001b[32m+        $I->see(\"User 'sprzedawca' for offer titled 'test1' has been rated successfully!\", \"div\");\u001b[39m\n",
      "         $I->seeCurrentUrlEquals('/rate/8');\n",
      "\u001b[31m-        $ocena=$I->grabFromDatabase(\"users\",\"rating_sum\",[\"name\"=>\"sprzedawca\"]);\u001b[39m\n",
      "\u001b[32m+        $ocena=$I->grabFromDatabase(\"users\", \"rating_sum\", [\"name\"=>\"sprzedawca\"]);\u001b[39m\n",
      "         $I->amOnPage(\"/offers\");\n",
      "\u001b[31m-        $hiena=$I->grabFromDatabase(\"users\",\"name\",[\"rating_sum\"=>\"4\"]);\u001b[39m\n",
      "\u001b[32m+        $hiena=$I->grabFromDatabase(\"users\", \"name\", [\"rating_sum\"=>\"4\"]);\u001b[39m\n",
      "         $I->see(\"Seller: $hiena, rating: $ocena\", \"h3\");\n",
      "         $I->click(\"Purchase history\");\n",
      "         $I->seeCurrentUrlEquals(\"/history\");\n",
      "\n",
      "\u001b[33m      ----------- end diff -----------\u001b[39m\n",
      "\n",
      "\n",
      "Checked all files in 0.738 seconds, 18.000 MB memory used\n"
     ]
    }
   ],
   "source": [
    "! vendor/bin/php-cs-fixer fix --diff --dry-run ."
   ]
  },
  {
   "cell_type": "code",
   "execution_count": 7,
   "metadata": {},
   "outputs": [
    {
     "name": "stdout",
     "output_type": "stream",
     "text": [
      "\n",
      "\u001b[33m ! [NOTE] The Xdebug PHP extension is active, but \"--xdebug\" is not used. This  \u001b[39m\n",
      "\u001b[33m !        may slow down performance and the process will not halt at            \u001b[39m\n",
      "\u001b[33m !        breakpoints.                                                          \u001b[39m\n",
      "\n",
      "  0/91 [░░░░░░░░░░░░░░░░░░░░░░░░░░░░]   0%\u001b[1G\u001b[2K 20/91 [▓▓▓▓▓▓░░░░░░░░░░░░░░░░░░░░░░]  21%\u001b[1G\u001b[2K 40/91 [▓▓▓▓▓▓▓▓▓▓▓▓░░░░░░░░░░░░░░░░]  43%\u001b[1G\u001b[2K 60/91 [▓▓▓▓▓▓▓▓▓▓▓▓▓▓▓▓▓▓░░░░░░░░░░]  65%\u001b[1G\u001b[2K 71/91 [▓▓▓▓▓▓▓▓▓▓▓▓▓▓▓▓▓▓▓▓▓░░░░░░░]  78%\u001b[1G\u001b[2K 91/91 [▓▓▓▓▓▓▓▓▓▓▓▓▓▓▓▓▓▓▓▓▓▓▓▓▓▓▓▓] 100%\n",
      "\n",
      " ------ ------------------------------------------------------------------ \n",
      "  \u001b[32mLine\u001b[39m   \u001b[32mtests_codeception/Acceptance/Test06_PurchaseHistoryCest.php\u001b[39m       \n",
      " ------ ------------------------------------------------------------------ \n",
      "  77     Part $hiena (mixed) of encapsed string cannot be cast to string.  \n",
      "  77     Part $ocena (mixed) of encapsed string cannot be cast to string.  \n",
      " ------ ------------------------------------------------------------------ \n",
      "\n",
      "\n",
      "\u001b[37;41m                                                                                \u001b[39;49m\n",
      "\u001b[37;41m [ERROR] Found 2 errors                                                         \u001b[39;49m\n",
      "\u001b[37;41m                                                                                \u001b[39;49m\n",
      "\n"
     ]
    }
   ],
   "source": [
    "! vendor/bin/phpstan analyze -c phpstan.neon"
   ]
  },
  {
   "cell_type": "code",
   "execution_count": 8,
   "metadata": {},
   "outputs": [
    {
     "name": "stdout",
     "output_type": "stream",
     "text": [
      "phpcpd 6.0.3 by Sebastian Bergmann.\n",
      "\n",
      "No clones found.\n",
      "\n",
      "Time: 00:00.028, Memory: 8.00 MB\n"
     ]
    }
   ],
   "source": [
    "! vendor/bin/phpcpd . --fuzzy --min-lines 1 --min-tokens 20 --exclude vendor --exclude tests* --exclude config --exclude storage"
   ]
  },
  {
   "cell_type": "code",
   "execution_count": 9,
   "metadata": {},
   "outputs": [],
   "source": [
    "! cp .env.example .env"
   ]
  },
  {
   "cell_type": "code",
   "execution_count": 10,
   "metadata": {},
   "outputs": [
    {
     "name": "stdout",
     "output_type": "stream",
     "text": [
      "\r\n",
      "  \u001b[37;44m INFO \u001b[39;49m Application key set successfully.  \r\n",
      "\r\n"
     ]
    }
   ],
   "source": [
    "! php artisan key:generate"
   ]
  },
  {
   "cell_type": "code",
   "execution_count": 11,
   "metadata": {},
   "outputs": [
    {
     "name": "stdout",
     "output_type": "stream",
     "text": [
      "\n",
      "  Dropping all tables \u001b[90m.\u001b[39m\u001b[90m.\u001b[39m\u001b[90m.\u001b[39m\u001b[90m.\u001b[39m\u001b[90m.\u001b[39m\u001b[90m.\u001b[39m\u001b[90m.\u001b[39m\u001b[90m.\u001b[39m\u001b[90m.\u001b[39m\u001b[90m.\u001b[39m\u001b[90m.\u001b[39m\u001b[90m.\u001b[39m\u001b[90m.\u001b[39m\u001b[90m.\u001b[39m\u001b[90m.\u001b[39m\u001b[90m.\u001b[39m\u001b[90m.\u001b[39m\u001b[90m.\u001b[39m\u001b[90m.\u001b[39m\u001b[90m.\u001b[39m\u001b[90m.\u001b[39m\u001b[90m.\u001b[39m\u001b[90m.\u001b[39m\u001b[90m.\u001b[39m\u001b[90m.\u001b[39m\u001b[90m.\u001b[39m\u001b[90m.\u001b[39m\u001b[90m.\u001b[39m\u001b[90m.\u001b[39m\u001b[90m.\u001b[39m\u001b[90m.\u001b[39m\u001b[90m.\u001b[39m\u001b[90m.\u001b[39m\u001b[90m.\u001b[39m\u001b[90m.\u001b[39m\u001b[90m.\u001b[39m\u001b[90m.\u001b[39m\u001b[90m.\u001b[39m\u001b[90m.\u001b[39m\u001b[90m.\u001b[39m\u001b[90m.\u001b[39m\u001b[90m.\u001b[39m\u001b[90m.\u001b[39m\u001b[90m.\u001b[39m\u001b[90m.\u001b[39m\u001b[90m.\u001b[39m\u001b[90m 24ms\u001b[39m \u001b[32;1mDONE\u001b[39;22m\n",
      "\n",
      "  \u001b[37;44m INFO \u001b[39;49m Preparing database.  \n",
      "\n",
      "  Creating migration table \u001b[90m.\u001b[39m\u001b[90m.\u001b[39m\u001b[90m.\u001b[39m\u001b[90m.\u001b[39m\u001b[90m.\u001b[39m\u001b[90m.\u001b[39m\u001b[90m.\u001b[39m\u001b[90m.\u001b[39m\u001b[90m.\u001b[39m\u001b[90m.\u001b[39m\u001b[90m.\u001b[39m\u001b[90m.\u001b[39m\u001b[90m.\u001b[39m\u001b[90m.\u001b[39m\u001b[90m.\u001b[39m\u001b[90m.\u001b[39m\u001b[90m.\u001b[39m\u001b[90m.\u001b[39m\u001b[90m.\u001b[39m\u001b[90m.\u001b[39m\u001b[90m.\u001b[39m\u001b[90m.\u001b[39m\u001b[90m.\u001b[39m\u001b[90m.\u001b[39m\u001b[90m.\u001b[39m\u001b[90m.\u001b[39m\u001b[90m.\u001b[39m\u001b[90m.\u001b[39m\u001b[90m.\u001b[39m\u001b[90m.\u001b[39m\u001b[90m.\u001b[39m\u001b[90m.\u001b[39m\u001b[90m.\u001b[39m\u001b[90m.\u001b[39m\u001b[90m.\u001b[39m\u001b[90m.\u001b[39m\u001b[90m.\u001b[39m\u001b[90m.\u001b[39m\u001b[90m.\u001b[39m\u001b[90m.\u001b[39m\u001b[90m.\u001b[39m\u001b[90m 27ms\u001b[39m \u001b[32;1mDONE\u001b[39;22m\n",
      "\n",
      "  \u001b[37;44m INFO \u001b[39;49m Running migrations.  \n",
      "\n",
      "  2014_10_12_000000_create_users_table \u001b[90m.\u001b[39m\u001b[90m.\u001b[39m\u001b[90m.\u001b[39m\u001b[90m.\u001b[39m\u001b[90m.\u001b[39m\u001b[90m.\u001b[39m\u001b[90m.\u001b[39m\u001b[90m.\u001b[39m\u001b[90m.\u001b[39m\u001b[90m.\u001b[39m\u001b[90m.\u001b[39m\u001b[90m.\u001b[39m\u001b[90m.\u001b[39m\u001b[90m.\u001b[39m\u001b[90m.\u001b[39m\u001b[90m.\u001b[39m\u001b[90m.\u001b[39m\u001b[90m.\u001b[39m\u001b[90m.\u001b[39m\u001b[90m.\u001b[39m\u001b[90m.\u001b[39m\u001b[90m.\u001b[39m\u001b[90m.\u001b[39m\u001b[90m.\u001b[39m\u001b[90m.\u001b[39m\u001b[90m.\u001b[39m\u001b[90m.\u001b[39m\u001b[90m.\u001b[39m\u001b[90m 101ms\u001b[39m \u001b[32;1mDONE\u001b[39;22m\n",
      "  2014_10_12_100000_create_password_resets_table \u001b[90m.\u001b[39m\u001b[90m.\u001b[39m\u001b[90m.\u001b[39m\u001b[90m.\u001b[39m\u001b[90m.\u001b[39m\u001b[90m.\u001b[39m\u001b[90m.\u001b[39m\u001b[90m.\u001b[39m\u001b[90m.\u001b[39m\u001b[90m.\u001b[39m\u001b[90m.\u001b[39m\u001b[90m.\u001b[39m\u001b[90m.\u001b[39m\u001b[90m.\u001b[39m\u001b[90m.\u001b[39m\u001b[90m.\u001b[39m\u001b[90m.\u001b[39m\u001b[90m.\u001b[39m\u001b[90m.\u001b[39m\u001b[90m 61ms\u001b[39m \u001b[32;1mDONE\u001b[39;22m\n",
      "  2019_08_19_000000_create_failed_jobs_table \u001b[90m.\u001b[39m\u001b[90m.\u001b[39m\u001b[90m.\u001b[39m\u001b[90m.\u001b[39m\u001b[90m.\u001b[39m\u001b[90m.\u001b[39m\u001b[90m.\u001b[39m\u001b[90m.\u001b[39m\u001b[90m.\u001b[39m\u001b[90m.\u001b[39m\u001b[90m.\u001b[39m\u001b[90m.\u001b[39m\u001b[90m.\u001b[39m\u001b[90m.\u001b[39m\u001b[90m.\u001b[39m\u001b[90m.\u001b[39m\u001b[90m.\u001b[39m\u001b[90m.\u001b[39m\u001b[90m.\u001b[39m\u001b[90m.\u001b[39m\u001b[90m.\u001b[39m\u001b[90m.\u001b[39m\u001b[90m.\u001b[39m\u001b[90m 75ms\u001b[39m \u001b[32;1mDONE\u001b[39;22m\n",
      "  2019_12_14_000001_create_personal_access_tokens_table \u001b[90m.\u001b[39m\u001b[90m.\u001b[39m\u001b[90m.\u001b[39m\u001b[90m.\u001b[39m\u001b[90m.\u001b[39m\u001b[90m.\u001b[39m\u001b[90m.\u001b[39m\u001b[90m.\u001b[39m\u001b[90m.\u001b[39m\u001b[90m.\u001b[39m\u001b[90m.\u001b[39m\u001b[90m 102ms\u001b[39m \u001b[32;1mDONE\u001b[39;22m\n",
      "  2022_11_26_090903_create_comments_table \u001b[90m.\u001b[39m\u001b[90m.\u001b[39m\u001b[90m.\u001b[39m\u001b[90m.\u001b[39m\u001b[90m.\u001b[39m\u001b[90m.\u001b[39m\u001b[90m.\u001b[39m\u001b[90m.\u001b[39m\u001b[90m.\u001b[39m\u001b[90m.\u001b[39m\u001b[90m.\u001b[39m\u001b[90m.\u001b[39m\u001b[90m.\u001b[39m\u001b[90m.\u001b[39m\u001b[90m.\u001b[39m\u001b[90m.\u001b[39m\u001b[90m.\u001b[39m\u001b[90m.\u001b[39m\u001b[90m.\u001b[39m\u001b[90m.\u001b[39m\u001b[90m.\u001b[39m\u001b[90m.\u001b[39m\u001b[90m.\u001b[39m\u001b[90m.\u001b[39m\u001b[90m.\u001b[39m\u001b[90m.\u001b[39m\u001b[90m 29ms\u001b[39m \u001b[32;1mDONE\u001b[39;22m\n",
      "  2023_01_06_130619_create_announcements_table \u001b[90m.\u001b[39m\u001b[90m.\u001b[39m\u001b[90m.\u001b[39m\u001b[90m.\u001b[39m\u001b[90m.\u001b[39m\u001b[90m.\u001b[39m\u001b[90m.\u001b[39m\u001b[90m.\u001b[39m\u001b[90m.\u001b[39m\u001b[90m.\u001b[39m\u001b[90m.\u001b[39m\u001b[90m.\u001b[39m\u001b[90m.\u001b[39m\u001b[90m.\u001b[39m\u001b[90m.\u001b[39m\u001b[90m.\u001b[39m\u001b[90m.\u001b[39m\u001b[90m.\u001b[39m\u001b[90m.\u001b[39m\u001b[90m.\u001b[39m\u001b[90m.\u001b[39m\u001b[90m 32ms\u001b[39m \u001b[32;1mDONE\u001b[39;22m\n",
      "  2023_01_07_184748_create_reports_table \u001b[90m.\u001b[39m\u001b[90m.\u001b[39m\u001b[90m.\u001b[39m\u001b[90m.\u001b[39m\u001b[90m.\u001b[39m\u001b[90m.\u001b[39m\u001b[90m.\u001b[39m\u001b[90m.\u001b[39m\u001b[90m.\u001b[39m\u001b[90m.\u001b[39m\u001b[90m.\u001b[39m\u001b[90m.\u001b[39m\u001b[90m.\u001b[39m\u001b[90m.\u001b[39m\u001b[90m.\u001b[39m\u001b[90m.\u001b[39m\u001b[90m.\u001b[39m\u001b[90m.\u001b[39m\u001b[90m.\u001b[39m\u001b[90m.\u001b[39m\u001b[90m.\u001b[39m\u001b[90m.\u001b[39m\u001b[90m.\u001b[39m\u001b[90m.\u001b[39m\u001b[90m.\u001b[39m\u001b[90m.\u001b[39m\u001b[90m.\u001b[39m\u001b[90m 31ms\u001b[39m \u001b[32;1mDONE\u001b[39;22m\n",
      "  2023_01_07_205800_create_boughts_table \u001b[90m.\u001b[39m\u001b[90m.\u001b[39m\u001b[90m.\u001b[39m\u001b[90m.\u001b[39m\u001b[90m.\u001b[39m\u001b[90m.\u001b[39m\u001b[90m.\u001b[39m\u001b[90m.\u001b[39m\u001b[90m.\u001b[39m\u001b[90m.\u001b[39m\u001b[90m.\u001b[39m\u001b[90m.\u001b[39m\u001b[90m.\u001b[39m\u001b[90m.\u001b[39m\u001b[90m.\u001b[39m\u001b[90m.\u001b[39m\u001b[90m.\u001b[39m\u001b[90m.\u001b[39m\u001b[90m.\u001b[39m\u001b[90m.\u001b[39m\u001b[90m.\u001b[39m\u001b[90m.\u001b[39m\u001b[90m.\u001b[39m\u001b[90m.\u001b[39m\u001b[90m.\u001b[39m\u001b[90m.\u001b[39m\u001b[90m.\u001b[39m\u001b[90m 37ms\u001b[39m \u001b[32;1mDONE\u001b[39;22m\n",
      "  2023_01_12_103035_create_deleteds_table \u001b[90m.\u001b[39m\u001b[90m.\u001b[39m\u001b[90m.\u001b[39m\u001b[90m.\u001b[39m\u001b[90m.\u001b[39m\u001b[90m.\u001b[39m\u001b[90m.\u001b[39m\u001b[90m.\u001b[39m\u001b[90m.\u001b[39m\u001b[90m.\u001b[39m\u001b[90m.\u001b[39m\u001b[90m.\u001b[39m\u001b[90m.\u001b[39m\u001b[90m.\u001b[39m\u001b[90m.\u001b[39m\u001b[90m.\u001b[39m\u001b[90m.\u001b[39m\u001b[90m.\u001b[39m\u001b[90m.\u001b[39m\u001b[90m.\u001b[39m\u001b[90m.\u001b[39m\u001b[90m.\u001b[39m\u001b[90m.\u001b[39m\u001b[90m.\u001b[39m\u001b[90m.\u001b[39m\u001b[90m.\u001b[39m\u001b[90m 39ms\u001b[39m \u001b[32;1mDONE\u001b[39;22m\n",
      "\n"
     ]
    }
   ],
   "source": [
    "! php artisan migrate:fresh"
   ]
  },
  {
   "cell_type": "code",
   "execution_count": 12,
   "metadata": {},
   "outputs": [
    {
     "name": "stdout",
     "output_type": "stream",
     "text": [
      "\n",
      "  \u001b[37;44m INFO \u001b[39;49m Seeding database.  \n",
      "\n",
      "  Database\\Seeders\\UsersSeeder \u001b[90m.......................................\u001b[39m \u001b[33;1mRUNNING\u001b[39;22m  \n",
      "  Database\\Seeders\\UsersSeeder \u001b[90m................................\u001b[39m \u001b[90m266.80 ms\u001b[39m \u001b[32;1mDONE\u001b[39;22m  \n",
      "\n"
     ]
    }
   ],
   "source": [
    "! php artisan db:seed"
   ]
  },
  {
   "cell_type": "code",
   "execution_count": 13,
   "metadata": {},
   "outputs": [
    {
     "name": "stdout",
     "output_type": "stream",
     "text": [
      "mysqldump: [Warning] Using a password on the command line interface can be insecure.\r\n"
     ]
    }
   ],
   "source": [
    "! mysqldump -h127.0.0.1 -u root --password=root123 test > tests_codeception/_data/dump.sql"
   ]
  },
  {
   "cell_type": "code",
   "execution_count": 14,
   "metadata": {},
   "outputs": [
    {
     "name": "stdout",
     "output_type": "stream",
     "text": [
      "\u001b[K\u001b[?25hm##################\u001b[0m) ⠴ reify:@esbuild/android-arm: \u001b[32;40mtiming\u001b[0m \u001b[35mreifyNode:node_module\u001b[0m\u001b[K\u001b[0m\u001b[K\n",
      "up to date, audited 94 packages in 886ms\n",
      "\n",
      "20 packages are looking for funding\n",
      "  run `npm fund` for details\n",
      "\n",
      "found \u001b[32m\u001b[1m0\u001b[22m\u001b[39m vulnerabilities\n"
     ]
    }
   ],
   "source": [
    "! npm install"
   ]
  },
  {
   "cell_type": "code",
   "execution_count": 15,
   "metadata": {},
   "outputs": [
    {
     "name": "stdout",
     "output_type": "stream",
     "text": [
      "\n",
      "> build\n",
      "> vite build\n",
      "\n",
      "\u001b[36mvite v3.2.4 \u001b[32mbuilding for production...\u001b[36m\u001b[39m\n",
      "\u001b[2K\u001b[1Gtransforming (1) \u001b[2mresources/js/app.js\u001b[22m\u001b[2K\u001b[1Gtransforming (3) \u001b[2mresources/js/bootstrap.js\u001b[22m\u001b[2K\u001b[1Gtransforming (8) \u001b[2mnode_modules/axios/lib/axios.js\u001b[22m\u001b[2K\u001b[1Gtransforming (9) \u001b[2mnode_modules/axios/lib/utils.js\u001b[22m\u001b[2K\u001b[1Gtransforming (41) \u001b[2mnode_modules/axios/lib/platform/browser/index.js\u001b[22m\u001b[2K\u001b[1G\u001b[32m✓\u001b[39m 49 modules transformed.\n",
      "\u001b[2K\u001b[1Grendering chunks (1)...\u001b[2K\u001b[1Grendering chunks (2)...\u001b[2K\u001b[1G\u001b[90m\u001b[37m\u001b[2mpublic/build/\u001b[22m\u001b[90m\u001b[39m\u001b[32mmanifest.json            \u001b[39m \u001b[2m0.25 KiB\u001b[22m\n",
      "\u001b[90m\u001b[37m\u001b[2mpublic/build/\u001b[22m\u001b[90m\u001b[39m\u001b[35massets/app.4c128d53.css  \u001b[39m \u001b[2m27.17 KiB / gzip: 5.39 KiB\u001b[22m\n",
      "\u001b[90m\u001b[37m\u001b[2mpublic/build/\u001b[22m\u001b[90m\u001b[39m\u001b[36massets/app.d426e523.js   \u001b[39m \u001b[2m135.11 KiB / gzip: 49.03 KiB\u001b[22m\n"
     ]
    }
   ],
   "source": [
    "! npm run build"
   ]
  },
  {
   "cell_type": "code",
   "execution_count": 16,
   "metadata": {},
   "outputs": [
    {
     "name": "stdout",
     "output_type": "stream",
     "text": [
      "\n",
      "  \u001b[30;42;1m PASS \u001b[39;49;22m\u001b[39m Tests\\Unit\\ExampleTest\u001b[39m\n",
      "  \u001b[32;1m✓\u001b[39;22m\u001b[39m \u001b[2mthat true is true\u001b[22m\u001b[39m\n",
      "\n",
      "  \u001b[30;42;1m PASS \u001b[39;49;22m\u001b[39m Tests\\Feature\\ExampleTest\u001b[39m\n",
      "  \u001b[32;1m✓\u001b[39;22m\u001b[39m \u001b[2mthe application returns a successful response\u001b[22m\u001b[39m\n",
      "\n",
      "  \u001b[37;1mTests:  \u001b[39;22m\u001b[32;1m2 passed\u001b[39;22m\n",
      "  \u001b[37;1mTime:   \u001b[39;22m\u001b[39m0.15s\u001b[39m\n",
      "\n",
      "\n"
     ]
    }
   ],
   "source": [
    "! php artisan test"
   ]
  },
  {
   "cell_type": "code",
   "execution_count": 17,
   "metadata": {},
   "outputs": [],
   "source": [
    "import subprocess\n",
    "artisanServe = subprocess.Popen(['php', 'artisan', 'serve', '--port', '8888'])"
   ]
  },
  {
   "cell_type": "code",
   "execution_count": 18,
   "metadata": {},
   "outputs": [
    {
     "name": "stdout",
     "output_type": "stream",
     "text": [
      "Codeception PHP Testing Framework v5.0.4 https://helpukrainewin.org\n",
      "\n",
      "\u001b[1mTestsCodeception.Acceptance Tests (15) \u001b[22m-----------------------------------------\n",
      "- \u001b[35;1mTest00_HomepageCest:\u001b[39;22m Zobaczyć co jest na stronie startowej i poklikać w linki\n",
      "   INFO  Server running on [http://127.0.0.1:8888].  \n",
      "\n",
      "  Press Ctrl+C to stop the server\n",
      "\n",
      "  2023-01-15 17:35:14 ................................................... ~ 1s\n",
      "  2023-01-15 17:35:15 ................................................... ~ 0s\n",
      "  2023-01-15 17:35:15 ................................................... ~ 0s\n",
      "  2023-01-15 17:35:15 ................................................... ~ 0s\n",
      "  2023-01-15 17:35:15 ................................................... ~ 0s\n",
      "\u001b[32;1m✔\u001b[39;22m \u001b[35;1mTest00_HomepageCest:\u001b[39;22m Zobaczyć co jest na stronie startowej i poklikać w linki \u001b[32m(0.86s)\u001b[39m\n",
      "- \u001b[35;1mTest00_Login_AdminCest:\u001b[39;22m I want to log in on admin and see correct tabs  2023-01-15 17:35:15 ................................................... ~ 0s\n",
      "  2023-01-15 17:35:15 ................................................... ~ 0s\n",
      "  2023-01-15 17:35:15 ................................................... ~ 0s\n",
      "  2023-01-15 17:35:15 ................................................... ~ 0s\n",
      "  2023-01-15 17:35:15 ................................................... ~ 0s\n",
      "  2023-01-15 17:35:15 ................................................... ~ 0s\n",
      "  2023-01-15 17:35:15 ................................................... ~ 0s\n",
      "  2023-01-15 17:35:15 ................................................... ~ 0s\n",
      "  2023-01-15 17:35:15 ................................................... ~ 0s\n",
      "\u001b[32;1m✔\u001b[39;22m \u001b[35;1mTest00_Login_AdminCest:\u001b[39;22m I want to log in on admin and see correct tabs \u001b[32m(0.23s)\u001b[39m\n",
      "- \u001b[35;1mTest01_Delete_BrowseOfferCest:\u001b[39;22m Delete offer in browse offers tab  2023-01-15 17:35:16 ................................................... ~ 0s\n",
      "  2023-01-15 17:35:16 ................................................... ~ 0s\n",
      "  2023-01-15 17:35:16 ................................................... ~ 0s\n",
      "  2023-01-15 17:35:16 ................................................... ~ 0s\n",
      "  2023-01-15 17:35:17 ................................................... ~ 0s\n",
      "  2023-01-15 17:35:17 ................................................... ~ 0s\n",
      "\u001b[32;1m✔\u001b[39;22m \u001b[35;1mTest01_Delete_BrowseOfferCest:\u001b[39;22m Delete offer in browse offers tab \u001b[32m(0.52s)\u001b[39m\n",
      "- \u001b[35;1mTest01_RegisterCest:\u001b[39;22m Sprawdzenie całej rejestracji  2023-01-15 17:35:17 ................................................... ~ 0s\n",
      "  2023-01-15 17:35:17 ................................................... ~ 0s\n",
      "  2023-01-15 17:35:17 ................................................... ~ 0s\n",
      "  2023-01-15 17:35:17 ................................................... ~ 0s\n",
      "  2023-01-15 17:35:17 ................................................... ~ 0s\n",
      "  2023-01-15 17:35:17 ................................................... ~ 0s\n",
      "  2023-01-15 17:35:17 ................................................... ~ 0s\n",
      "  2023-01-15 17:35:18 ................................................... ~ 0s\n",
      "  2023-01-15 17:35:18 ................................................... ~ 0s\n",
      "  2023-01-15 17:35:18 ................................................... ~ 0s\n",
      "  2023-01-15 17:35:18 ................................................... ~ 0s\n",
      "  2023-01-15 17:35:18 ................................................... ~ 0s\n",
      "  2023-01-15 17:35:18 ................................................... ~ 0s\n",
      "  2023-01-15 17:35:18 ................................................... ~ 0s\n",
      "  2023-01-15 17:35:18 ................................................... ~ 0s\n",
      "  2023-01-15 17:35:18 ................................................... ~ 0s\n",
      "  2023-01-15 17:35:18 ................................................... ~ 0s\n",
      "  2023-01-15 17:35:18 ................................................... ~ 0s\n",
      "  2023-01-15 17:35:18 ................................................... ~ 1s\n",
      "\u001b[32;1m✔\u001b[39;22m \u001b[35;1mTest01_RegisterCest:\u001b[39;22m Sprawdzenie całej rejestracji \u001b[32m(0.57s)\u001b[39m\n",
      "- \u001b[35;1mTest02_LoginCest:\u001b[39;22m Zalogować się i sprawdzić zmiany w koncie  2023-01-15 17:35:19 ................................................... ~ 0s\n",
      "  2023-01-15 17:35:19 ................................................... ~ 0s\n",
      "  2023-01-15 17:35:19 ................................................... ~ 0s\n",
      "  2023-01-15 17:35:19 ................................................... ~ 0s\n",
      "  2023-01-15 17:35:19 ................................................... ~ 1s\n",
      "  2023-01-15 17:35:20 ................................................... ~ 0s\n",
      "  2023-01-15 17:35:20 ................................................... ~ 0s\n",
      "  2023-01-15 17:35:20 ................................................... ~ 0s\n",
      "  2023-01-15 17:35:20 ................................................... ~ 0s\n",
      "  2023-01-15 17:35:20 ................................................... ~ 0s\n",
      "  2023-01-15 17:35:20 ................................................... ~ 0s\n",
      "  2023-01-15 17:35:20 ................................................... ~ 0s\n",
      "  2023-01-15 17:35:20 ................................................... ~ 0s\n",
      "  2023-01-15 17:35:20 ................................................... ~ 0s\n",
      "  2023-01-15 17:35:20 ................................................... ~ 0s\n",
      "  2023-01-15 17:35:20 ................................................... ~ 0s\n",
      "  2023-01-15 17:35:20 ................................................... ~ 1s\n",
      "  2023-01-15 17:35:21 ................................................... ~ 0s\n",
      "  2023-01-15 17:35:21 ................................................... ~ 0s\n",
      "  2023-01-15 17:35:21 ................................................... ~ 0s\n",
      "  2023-01-15 17:35:21 ................................................... ~ 0s\n",
      "  2023-01-15 17:35:21 ................................................... ~ 0s\n",
      "  2023-01-15 17:35:21 ................................................... ~ 0s\n",
      "  2023-01-15 17:35:21 ................................................... ~ 0s\n",
      "\u001b[32;1m✔\u001b[39;22m \u001b[35;1mTest02_LoginCest:\u001b[39;22m Zalogować się i sprawdzić zmiany w koncie \u001b[32m(1.95s)\u001b[39m\n",
      "- \u001b[35;1mTest02_ReportedOffersCest:\u001b[39;22m Accept reported offer  2023-01-15 17:35:22 ................................................... ~ 0s\n",
      "  2023-01-15 17:35:22 ................................................... ~ 0s\n",
      "  2023-01-15 17:35:22 ................................................... ~ 0s\n",
      "  2023-01-15 17:35:22 ................................................... ~ 0s\n",
      "  2023-01-15 17:35:22 ................................................... ~ 0s\n",
      "  2023-01-15 17:35:22 ................................................... ~ 0s\n",
      "  2023-01-15 17:35:22 ................................................... ~ 0s\n",
      "\u001b[32;1m✔\u001b[39;22m \u001b[35;1mTest02_ReportedOffersCest:\u001b[39;22m Accept reported offer \u001b[32m(0.49s)\u001b[39m\n",
      "- \u001b[35;1mTest03_ChangeCategoryCest:\u001b[39;22m Delete offer and change its category  2023-01-15 17:35:22 ................................................... ~ 0s\n",
      "  2023-01-15 17:35:22 ................................................... ~ 0s\n",
      "  2023-01-15 17:35:23 ................................................... ~ 0s\n",
      "  2023-01-15 17:35:23 ................................................... ~ 0s\n",
      "  2023-01-15 17:35:23 ................................................... ~ 0s\n",
      "  2023-01-15 17:35:23 ................................................... ~ 0s\n",
      "  2023-01-15 17:35:23 ................................................... ~ 0s\n",
      "\u001b[32;1m✔\u001b[39;22m \u001b[35;1mTest03_ChangeCategoryCest:\u001b[39;22m Delete offer and change its category \u001b[32m(0.67s)\u001b[39m\n",
      "- \u001b[35;1mTest03_DashboardCest:\u001b[39;22m Zobaczyć jak działa zakładka dashboard po zalogowaniu  2023-01-15 17:35:23 ................................................... ~ 0s\n",
      "  2023-01-15 17:35:23 ................................................... ~ 0s\n",
      "  2023-01-15 17:35:23 ................................................... ~ 0s\n",
      "  2023-01-15 17:35:23 ................................................... ~ 0s\n",
      "  2023-01-15 17:35:23 ................................................... ~ 0s\n",
      "  2023-01-15 17:35:23 ................................................... ~ 1s\n",
      "  2023-01-15 17:35:24 ................................................... ~ 0s\n"
     ]
    },
    {
     "name": "stdout",
     "output_type": "stream",
     "text": [
      "\u001b[32;1m✔\u001b[39;22m \u001b[35;1mTest03_DashboardCest:\u001b[39;22m Zobaczyć jak działa zakładka dashboard po zalogowaniu \u001b[32m(0.27s)\u001b[39m\n",
      "- \u001b[35;1mTest04_BrowseOffersCest:\u001b[39;22m Zobaczyć jak działa zakładka Browse offer po zalogowaniu, kupno/report  2023-01-15 17:35:24 ................................................... ~ 0s\n",
      "  2023-01-15 17:35:24 ................................................... ~ 0s\n",
      "  2023-01-15 17:35:24 ................................................... ~ 0s\n",
      "  2023-01-15 17:35:24 ................................................... ~ 1s\n",
      "  2023-01-15 17:35:25 ................................................... ~ 0s\n",
      "  2023-01-15 17:35:25 ................................................... ~ 0s\n",
      "  2023-01-15 17:35:25 ................................................... ~ 0s\n",
      "  2023-01-15 17:35:25 ................................................... ~ 0s\n",
      "  2023-01-15 17:35:25 ................................................... ~ 0s\n",
      "  2023-01-15 17:35:26 ................................................... ~ 0s\n",
      "  2023-01-15 17:35:26 ................................................... ~ 0s\n",
      "  2023-01-15 17:35:26 ................................................... ~ 0s\n",
      "  2023-01-15 17:35:26 ................................................... ~ 0s\n",
      "  2023-01-15 17:35:26 ................................................... ~ 0s\n",
      "  2023-01-15 17:35:26 ................................................... ~ 0s\n",
      "\u001b[32;1m✔\u001b[39;22m \u001b[35;1mTest04_BrowseOffersCest:\u001b[39;22m Zobaczyć jak działa zakładka Browse offer po zalogowaniu, kupno/report \u001b[32m(1.04s)\u001b[39m\n",
      "- \u001b[35;1mTest04_ReportedOffersEmptyCest:\u001b[39;22m Rep  2023-01-15 17:35:26 ................................................... ~ 0s\n",
      "  2023-01-15 17:35:26 ................................................... ~ 0s\n",
      "  2023-01-15 17:35:26 ................................................... ~ 0s\n",
      "  2023-01-15 17:35:26 ................................................... ~ 0s\n",
      "  2023-01-15 17:35:26 ................................................... ~ 0s\n",
      "  2023-01-15 17:35:26 ................................................... ~ 0s\n",
      "  2023-01-15 17:35:27 ................................................... ~ 0s\n",
      "  2023-01-15 17:35:27 ................................................... ~ 0s\n",
      "\u001b[32;1m✔\u001b[39;22m \u001b[35;1mTest04_ReportedOffersEmptyCest:\u001b[39;22m Rep \u001b[32m(0.29s)\u001b[39m\n",
      "- \u001b[35;1mTest05_ReportedChangeCest:\u001b[39;22m Change category in reported offers tab  2023-01-15 17:35:27 ................................................... ~ 0s\n",
      "  2023-01-15 17:35:27 ................................................... ~ 0s\n",
      "  2023-01-15 17:35:27 ................................................... ~ 0s\n",
      "  2023-01-15 17:35:28 ................................................... ~ 0s\n",
      "  2023-01-15 17:35:28 ................................................... ~ 0s\n",
      "  2023-01-15 17:35:28 ................................................... ~ 0s\n",
      "  2023-01-15 17:35:28 ................................................... ~ 0s\n",
      "  2023-01-15 17:35:28 ................................................... ~ 0s\n",
      "\u001b[32;1m✔\u001b[39;22m \u001b[35;1mTest05_ReportedChangeCest:\u001b[39;22m Change category in reported offers tab \u001b[32m(0.49s)\u001b[39m\n",
      "- \u001b[35;1mTest05_SellProductCest:\u001b[39;22m Sprawdzić zakładki sprzedaży i edycji własnego ogłoszenia  2023-01-15 17:35:28 ................................................... ~ 0s\n",
      "  2023-01-15 17:35:28 ................................................... ~ 0s\n",
      "  2023-01-15 17:35:28 ................................................... ~ 0s\n",
      "  2023-01-15 17:35:28 ................................................... ~ 0s\n",
      "  2023-01-15 17:35:29 ................................................... ~ 0s\n",
      "  2023-01-15 17:35:29 ................................................... ~ 0s\n",
      "  2023-01-15 17:35:29 ................................................... ~ 0s\n",
      "  2023-01-15 17:35:29 ................................................... ~ 0s\n",
      "  2023-01-15 17:35:29 ................................................... ~ 0s\n",
      "  2023-01-15 17:35:29 ................................................... ~ 0s\n",
      "  2023-01-15 17:35:29 ................................................... ~ 0s\n",
      "  2023-01-15 17:35:29 ................................................... ~ 0s\n",
      "  2023-01-15 17:35:29 ................................................... ~ 0s\n",
      "  2023-01-15 17:35:29 ................................................... ~ 0s\n",
      "  2023-01-15 17:35:29 ................................................... ~ 0s\n",
      "  2023-01-15 17:35:29 ................................................... ~ 0s\n",
      "  2023-01-15 17:35:29 ................................................... ~ 0s\n",
      "\u001b[32;1m✔\u001b[39;22m \u001b[35;1mTest05_SellProductCest:\u001b[39;22m Sprawdzić zakładki sprzedaży i edycji własnego ogłoszenia \u001b[32m(0.99s)\u001b[39m\n",
      "- \u001b[35;1mTest06_PurchaseHistoryCest:\u001b[39;22m Zobaczyć co jest na stronie startowej i poklikać w linki  2023-01-15 17:35:29 ................................................... ~ 0s\n",
      "  2023-01-15 17:35:29 ................................................... ~ 1s\n",
      "  2023-01-15 17:35:30 ................................................... ~ 0s\n",
      "  2023-01-15 17:35:30 ................................................... ~ 0s\n",
      "  2023-01-15 17:35:30 ................................................... ~ 0s\n",
      "  2023-01-15 17:35:30 ................................................... ~ 0s\n",
      "  2023-01-15 17:35:30 ................................................... ~ 0s\n",
      "  2023-01-15 17:35:30 ................................................... ~ 1s\n",
      "  2023-01-15 17:35:31 ................................................... ~ 0s\n",
      "  2023-01-15 17:35:31 ................................................... ~ 0s\n",
      "  2023-01-15 17:35:31 ................................................... ~ 0s\n",
      "  2023-01-15 17:35:31 ................................................... ~ 0s\n",
      "\u001b[32;1m✔\u001b[39;22m \u001b[35;1mTest06_PurchaseHistoryCest:\u001b[39;22m Zobaczyć co jest na stronie startowej i poklikać w linki \u001b[32m(1.03s)\u001b[39m\n",
      "- \u001b[35;1mTest06_ReportedDeleteCest:\u001b[39;22m Repdelete  2023-01-15 17:35:31 ................................................... ~ 0s\n",
      "  2023-01-15 17:35:31 ................................................... ~ 0s\n",
      "  2023-01-15 17:35:31 ................................................... ~ 0s\n",
      "  2023-01-15 17:35:32 ................................................... ~ 0s\n",
      "  2023-01-15 17:35:32 ................................................... ~ 0s\n",
      "  2023-01-15 17:35:32 ................................................... ~ 0s\n",
      "  2023-01-15 17:35:32 ................................................... ~ 0s\n",
      "  2023-01-15 17:35:32 ................................................... ~ 0s\n",
      "  2023-01-15 17:35:32 ................................................... ~ 0s\n",
      "  2023-01-15 17:35:32 ................................................... ~ 0s\n",
      "  2023-01-15 17:35:32 ................................................... ~ 0s\n",
      "  2023-01-15 17:35:32 ................................................... ~ 1s\n",
      "  2023-01-15 17:35:33 ................................................... ~ 0s\n",
      "\u001b[32;1m✔\u001b[39;22m \u001b[35;1mTest06_ReportedDeleteCest:\u001b[39;22m Repdelete \u001b[32m(0.73s)\u001b[39m\n",
      "- \u001b[35;1mTest07_UsersCest:\u001b[39;22m Usertest  2023-01-15 17:35:33 ................................................... ~ 0s\n",
      "  2023-01-15 17:35:33 ................................................... ~ 0s\n",
      "  2023-01-15 17:35:33 ................................................... ~ 1s\n",
      "  2023-01-15 17:35:34 ................................................... ~ 0s\n",
      "  2023-01-15 17:35:34 ................................................... ~ 0s\n",
      "  2023-01-15 17:35:34 ................................................... ~ 0s\n",
      "  2023-01-15 17:35:34 ................................................... ~ 0s\n",
      "  2023-01-15 17:35:34 ................................................... ~ 0s\n",
      "  2023-01-15 17:35:34 ................................................... ~ 0s\n",
      "  2023-01-15 17:35:34 ................................................... ~ 0s\n",
      "  2023-01-15 17:35:34 ................................................... ~ 0s\n",
      "  2023-01-15 17:35:34 ................................................... ~ 0s\n",
      "\u001b[32;1m✔\u001b[39;22m \u001b[35;1mTest07_UsersCest:\u001b[39;22m Usertest \u001b[32m(0.81s)\u001b[39m\n",
      "--------------------------------------------------------------------------------\n",
      "Time: 00:21.078, Memory: 14.00 MB\n",
      "\n",
      "\u001b[30;42mOK (15 tests, 243 assertions)\u001b[39;49m\n"
     ]
    }
   ],
   "source": [
    "! vendor/bin/codecept run"
   ]
  },
  {
   "cell_type": "code",
   "execution_count": 19,
   "metadata": {},
   "outputs": [],
   "source": [
    "! killall php php8.1"
   ]
  },
  {
   "cell_type": "code",
   "execution_count": 20,
   "metadata": {},
   "outputs": [
    {
     "name": "stdout",
     "output_type": "stream",
     "text": [
      "/home/student/php_2022_platforma_e-handlu_typu_olx/09_laravel_tdd\n"
     ]
    }
   ],
   "source": [
    "%cd .."
   ]
  },
  {
   "cell_type": "markdown",
   "metadata": {},
   "source": [
    "Stop database:"
   ]
  },
  {
   "cell_type": "code",
   "execution_count": null,
   "metadata": {},
   "outputs": [],
   "source": [
    "! docker container stop mysql"
   ]
  }
 ],
 "metadata": {
  "kernelspec": {
   "display_name": "Python 3 (ipykernel)",
   "language": "python",
   "name": "python3"
  },
  "language_info": {
   "codemirror_mode": {
    "name": "ipython",
    "version": 3
   },
   "file_extension": ".py",
   "mimetype": "text/x-python",
   "name": "python",
   "nbconvert_exporter": "python",
   "pygments_lexer": "ipython3",
   "version": "3.10.6"
  }
 },
 "nbformat": 4,
 "nbformat_minor": 4
}
