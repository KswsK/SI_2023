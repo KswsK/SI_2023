{
 "cells": [
  {
   "cell_type": "markdown",
   "metadata": {},
   "source": [
    "# PHP 2022"
   ]
  },
  {
   "cell_type": "markdown",
   "metadata": {},
   "source": [
    "## 9. Laravel TDD"
   ]
  },
  {
   "cell_type": "markdown",
   "metadata": {},
   "source": [
    "This project was started from the solution of the previous exercise.\n",
    "\n",
    "#### Laravel Breeze\n",
    "\n",
    "The [Laravel Breeze](https://laravel.com/docs/9.x/starter-kits#laravel-breeze) package was installed using the ```composer require laravel/breeze --dev``` and ```php artisan breeze:install``` commands. This package enables user registration and logging into the application.\n",
    "\n",
    "An example user is added through the [database/seeders/UsersSeeder.php](../../edit/09_laravel_tdd/project/database/seeders/UsersSeeder.php) class generated using the ```php artisan make:seeder UsersSeeder``` command. The database seeding is done during the execution of the ```php artisan db:seed``` command before the database dump.\n",
    "\n",
    "The logging-in is tested in the [tests_codeception/Acceptance/Test02_LoginCest.php](../../edit/09_laravel_tdd/project/tests_codeception/Acceptance/Test02_LoginCest.php) test.\n",
    "\n",
    "Extensive testing is also done when executing the ```php artisan test``` command because the ```php artisan breeze:install``` command added many additional tests.\n",
    "\n",
    "Because there are many tests, it was possible to safely clean up PHPStan issues in the code added by ```php artisan breeze:install``` command.\n",
    "\n",
    "#### Laravel Markdown\n",
    "\n",
    "The next change done in the project was the use of the [graham-campbell/markdown](https://packagist.org/packages/graham-campbell/markdown) package, which adds support for Markdown in Laravel.\n",
    "\n",
    "The package was installed using the ```composer require graham-campbell/markdown``` command.\n",
    "\n",
    "The [tests_codeception/Acceptance/Test01_CommentsCest.php](../../edit/09_laravel_tdd/project/tests_codeception/Acceptance/Test01_CommentsCest.php) test was extended to test for adding some **bold** text. The [resources/views/comments/show.blade.php](../../edit/09_laravel_tdd/project/resources/views/comments/show.blade.php) view was updated to render the Markdown.\n",
    "\n",
    "#### Tailwind CSS\n",
    "\n",
    "The [tailwindcss](https://tailwindcss.com/) is used to style the front end. Some examples of how to build components in HTML with CSS can be found on, e.g., [flowbite](https://flowbite.com/) site.\n",
    "\n",
    "However, I am not an expert here, so there might be much better resources ;)"
   ]
  },
  {
   "cell_type": "markdown",
   "metadata": {},
   "source": [
    "Start database:"
   ]
  },
  {
   "cell_type": "code",
   "execution_count": 16,
   "metadata": {},
   "outputs": [
    {
     "name": "stdout",
     "output_type": "stream",
     "text": [
      "0f5d5d370dd594e789dba9d5270c7e91c74d1dc0249d2b978398c4d0eeacd3ca\r\n"
     ]
    }
   ],
   "source": [
    "! docker run --name=mysql --net=host --rm --env MYSQL_ROOT_PASSWORD=root123 --env MYSQL_ROOT_HOST=% --env MYSQL_DATABASE=test --env MYSQL_USER=test --env MYSQL_PASSWORD=test123 -d mysql/mysql-server:8.0"
   ]
  },
  {
   "cell_type": "code",
   "execution_count": 17,
   "metadata": {},
   "outputs": [
    {
     "name": "stdout",
     "output_type": "stream",
     "text": [
      "Done.\r\n"
     ]
    }
   ],
   "source": [
    "! while ! timeout 1 bash -c \"echo > /dev/tcp/localhost/3306\" 2> /dev/null; do sleep 1; done; echo \"Done.\";"
   ]
  },
  {
   "cell_type": "markdown",
   "metadata": {},
   "source": [
    "Edit the code:"
   ]
  },
  {
   "cell_type": "code",
   "execution_count": null,
   "metadata": {},
   "outputs": [
    {
     "name": "stdout",
     "output_type": "stream",
     "text": [
      "CompileCommand: exclude com/intellij/openapi/vfs/impl/FilePartNodeRoot.trieDescend bool exclude = true\n",
      "2023-05-07 13:03:12,954 [   1287] SEVERE - #c.i.d.LoadingState - Should be called at least in the state COMPONENTS_LOADED, the current state is: CONFIGURATION_STORE_INITIALIZED\n",
      "Current violators count: 1\n",
      "\n",
      "\n",
      "java.lang.Throwable\n",
      "\tat com.intellij.diagnostic.LoadingState.logStateError(LoadingState.java:52)\n",
      "\tat com.intellij.diagnostic.LoadingState.checkOccurred(LoadingState.java:48)\n",
      "\tat com.intellij.openapi.actionSystem.impl.ActionManagerImpl.<init>(ActionManagerImpl.java:133)\n",
      "\tat com.jetbrains.rdserver.ui.actionPopupMenu.BackendActionManager.<init>(BackendActionManager.kt:17)\n",
      "\tat java.base/jdk.internal.reflect.NativeConstructorAccessorImpl.newInstance0(Native Method)\n",
      "\tat java.base/jdk.internal.reflect.NativeConstructorAccessorImpl.newInstance(NativeConstructorAccessorImpl.java:77)\n",
      "\tat java.base/jdk.internal.reflect.DelegatingConstructorAccessorImpl.newInstance(DelegatingConstructorAccessorImpl.java:45)\n",
      "\tat java.base/java.lang.reflect.Constructor.newInstanceWithCaller(Constructor.java:499)\n",
      "\tat java.base/java.lang.reflect.Constructor.newInstance(Constructor.java:480)\n",
      "\tat com.intellij.serviceContainer.ConstructorInjectionKt.instantiateUsingPicoContainer(constructorInjection.kt:47)\n",
      "\tat com.intellij.serviceContainer.ComponentManagerImpl.instantiateClassWithConstructorInjection(ComponentManagerImpl.kt:890)\n",
      "\tat com.intellij.serviceContainer.ServiceComponentAdapter.createAndInitialize(ServiceComponentAdapter.kt:51)\n",
      "\tat com.intellij.serviceContainer.ServiceComponentAdapter.doCreateInstance(ServiceComponentAdapter.kt:41)\n",
      "\tat com.intellij.serviceContainer.BaseComponentAdapter.getInstanceUncached(BaseComponentAdapter.kt:119)\n",
      "\tat com.intellij.serviceContainer.BaseComponentAdapter.getInstance(BaseComponentAdapter.kt:73)\n",
      "\tat com.intellij.serviceContainer.BaseComponentAdapter.getInstance$default(BaseComponentAdapter.kt:66)\n",
      "\tat com.intellij.serviceContainer.ComponentManagerImpl.doGetService(ComponentManagerImpl.kt:609)\n",
      "\tat com.intellij.serviceContainer.ComponentManagerImpl.getService(ComponentManagerImpl.kt:583)\n",
      "\tat com.intellij.openapi.client.ClientAwareComponentManager.getFromSelfOrCurrentSession(ClientAwareComponentManager.kt:37)\n",
      "\tat com.intellij.openapi.client.ClientAwareComponentManager.getService(ClientAwareComponentManager.kt:22)\n",
      "\tat com.intellij.openapi.actionSystem.ActionManager.getInstance(ActionManager.java:29)\n",
      "\tat com.intellij.help.impl.KeymapGenerator.<clinit>(KeymapGenerator.java:33)\n",
      "\tat java.base/jdk.internal.misc.Unsafe.allocateInstance(Native Method)\n",
      "\tat java.base/java.lang.invoke.DirectMethodHandle.allocateInstance(DirectMethodHandle.java:520)\n",
      "\tat com.intellij.serviceContainer.ComponentManagerImpl.instantiateClass(ComponentManagerImpl.kt:844)\n",
      "\tat com.intellij.openapi.extensions.impl.XmlExtensionAdapter.instantiateClass(XmlExtensionAdapter.kt:79)\n",
      "\tat com.intellij.openapi.extensions.impl.XmlExtensionAdapter$SimpleConstructorInjectionAdapter.instantiateClass(XmlExtensionAdapter.kt:90)\n",
      "\tat com.intellij.openapi.extensions.impl.XmlExtensionAdapter.doCreateInstance(XmlExtensionAdapter.kt:50)\n",
      "\tat com.intellij.openapi.extensions.impl.XmlExtensionAdapter.createInstance(XmlExtensionAdapter.kt:31)\n",
      "\tat com.intellij.openapi.extensions.impl.ExtensionPointImpl.processAdapter(ExtensionPointImpl.java:447)\n",
      "\tat com.intellij.openapi.extensions.impl.ExtensionPointImpl.access$200(ExtensionPointImpl.java:33)\n",
      "\tat com.intellij.openapi.extensions.impl.ExtensionPointImpl$1.next(ExtensionPointImpl.java:355)\n",
      "\tat com.intellij.idea.ApplicationLoader.findAppStarter(ApplicationLoader.kt:595)\n",
      "\tat com.intellij.idea.ApplicationLoader.access$findAppStarter(ApplicationLoader.kt:1)\n",
      "\tat com.intellij.idea.ApplicationLoader$initApplication$block$3.apply(ApplicationLoader.kt:170)\n",
      "\tat com.intellij.idea.ApplicationLoader$initApplication$block$3.apply(ApplicationLoader.kt)\n",
      "\tat java.base/java.util.concurrent.CompletableFuture$UniCompose.tryFire(CompletableFuture.java:1150)\n",
      "\tat java.base/java.util.concurrent.CompletableFuture.postComplete(CompletableFuture.java:510)\n",
      "\tat java.base/java.util.concurrent.CompletableFuture.postFire(CompletableFuture.java:614)\n",
      "\tat java.base/java.util.concurrent.CompletableFuture$UniCompose.tryFire(CompletableFuture.java:1163)\n",
      "\tat java.base/java.util.concurrent.CompletableFuture$Completion.run(CompletableFuture.java:482)\n",
      "\tat com.intellij.idea.ApplicationLoader$initApplication$block$2.execute(ApplicationLoader.kt:142)\n",
      "\tat java.base/java.util.concurrent.CompletableFuture$UniCompletion.claim(CompletableFuture.java:572)\n",
      "\tat java.base/java.util.concurrent.CompletableFuture$UniCompose.tryFire(CompletableFuture.java:1147)\n",
      "\tat java.base/java.util.concurrent.CompletableFuture.postComplete(CompletableFuture.java:510)\n",
      "\tat java.base/java.util.concurrent.CompletableFuture.postFire(CompletableFuture.java:614)\n",
      "\tat java.base/java.util.concurrent.CompletableFuture$UniCompose.tryFire(CompletableFuture.java:1163)\n",
      "\tat java.base/java.util.concurrent.CompletableFuture$Completion.exec(CompletableFuture.java:483)\n",
      "\tat java.base/java.util.concurrent.ForkJoinTask.doExec(ForkJoinTask.java:373)\n",
      "\tat java.base/java.util.concurrent.ForkJoinPool$WorkQueue.topLevelExec(ForkJoinPool.java:1182)\n",
      "\tat java.base/java.util.concurrent.ForkJoinPool.scan(ForkJoinPool.java:1655)\n",
      "\tat java.base/java.util.concurrent.ForkJoinPool.runWorker(ForkJoinPool.java:1622)\n",
      "\tat java.base/java.util.concurrent.ForkJoinWorkerThread.run(ForkJoinWorkerThread.java:165)\n",
      "2023-05-07 13:03:12,969 [   1302] SEVERE - #c.i.d.LoadingState - PhpStorm 2022.2.3  Build #PS-222.4345.15\n",
      "2023-05-07 13:03:12,971 [   1304] SEVERE - #c.i.d.LoadingState - JDK: 17.0.4.1; VM: OpenJDK 64-Bit Server VM; Vendor: JetBrains s.r.o.\n",
      "2023-05-07 13:03:12,971 [   1304] SEVERE - #c.i.d.LoadingState - OS: Linux\n",
      "2023-05-07 13:03:13,479 [   1812] SEVERE - #c.i.d.LoadingState - Should be called at least in the state COMPONENTS_LOADED, the current state is: CONFIGURATION_STORE_INITIALIZED\n",
      "Current violators count: 2\n",
      "\n",
      "\n",
      "java.lang.Throwable\n",
      "\tat com.intellij.diagnostic.LoadingState.logStateError(LoadingState.java:52)\n",
      "\tat com.intellij.diagnostic.LoadingState.checkOccurred(LoadingState.java:48)\n",
      "\tat com.intellij.openapi.util.registry.Registry.getInstance(Registry.java:176)\n",
      "\tat com.intellij.openapi.util.registry.Registry.get(Registry.java:50)\n",
      "\tat com.intellij.openapi.util.registry.Registry.is(Registry.java:63)\n",
      "\tat com.intellij.execution.ExecutorRegistryImpl.isExecutorInMainGroup(ExecutorRegistryImpl.java:195)\n",
      "\tat com.intellij.execution.ExecutorRegistryImpl.initExecutorActions(ExecutorRegistryImpl.java:127)\n",
      "\tat com.intellij.execution.ExecutorRegistryImpl.init(ExecutorRegistryImpl.java:278)\n",
      "\tat com.intellij.execution.ExecutorRegistryImpl$ExecutorRegistryActionConfigurationTuner.customize(ExecutorRegistryImpl.java:92)\n",
      "\tat com.intellij.openapi.actionSystem.impl.ActionManagerImpl.lambda$new$0(ActionManagerImpl.java:141)\n",
      "\tat com.intellij.openapi.extensions.impl.ExtensionProcessingHelper.forEachExtensionSafe(ExtensionProcessingHelper.java:34)\n",
      "\tat com.intellij.openapi.extensions.ExtensionPointName.forEachExtensionSafe(ExtensionPointName.java:46)\n",
      "\tat com.intellij.openapi.actionSystem.impl.ActionManagerImpl.<init>(ActionManagerImpl.java:141)\n",
      "\tat com.jetbrains.rdserver.ui.actionPopupMenu.BackendActionManager.<init>(BackendActionManager.kt:17)\n",
      "\tat java.base/jdk.internal.reflect.NativeConstructorAccessorImpl.newInstance0(Native Method)\n",
      "\tat java.base/jdk.internal.reflect.NativeConstructorAccessorImpl.newInstance(NativeConstructorAccessorImpl.java:77)\n",
      "\tat java.base/jdk.internal.reflect.DelegatingConstructorAccessorImpl.newInstance(DelegatingConstructorAccessorImpl.java:45)\n",
      "\tat java.base/java.lang.reflect.Constructor.newInstanceWithCaller(Constructor.java:499)\n",
      "\tat java.base/java.lang.reflect.Constructor.newInstance(Constructor.java:480)\n",
      "\tat com.intellij.serviceContainer.ConstructorInjectionKt.instantiateUsingPicoContainer(constructorInjection.kt:47)\n",
      "\tat com.intellij.serviceContainer.ComponentManagerImpl.instantiateClassWithConstructorInjection(ComponentManagerImpl.kt:890)\n",
      "\tat com.intellij.serviceContainer.ServiceComponentAdapter.createAndInitialize(ServiceComponentAdapter.kt:51)\n",
      "\tat com.intellij.serviceContainer.ServiceComponentAdapter.doCreateInstance(ServiceComponentAdapter.kt:41)\n",
      "\tat com.intellij.serviceContainer.BaseComponentAdapter.getInstanceUncached(BaseComponentAdapter.kt:119)\n",
      "\tat com.intellij.serviceContainer.BaseComponentAdapter.getInstance(BaseComponentAdapter.kt:73)\n",
      "\tat com.intellij.serviceContainer.BaseComponentAdapter.getInstance$default(BaseComponentAdapter.kt:66)\n",
      "\tat com.intellij.serviceContainer.ComponentManagerImpl.doGetService(ComponentManagerImpl.kt:609)\n",
      "\tat com.intellij.serviceContainer.ComponentManagerImpl.getService(ComponentManagerImpl.kt:583)\n",
      "\tat com.intellij.openapi.client.ClientAwareComponentManager.getFromSelfOrCurrentSession(ClientAwareComponentManager.kt:37)\n",
      "\tat com.intellij.openapi.client.ClientAwareComponentManager.getService(ClientAwareComponentManager.kt:22)\n",
      "\tat com.intellij.openapi.actionSystem.ActionManager.getInstance(ActionManager.java:29)\n",
      "\tat com.intellij.help.impl.KeymapGenerator.<clinit>(KeymapGenerator.java:33)\n",
      "\tat java.base/jdk.internal.misc.Unsafe.allocateInstance(Native Method)\n",
      "\tat java.base/java.lang.invoke.DirectMethodHandle.allocateInstance(DirectMethodHandle.java:520)\n",
      "\tat com.intellij.serviceContainer.ComponentManagerImpl.instantiateClass(ComponentManagerImpl.kt:844)\n",
      "\tat com.intellij.openapi.extensions.impl.XmlExtensionAdapter.instantiateClass(XmlExtensionAdapter.kt:79)\n",
      "\tat com.intellij.openapi.extensions.impl.XmlExtensionAdapter$SimpleConstructorInjectionAdapter.instantiateClass(XmlExtensionAdapter.kt:90)\n",
      "\tat com.intellij.openapi.extensions.impl.XmlExtensionAdapter.doCreateInstance(XmlExtensionAdapter.kt:50)\n",
      "\tat com.intellij.openapi.extensions.impl.XmlExtensionAdapter.createInstance(XmlExtensionAdapter.kt:31)\n",
      "\tat com.intellij.openapi.extensions.impl.ExtensionPointImpl.processAdapter(ExtensionPointImpl.java:447)\n",
      "\tat com.intellij.openapi.extensions.impl.ExtensionPointImpl.access$200(ExtensionPointImpl.java:33)\n",
      "\tat com.intellij.openapi.extensions.impl.ExtensionPointImpl$1.next(ExtensionPointImpl.java:355)\n",
      "\tat com.intellij.idea.ApplicationLoader.findAppStarter(ApplicationLoader.kt:595)\n",
      "\tat com.intellij.idea.ApplicationLoader.access$findAppStarter(ApplicationLoader.kt:1)\n",
      "\tat com.intellij.idea.ApplicationLoader$initApplication$block$3.apply(ApplicationLoader.kt:170)\n",
      "\tat com.intellij.idea.ApplicationLoader$initApplication$block$3.apply(ApplicationLoader.kt)\n",
      "\tat java.base/java.util.concurrent.CompletableFuture$UniCompose.tryFire(CompletableFuture.java:1150)\n",
      "\tat java.base/java.util.concurrent.CompletableFuture.postComplete(CompletableFuture.java:510)\n",
      "\tat java.base/java.util.concurrent.CompletableFuture.postFire(CompletableFuture.java:614)\n",
      "\tat java.base/java.util.concurrent.CompletableFuture$UniCompose.tryFire(CompletableFuture.java:1163)\n",
      "\tat java.base/java.util.concurrent.CompletableFuture$Completion.run(CompletableFuture.java:482)\n",
      "\tat com.intellij.idea.ApplicationLoader$initApplication$block$2.execute(ApplicationLoader.kt:142)\n",
      "\tat java.base/java.util.concurrent.CompletableFuture$UniCompletion.claim(CompletableFuture.java:572)\n",
      "\tat java.base/java.util.concurrent.CompletableFuture$UniCompose.tryFire(CompletableFuture.java:1147)\n",
      "\tat java.base/java.util.concurrent.CompletableFuture.postComplete(CompletableFuture.java:510)\n",
      "\tat java.base/java.util.concurrent.CompletableFuture.postFire(CompletableFuture.java:614)\n",
      "\tat java.base/java.util.concurrent.CompletableFuture$UniCompose.tryFire(CompletableFuture.java:1163)\n",
      "\tat java.base/java.util.concurrent.CompletableFuture$Completion.exec(CompletableFuture.java:483)\n",
      "\tat java.base/java.util.concurrent.ForkJoinTask.doExec(ForkJoinTask.java:373)\n",
      "\tat java.base/java.util.concurrent.ForkJoinPool$WorkQueue.topLevelExec(ForkJoinPool.java:1182)\n",
      "\tat java.base/java.util.concurrent.ForkJoinPool.scan(ForkJoinPool.java:1655)\n",
      "\tat java.base/java.util.concurrent.ForkJoinPool.runWorker(ForkJoinPool.java:1622)\n",
      "\tat java.base/java.util.concurrent.ForkJoinWorkerThread.run(ForkJoinWorkerThread.java:165)\n",
      "2023-05-07 13:03:13,481 [   1814] SEVERE - #c.i.d.LoadingState - PhpStorm 2022.2.3  Build #PS-222.4345.15\n",
      "2023-05-07 13:03:13,482 [   1815] SEVERE - #c.i.d.LoadingState - JDK: 17.0.4.1; VM: OpenJDK 64-Bit Server VM; Vendor: JetBrains s.r.o.\n",
      "2023-05-07 13:03:13,482 [   1815] SEVERE - #c.i.d.LoadingState - OS: Linux\n"
     ]
    },
    {
     "name": "stdout",
     "output_type": "stream",
     "text": [
      "2023-05-07 13:03:13,507 [   1840] SEVERE - #c.i.d.LoadingState - Should be called at least in the state COMPONENTS_LOADED, the current state is: CONFIGURATION_STORE_INITIALIZED\n",
      "Current violators count: 3\n",
      "\n",
      "\n",
      "java.lang.Throwable\n",
      "\tat com.intellij.diagnostic.LoadingState.logStateError(LoadingState.java:52)\n",
      "\tat com.intellij.diagnostic.LoadingState.checkOccurred(LoadingState.java:48)\n",
      "\tat com.intellij.openapi.util.registry.Registry.getInstance(Registry.java:176)\n",
      "\tat com.intellij.openapi.util.registry.Registry.get(Registry.java:50)\n",
      "\tat com.intellij.openapi.util.registry.Registry.is(Registry.java:63)\n",
      "\tat com.intellij.openapi.wm.impl.GlobalMenuLinux._loadLibrary(GlobalMenuLinux.java:797)\n",
      "\tat com.intellij.openapi.wm.impl.GlobalMenuLinux.<clinit>(GlobalMenuLinux.java:164)\n",
      "\tat com.intellij.openapi.wm.impl.GlobalMenuLinux$MyActionTuner.customize(GlobalMenuLinux.java:230)\n",
      "\tat com.intellij.openapi.actionSystem.impl.ActionManagerImpl.lambda$new$0(ActionManagerImpl.java:141)\n",
      "\tat com.intellij.openapi.extensions.impl.ExtensionProcessingHelper.forEachExtensionSafe(ExtensionProcessingHelper.java:34)\n",
      "\tat com.intellij.openapi.extensions.ExtensionPointName.forEachExtensionSafe(ExtensionPointName.java:46)\n",
      "\tat com.intellij.openapi.actionSystem.impl.ActionManagerImpl.<init>(ActionManagerImpl.java:141)\n",
      "\tat com.jetbrains.rdserver.ui.actionPopupMenu.BackendActionManager.<init>(BackendActionManager.kt:17)\n",
      "\tat java.base/jdk.internal.reflect.NativeConstructorAccessorImpl.newInstance0(Native Method)\n",
      "\tat java.base/jdk.internal.reflect.NativeConstructorAccessorImpl.newInstance(NativeConstructorAccessorImpl.java:77)\n",
      "\tat java.base/jdk.internal.reflect.DelegatingConstructorAccessorImpl.newInstance(DelegatingConstructorAccessorImpl.java:45)\n",
      "\tat java.base/java.lang.reflect.Constructor.newInstanceWithCaller(Constructor.java:499)\n",
      "\tat java.base/java.lang.reflect.Constructor.newInstance(Constructor.java:480)\n",
      "\tat com.intellij.serviceContainer.ConstructorInjectionKt.instantiateUsingPicoContainer(constructorInjection.kt:47)\n",
      "\tat com.intellij.serviceContainer.ComponentManagerImpl.instantiateClassWithConstructorInjection(ComponentManagerImpl.kt:890)\n",
      "\tat com.intellij.serviceContainer.ServiceComponentAdapter.createAndInitialize(ServiceComponentAdapter.kt:51)\n",
      "\tat com.intellij.serviceContainer.ServiceComponentAdapter.doCreateInstance(ServiceComponentAdapter.kt:41)\n",
      "\tat com.intellij.serviceContainer.BaseComponentAdapter.getInstanceUncached(BaseComponentAdapter.kt:119)\n",
      "\tat com.intellij.serviceContainer.BaseComponentAdapter.getInstance(BaseComponentAdapter.kt:73)\n",
      "\tat com.intellij.serviceContainer.BaseComponentAdapter.getInstance$default(BaseComponentAdapter.kt:66)\n",
      "\tat com.intellij.serviceContainer.ComponentManagerImpl.doGetService(ComponentManagerImpl.kt:609)\n",
      "\tat com.intellij.serviceContainer.ComponentManagerImpl.getService(ComponentManagerImpl.kt:583)\n",
      "\tat com.intellij.openapi.client.ClientAwareComponentManager.getFromSelfOrCurrentSession(ClientAwareComponentManager.kt:37)\n",
      "\tat com.intellij.openapi.client.ClientAwareComponentManager.getService(ClientAwareComponentManager.kt:22)\n",
      "\tat com.intellij.openapi.actionSystem.ActionManager.getInstance(ActionManager.java:29)\n",
      "\tat com.intellij.help.impl.KeymapGenerator.<clinit>(KeymapGenerator.java:33)\n",
      "\tat java.base/jdk.internal.misc.Unsafe.allocateInstance(Native Method)\n",
      "\tat java.base/java.lang.invoke.DirectMethodHandle.allocateInstance(DirectMethodHandle.java:520)\n",
      "\tat com.intellij.serviceContainer.ComponentManagerImpl.instantiateClass(ComponentManagerImpl.kt:844)\n",
      "\tat com.intellij.openapi.extensions.impl.XmlExtensionAdapter.instantiateClass(XmlExtensionAdapter.kt:79)\n",
      "\tat com.intellij.openapi.extensions.impl.XmlExtensionAdapter$SimpleConstructorInjectionAdapter.instantiateClass(XmlExtensionAdapter.kt:90)\n",
      "\tat com.intellij.openapi.extensions.impl.XmlExtensionAdapter.doCreateInstance(XmlExtensionAdapter.kt:50)\n",
      "\tat com.intellij.openapi.extensions.impl.XmlExtensionAdapter.createInstance(XmlExtensionAdapter.kt:31)\n",
      "\tat com.intellij.openapi.extensions.impl.ExtensionPointImpl.processAdapter(ExtensionPointImpl.java:447)\n",
      "\tat com.intellij.openapi.extensions.impl.ExtensionPointImpl.access$200(ExtensionPointImpl.java:33)\n",
      "\tat com.intellij.openapi.extensions.impl.ExtensionPointImpl$1.next(ExtensionPointImpl.java:355)\n",
      "\tat com.intellij.idea.ApplicationLoader.findAppStarter(ApplicationLoader.kt:595)\n",
      "\tat com.intellij.idea.ApplicationLoader.access$findAppStarter(ApplicationLoader.kt:1)\n",
      "\tat com.intellij.idea.ApplicationLoader$initApplication$block$3.apply(ApplicationLoader.kt:170)\n",
      "\tat com.intellij.idea.ApplicationLoader$initApplication$block$3.apply(ApplicationLoader.kt)\n",
      "\tat java.base/java.util.concurrent.CompletableFuture$UniCompose.tryFire(CompletableFuture.java:1150)\n",
      "\tat java.base/java.util.concurrent.CompletableFuture.postComplete(CompletableFuture.java:510)\n",
      "\tat java.base/java.util.concurrent.CompletableFuture.postFire(CompletableFuture.java:614)\n",
      "\tat java.base/java.util.concurrent.CompletableFuture$UniCompose.tryFire(CompletableFuture.java:1163)\n",
      "\tat java.base/java.util.concurrent.CompletableFuture$Completion.run(CompletableFuture.java:482)\n",
      "\tat com.intellij.idea.ApplicationLoader$initApplication$block$2.execute(ApplicationLoader.kt:142)\n",
      "\tat java.base/java.util.concurrent.CompletableFuture$UniCompletion.claim(CompletableFuture.java:572)\n",
      "\tat java.base/java.util.concurrent.CompletableFuture$UniCompose.tryFire(CompletableFuture.java:1147)\n",
      "\tat java.base/java.util.concurrent.CompletableFuture.postComplete(CompletableFuture.java:510)\n",
      "\tat java.base/java.util.concurrent.CompletableFuture.postFire(CompletableFuture.java:614)\n",
      "\tat java.base/java.util.concurrent.CompletableFuture$UniCompose.tryFire(CompletableFuture.java:1163)\n",
      "\tat java.base/java.util.concurrent.CompletableFuture$Completion.exec(CompletableFuture.java:483)\n",
      "\tat java.base/java.util.concurrent.ForkJoinTask.doExec(ForkJoinTask.java:373)\n",
      "\tat java.base/java.util.concurrent.ForkJoinPool$WorkQueue.topLevelExec(ForkJoinPool.java:1182)\n",
      "\tat java.base/java.util.concurrent.ForkJoinPool.scan(ForkJoinPool.java:1655)\n",
      "\tat java.base/java.util.concurrent.ForkJoinPool.runWorker(ForkJoinPool.java:1622)\n",
      "\tat java.base/java.util.concurrent.ForkJoinWorkerThread.run(ForkJoinWorkerThread.java:165)\n",
      "2023-05-07 13:03:13,509 [   1842] SEVERE - #c.i.d.LoadingState - PhpStorm 2022.2.3  Build #PS-222.4345.15\n",
      "2023-05-07 13:03:13,510 [   1843] SEVERE - #c.i.d.LoadingState - JDK: 17.0.4.1; VM: OpenJDK 64-Bit Server VM; Vendor: JetBrains s.r.o.\n",
      "2023-05-07 13:03:13,510 [   1843] SEVERE - #c.i.d.LoadingState - OS: Linux\n",
      "Info  | RdCoroutineScope          | 13:JobScheduler FJ pool 1/3 | RdCoroutineHost overridden \n",
      "2023-05-07 13:03:17,815 [   6148]   WARN - #c.i.o.a.i.ActionUpdater - 201 ms to grab EDT for CWMTelephonyGroup#update@NavBarToolbar (com.jetbrains.rd.platform.codeWithMe.telephony.CWMTelephonyGroup)\n",
      "2023-05-07 13:03:21,980 [  10313]   WARN - #c.i.u.x.Binding - no accessors for com.jetbrains.php.testFramework.PhpTestFrameworkType\n",
      "2023-05-07 13:03:23,579 [  11912]   WARN - #c.i.o.a.i.ActionUpdater - 907 ms to grab EDT for #update@ToolwindowTitle (com.intellij.toolWindow.ToolWindowHeader$2)\n",
      "2023-05-07 13:03:29,856 [  18189]   WARN - #c.j.p.p.PharLibraryManager - Frequent root change. Source class com.jetbrains.php.phar.PharLibraryManager, delta 2702.\n",
      "Old roots: [phar:///home/student/SI_2023/09_laravel_tdd/project/vendor/bin/phpstan.phar/]\n",
      "New Roots: [phar:///home/student/SI_2023/09_laravel_tdd/project/vendor/bin/phpstan.phar/, phar:///home/student/SI_2023/09_laravel_tdd/project/vendor/phpstan/phpstan/phpstan.phar/]\n",
      "2023-05-07 13:04:13,444 [  61777]   WARN - #c.j.p.PhpIndex - Completing type '#C\\Illuminate\\Support\\Facades\\DB' took 963ms, visited:[#C\\Illuminate\\Support\\Facades\\DB]\n",
      "2023-05-07 13:04:13,446 [  61779]   WARN - #c.j.p.PhpIndex - Completing type '#π(#M#C\\Illuminate\\Support\\Facades\\DB.table)(\"facilities\")' took 968ms, visited:[#π(#M#C\\Illuminate\\Support\\Facades\\DB.table)(\"facilities\")]\n",
      "2023-05-07 13:05:06,549 [ 114882]   WARN - #c.j.p.PhpIndex - Completing type '#C\\Illuminate\\Support\\Facades\\DB' took 1211ms, visited:[#C\\Illuminate\\Support\\Facades\\DB]\n",
      "2023-05-07 13:05:06,584 [ 114917]   WARN - #c.j.p.PhpIndex - Completing type '#π(#M#C\\Illuminate\\Support\\Facades\\DB.table)(\"facilities\")' took 1247ms, visited:[#π(#M#C\\Illuminate\\Support\\Facades\\DB.table)(\"facilities\")]\n"
     ]
    },
    {
     "name": "stdout",
     "output_type": "stream",
     "text": [
      "2023-05-07 13:10:39,195 [ 447528]   WARN - #c.i.u.x.Binding - no accessors for org.jetbrains.idea.perforce.perforce.ConnectionId\n",
      "2023-05-07 13:17:59,895 [ 888228]   WARN - #c.i.o.a.i.ActionUpdater - 222 ms to grab EDT for TrafficLightAction#update@EditorInspectionsToolbar (com.intellij.openapi.editor.impl.EditorMarkupModelImpl$TrafficLightAction)\n",
      "2023-05-07 13:18:45,028 [ 933361] SEVERE - c.j.t.m.TerminalTextBuffer - Attempt to get line out of bounds: 7 >= 7\n",
      "2023-05-07 13:18:45,029 [ 933362] SEVERE - c.j.t.m.TerminalTextBuffer - Attempt to get line out of bounds: 7 >= 7\n",
      "2023-05-07 13:20:59,709 [1068042]   WARN - #c.i.o.a.i.ActionUpdater - 516 ms to grab EDT for CWMTelephonyGroup#update@NavBarToolbar (com.jetbrains.rd.platform.codeWithMe.telephony.CWMTelephonyGroup)\n",
      "2023-05-07 13:48:16,826 [2705159] SEVERE - c.j.t.m.TerminalTextBuffer - Attempt to get line out of bounds: 7 >= 7\n",
      "2023-05-07 13:48:16,827 [2705160] SEVERE - c.j.t.m.TerminalTextBuffer - Attempt to get line out of bounds: 7 >= 7\n",
      "2023-05-07 13:49:05,947 [2754280] SEVERE - c.j.t.m.TerminalTextBuffer - Attempt to get line out of bounds: 7 >= 7\n",
      "2023-05-07 13:49:05,950 [2754283] SEVERE - c.j.t.m.TerminalTextBuffer - Attempt to get line out of bounds: 7 >= 7\n",
      "2023-05-07 13:50:53,278 [2861611]   WARN - #c.j.p.PhpIndex - Invalid Signature ';\n",
      "    }\n",
      "\n",
      "    /**\n",
      "     * Reverse the migrations.\n",
      "     *\n",
      "     * @return void\n",
      "     */\n",
      "    public function down()\n",
      "    {\n",
      "        Schema::dropIfExists(\")'\n",
      "2023-05-07 13:50:53,279 [2861612]   WARN - #c.j.p.PhpIndex - Invalid Signature ';\n",
      "    }\n",
      "\n",
      "    /**\n",
      "     * Reverse the migrations.\n",
      "     *\n",
      "     * @return void\n",
      "     */\n",
      "    public function down()\n",
      "    {\n",
      "        Schema::dropIfExists(\")'\n",
      "2023-05-07 13:50:56,145 [2864478]   WARN - #c.j.p.PhpIndex - Invalid Signature ';\n",
      "    }\n",
      "\n",
      "    /**\n",
      "     * Reverse the migrations.\n",
      "     *\n",
      "     * @return void\n",
      "     */\n",
      "    public function down()\n",
      "    {\n",
      "        Schema::dropIfExists(\")'\n",
      "2023-05-07 13:51:20,244 [2888577]   WARN - #c.j.p.PhpIndex - Invalid Signature ';\n",
      "    }\n",
      "\n",
      "    /**\n",
      "     * Reverse the migrations.\n",
      "     *\n",
      "     * @return void\n",
      "     */\n",
      "    public function down()\n",
      "    {\n",
      "        Schema::dropIfExists(\")'\n",
      "2023-05-07 13:51:20,244 [2888577]   WARN - #c.j.p.PhpIndex - Invalid Signature ';\n",
      "    }\n",
      "\n",
      "    /**\n",
      "     * Reverse the migrations.\n",
      "     *\n",
      "     * @return void\n",
      "     */\n",
      "    public function down()\n",
      "    {\n",
      "        Schema::dropIfExists(\")'\n",
      "2023-05-07 13:51:21,370 [2889703]   WARN - #c.j.p.PhpIndex - Invalid Signature ';\n",
      "    }\n",
      "\n",
      "    /**\n",
      "     * Reverse the migrations.\n",
      "     *\n",
      "     * @return void\n",
      "     */\n",
      "    public function down()\n",
      "    {\n",
      "        Schema::dropIfExists(\")'\n",
      "2023-05-07 13:51:27,870 [2896203]   WARN - #c.j.p.PhpIndex - Invalid Signature ';\n",
      "    }\n",
      "\n",
      "    /**\n",
      "     * Reverse the migrations.\n",
      "     *\n",
      "     * @return void\n",
      "     */\n",
      "    public function down()\n",
      "    {\n",
      "        Schema::dropIfExists(\")'\n",
      "2023-05-07 13:51:27,870 [2896203]   WARN - #c.j.p.PhpIndex - Invalid Signature ';\n",
      "    }\n",
      "\n",
      "    /**\n",
      "     * Reverse the migrations.\n",
      "     *\n",
      "     * @return void\n",
      "     */\n",
      "    public function down()\n",
      "    {\n",
      "        Schema::dropIfExists(\")'\n",
      "2023-05-07 13:52:33,482 [2961815] SEVERE - c.j.t.m.TerminalTextBuffer - Attempt to get line out of bounds: 14 >= 14\n",
      "2023-05-07 13:52:33,491 [2961824] SEVERE - c.j.t.m.TerminalTextBuffer - Attempt to get line out of bounds: 14 >= 14\n",
      "2023-05-07 13:52:40,298 [2968631] SEVERE - c.j.t.m.TerminalTextBuffer - Attempt to get line out of bounds: 14 >= 14\n",
      "2023-05-07 13:52:40,299 [2968632] SEVERE - c.j.t.m.TerminalTextBuffer - Attempt to get line out of bounds: 14 >= 14\n",
      "2023-05-07 13:52:59,911 [2988244] SEVERE - c.j.t.m.TerminalTextBuffer - Attempt to get line out of bounds: 14 >= 14\n",
      "2023-05-07 13:52:59,912 [2988245] SEVERE - c.j.t.m.TerminalTextBuffer - Attempt to get line out of bounds: 14 >= 14\n",
      "2023-05-07 13:55:40,764 [3149097]   WARN - #c.j.p.PhpIndex - Invalid Signature '\\array'\n",
      "2023-05-07 13:56:38,997 [3207330] SEVERE - c.j.t.m.TerminalTextBuffer - Attempt to get line out of bounds: 14 >= 14\n",
      "2023-05-07 13:56:38,997 [3207330] SEVERE - c.j.t.m.TerminalTextBuffer - Attempt to get line out of bounds: 14 >= 14\n",
      "2023-05-07 14:03:37,935 [3626268]   WARN - #c.i.o.a.i.ActionUpdater - 218 ms to grab EDT for #update@ToolwindowTitle (com.intellij.toolWindow.ToolWindowHeader$2)\n",
      "2023-05-07 14:03:37,946 [3626279]   WARN - #c.i.o.a.i.ActionUpdater - 215 ms to grab EDT for GitCommitWithStagingAreaAction#update@NavBarToolbar (git4idea.index.actions.GitCommitWithStagingAreaAction)\n",
      "2023-05-07 14:03:38,390 [3626723]   WARN - #c.i.o.a.i.ActionUpdater - 288 ms to grab EDT for SpaceMainToolBarAction#update@NavBarToolbar (com.intellij.space.vcs.actions.SpaceMainToolBarAction)\n",
      "2023-05-07 14:03:38,391 [3626724]   WARN - #c.i.o.a.i.ActionUpdater - 285 ms to grab EDT for SelectFileAction#update@ToolwindowTitle (com.intellij.ide.projectView.impl.SelectFileAction)\n",
      "2023-05-07 14:03:41,239 [3629572]   WARN - #c.i.o.a.i.ActionUpdater - 378 ms to grab EDT for ShowEditorDiffPreviewActionProvider#update@ChangesViewToolbar (com.intellij.openapi.vcs.changes.ShowEditorDiffPreviewActionProvider)\n",
      "2023-05-07 14:03:41,239 [3629572]   WARN - #c.i.o.a.i.ActionUpdater - 362 ms to grab EDT for #getChildren@ToolwindowTitle (com.intellij.toolWindow.ToolWindowHeader$2)\n",
      "2023-05-07 14:03:52,066 [3640399]   WARN - #c.i.o.a.i.ActionUpdater - 430 ms to grab EDT for HideBranchesAction#update@Git.Log.Branches (git4idea.ui.branch.dashboard.BranchesDashboardActions$HideBranchesAction)\n",
      "2023-05-07 14:03:52,066 [3640399]   WARN - #c.i.o.a.i.ActionUpdater - 274 ms to grab EDT for EnableFilterByRegexAction#update@Vcs.Log.Toolbar (com.intellij.vcs.log.ui.actions.EnableFilterByRegexAction)\n",
      "2023-05-07 14:06:19,725 [3788058]   WARN - Jetbrains UI DSL - Row should not be empty\n",
      "2023-05-07 14:37:52,286 [5680619] SEVERE - c.j.t.m.TerminalTextBuffer - Attempt to get line out of bounds: 17 >= 17\n",
      "2023-05-07 14:37:52,286 [5680619] SEVERE - c.j.t.m.TerminalTextBuffer - Attempt to get line out of bounds: 17 >= 17\n",
      "2023-05-07 14:43:04,028 [5992361]   WARN - #c.i.o.a.i.ActionUpdater - 1639 ms to grab EDT for GitCommitWithStagingAreaAction#update@NavBarToolbar (git4idea.index.actions.GitCommitWithStagingAreaAction)\n",
      "2023-05-07 14:43:04,029 [5992362]   WARN - #c.i.o.a.i.ActionUpdater - 1636 ms to grab EDT for SelectFileAction#update@ToolwindowTitle (com.intellij.ide.projectView.impl.SelectFileAction)\n",
      "2023-05-07 15:17:23,091 [8051424]   WARN - #c.j.p.PhpIndex - Invalid Signature '\\PHPUnit\\Framework\\class-string'\n",
      "2023-05-07 15:17:35,336 [8063669]   WARN - #c.j.p.PhpIndex - Invalid Signature '\\PHPUnit\\Framework\\class-string'\n",
      "2023-05-07 15:20:20,207 [8228540]   WARN - #c.j.p.PhpIndex - Invalid Signature '\\PHPUnit\\Framework\\class-string'\n",
      "2023-05-07 15:30:35,726 [8844059]   WARN - #c.j.p.PhpIndex - Invalid Signature '\\PHPUnit\\Framework\\class-string'\n",
      "2023-05-07 15:30:56,876 [8865209]   WARN - #c.j.p.PhpIndex - Invalid Signature '\\PHPUnit\\Framework\\class-string'\n",
      "2023-05-07 15:33:48,015 [9036348]   WARN - #c.j.p.PhpIndex - Invalid Signature '\\PHPUnit\\Framework\\class-string'\n",
      "2023-05-07 15:34:00,542 [9048875]   WARN - #c.j.p.PhpIndex - Invalid Signature '\\PHPUnit\\Framework\\class-string'\n",
      "2023-05-07 15:34:13,457 [9061790]   WARN - #c.j.p.PhpIndex - Invalid Signature '\\PHPUnit\\Framework\\class-string'\n",
      "2023-05-07 15:34:13,473 [9061806]   WARN - #c.j.p.PhpIndex - Invalid Signature '\\Illuminate\\Contracts\\Support\\Arrayable'\n",
      "2023-05-07 15:34:13,476 [9061809]   WARN - #c.j.p.PhpIndex - Invalid Signature '\\Illuminate\\Support\\Collection'\n",
      "2023-05-07 15:34:24,277 [9072610]   WARN - #c.j.p.PhpIndex - Invalid Signature '\\PHPUnit\\Framework\\class-string'\n",
      "2023-05-07 15:34:24,338 [9072671]   WARN - #c.j.p.PhpIndex - Invalid Signature '\\class-string'\n",
      "2023-05-07 15:35:12,348 [9120681]   WARN - #c.j.p.PhpIndex - Invalid Signature '\\PHPUnit\\Framework\\class-string'\n",
      "2023-05-07 15:36:05,927 [9174260]   WARN - #c.j.p.PhpIndex - Invalid Signature '\\array'\n",
      "2023-05-07 15:36:05,928 [9174261]   WARN - #c.j.p.PhpIndex - Invalid Signature '\\callable'\n",
      "2023-05-07 15:36:05,928 [9174261]   WARN - #c.j.p.PhpIndex - Invalid Signature '\\Illuminate\\Support\\Collection'\n",
      "2023-05-07 15:36:05,929 [9174262]   WARN - #c.j.p.PhpIndex - Invalid Signature '\\iterable'\n",
      "2023-05-07 15:36:05,929 [9174262]   WARN - #c.j.p.PhpIndex - Invalid Signature '\\Illuminate\\Contracts\\Support\\Arrayable'\n",
      "2023-05-07 15:36:05,932 [9174265]   WARN - #c.j.p.PhpIndex - Invalid Signature '\\Illuminate\\Database\\Eloquent\\Collection'\n",
      "2023-05-07 15:36:05,932 [9174265]   WARN - #c.j.p.PhpIndex - Invalid Signature '\\Illuminate\\Support\\Enumerable'\n",
      "2023-05-07 15:36:05,936 [9174269]   WARN - #c.j.p.PhpIndex - Invalid Signature '\\Illuminate\\Support\\Traits\\EnumeratesValues'\n",
      "2023-05-07 15:36:05,936 [9174269]   WARN - #c.j.p.PhpIndex - Invalid Signature '\\Illuminate\\Support\\Traits\\class-string'\n",
      "2023-05-07 15:36:05,960 [9174293]   WARN - #c.j.p.PhpIndex - Invalid Signature '\\Illuminate\\Support\\LazyCollection'\n"
     ]
    },
    {
     "name": "stdout",
     "output_type": "stream",
     "text": [
      "2023-05-07 15:36:05,976 [9174309]   WARN - #c.j.p.PhpIndex - Invalid Signature '\\ArrayIterator'\n",
      "2023-05-07 15:36:11,081 [9179414]   WARN - #c.j.p.PhpIndex - Invalid Signature '\\Traversable'\n",
      "2023-05-07 15:36:54,136 [9222469]   WARN - #c.j.p.PhpIndex - Invalid Signature '\\PHPUnit\\Framework\\class-string'\n",
      "2023-05-07 15:36:57,152 [9225485]   WARN - #c.j.p.PhpIndex - Invalid Signature '\\PHPUnit\\Framework\\class-string'\n",
      "2023-05-07 15:38:10,286 [9298619]   WARN - #c.j.p.PhpIndex - Invalid Signature '\\PHPUnit\\Framework\\class-string'\n",
      "2023-05-07 15:47:23,128 [9851461]   WARN - #c.j.p.PhpIndex - Invalid Signature '\\PHPUnit\\Framework\\class-string'\n",
      "2023-05-07 15:47:23,149 [9851482]   WARN - #c.j.p.PhpIndex - Invalid Signature '\\Illuminate\\Contracts\\Support\\Arrayable'\n",
      "2023-05-07 15:47:23,149 [9851482]   WARN - #c.j.p.PhpIndex - Invalid Signature '\\Illuminate\\Support\\Collection'\n",
      "2023-05-07 15:48:12,200 [9900533]   WARN - #c.j.p.PhpIndex - Invalid Signature '\\Illuminate\\Contracts\\Support\\Arrayable'\n",
      "2023-05-07 15:51:45,836 [10114169]   WARN - #c.j.p.PhpIndex - Invalid Signature '\\PHPUnit\\Framework\\class-string'\n",
      "2023-05-07 15:51:55,635 [10123968]   WARN - #c.j.p.PhpIndex - Invalid Signature '\\PHPUnit\\Framework\\class-string'\n",
      "2023-05-07 15:51:55,736 [10124069]   WARN - #c.j.p.PhpIndex - Invalid Signature '\\class-string'\n",
      "2023-05-07 16:14:51,925 [11500258]   WARN - #c.i.o.a.i.ActionUpdater - 257 ms to grab EDT for #update@ToolwindowTitle (com.intellij.toolWindow.ToolWindowHeader$2)\n",
      "2023-05-07 16:14:51,945 [11500278]   WARN - #c.i.o.a.i.ActionUpdater - 251 ms to grab EDT for ResumeAction#update@DebuggerToolbar (com.intellij.xdebugger.impl.actions.ResumeAction)\n",
      "2023-05-07 16:15:10,038 [11518371]   WARN - #c.j.p.b.d.BladeDebugPathMapper - Blade Template debug: path to cache dir is not specified in the settings\n",
      "2023-05-07 16:15:11,958 [11520291]   WARN - #c.j.p.b.d.BladeDebugPathMapper - Blade Template debug: path to cache dir is not specified in the settings\n",
      "2023-05-07 16:15:11,965 [11520298]   WARN - #c.j.p.b.d.BladeDebugPathMapper - Blade Template debug: path to cache dir is not specified in the settings\n",
      "2023-05-07 16:15:12,053 [11520386]   WARN - #c.j.p.b.d.BladeDebugPathMapper - Blade Template debug: path to cache dir is not specified in the settings\n",
      "2023-05-07 16:15:12,057 [11520390]   WARN - #c.j.p.b.d.BladeDebugPathMapper - Blade Template debug: path to cache dir is not specified in the settings\n",
      "2023-05-07 16:15:12,160 [11520493]   WARN - #c.j.p.b.d.BladeDebugPathMapper - Blade Template debug: path to cache dir is not specified in the settings\n",
      "2023-05-07 16:15:12,169 [11520502]   WARN - #c.j.p.b.d.BladeDebugPathMapper - Blade Template debug: path to cache dir is not specified in the settings\n",
      "2023-05-07 16:15:12,258 [11520591]   WARN - #c.j.p.b.d.BladeDebugPathMapper - Blade Template debug: path to cache dir is not specified in the settings\n",
      "2023-05-07 16:15:12,264 [11520597]   WARN - #c.j.p.b.d.BladeDebugPathMapper - Blade Template debug: path to cache dir is not specified in the settings\n",
      "2023-05-07 16:15:41,465 [11549798]   WARN - #c.j.p.b.d.BladeDebugPathMapper - Blade Template debug: path to cache dir is not specified in the settings\n",
      "2023-05-07 16:15:41,466 [11549799]   WARN - #c.j.p.b.d.BladeDebugPathMapper - Blade Template debug: path to cache dir is not specified in the settings\n",
      "2023-05-07 16:15:41,471 [11549804]   WARN - #c.j.p.b.d.BladeDebugPathMapper - Blade Template debug: path to cache dir is not specified in the settings\n",
      "2023-05-07 16:15:41,471 [11549804]   WARN - #c.j.p.b.d.BladeDebugPathMapper - Blade Template debug: path to cache dir is not specified in the settings\n",
      "2023-05-07 16:15:45,064 [11553397]   WARN - #c.j.p.b.d.BladeDebugPathMapper - Blade Template debug: path to cache dir is not specified in the settings\n",
      "2023-05-07 16:15:45,065 [11553398]   WARN - #c.j.p.b.d.BladeDebugPathMapper - Blade Template debug: path to cache dir is not specified in the settings\n",
      "2023-05-07 16:15:45,075 [11553408]   WARN - #c.j.p.b.d.BladeDebugPathMapper - Blade Template debug: path to cache dir is not specified in the settings\n",
      "2023-05-07 16:15:45,076 [11553409]   WARN - #c.j.p.b.d.BladeDebugPathMapper - Blade Template debug: path to cache dir is not specified in the settings\n",
      "2023-05-07 16:15:45,168 [11553501]   WARN - #c.j.p.b.d.BladeDebugPathMapper - Blade Template debug: path to cache dir is not specified in the settings\n",
      "2023-05-07 16:15:45,168 [11553501]   WARN - #c.j.p.b.d.BladeDebugPathMapper - Blade Template debug: path to cache dir is not specified in the settings\n",
      "2023-05-07 16:15:45,175 [11553508]   WARN - #c.j.p.b.d.BladeDebugPathMapper - Blade Template debug: path to cache dir is not specified in the settings\n",
      "2023-05-07 16:15:45,175 [11553508]   WARN - #c.j.p.b.d.BladeDebugPathMapper - Blade Template debug: path to cache dir is not specified in the settings\n",
      "2023-05-07 16:15:45,269 [11553602]   WARN - #c.j.p.b.d.BladeDebugPathMapper - Blade Template debug: path to cache dir is not specified in the settings\n",
      "2023-05-07 16:15:45,269 [11553602]   WARN - #c.j.p.b.d.BladeDebugPathMapper - Blade Template debug: path to cache dir is not specified in the settings\n",
      "2023-05-07 16:15:45,273 [11553606]   WARN - #c.j.p.b.d.BladeDebugPathMapper - Blade Template debug: path to cache dir is not specified in the settings\n",
      "2023-05-07 16:15:45,274 [11553607]   WARN - #c.j.p.b.d.BladeDebugPathMapper - Blade Template debug: path to cache dir is not specified in the settings\n",
      "2023-05-07 16:15:45,369 [11553702]   WARN - #c.j.p.b.d.BladeDebugPathMapper - Blade Template debug: path to cache dir is not specified in the settings\n",
      "2023-05-07 16:15:45,369 [11553702]   WARN - #c.j.p.b.d.BladeDebugPathMapper - Blade Template debug: path to cache dir is not specified in the settings\n",
      "2023-05-07 16:15:45,376 [11553709]   WARN - #c.j.p.b.d.BladeDebugPathMapper - Blade Template debug: path to cache dir is not specified in the settings\n",
      "2023-05-07 16:15:45,376 [11553709]   WARN - #c.j.p.b.d.BladeDebugPathMapper - Blade Template debug: path to cache dir is not specified in the settings\n",
      "2023-05-07 16:16:09,098 [11577431]   WARN - #c.j.p.b.d.BladeDebugPathMapper - Blade Template debug: path to cache dir is not specified in the settings\n",
      "2023-05-07 16:16:09,098 [11577431]   WARN - #c.j.p.b.d.BladeDebugPathMapper - Blade Template debug: path to cache dir is not specified in the settings\n",
      "2023-05-07 16:16:09,102 [11577435]   WARN - #c.j.p.b.d.BladeDebugPathMapper - Blade Template debug: path to cache dir is not specified in the settings\n",
      "2023-05-07 16:16:09,103 [11577436]   WARN - #c.j.p.b.d.BladeDebugPathMapper - Blade Template debug: path to cache dir is not specified in the settings\n",
      "2023-05-07 16:16:09,300 [11577633]   WARN - #c.j.p.b.d.BladeDebugPathMapper - Blade Template debug: path to cache dir is not specified in the settings\n",
      "2023-05-07 16:16:09,300 [11577633]   WARN - #c.j.p.b.d.BladeDebugPathMapper - Blade Template debug: path to cache dir is not specified in the settings\n",
      "2023-05-07 16:16:09,310 [11577643]   WARN - #c.j.p.b.d.BladeDebugPathMapper - Blade Template debug: path to cache dir is not specified in the settings\n",
      "2023-05-07 16:16:09,311 [11577644]   WARN - #c.j.p.b.d.BladeDebugPathMapper - Blade Template debug: path to cache dir is not specified in the settings\n",
      "2023-05-07 16:16:09,406 [11577739]   WARN - #c.j.p.b.d.BladeDebugPathMapper - Blade Template debug: path to cache dir is not specified in the settings\n",
      "2023-05-07 16:16:09,406 [11577739]   WARN - #c.j.p.b.d.BladeDebugPathMapper - Blade Template debug: path to cache dir is not specified in the settings\n",
      "2023-05-07 16:16:09,410 [11577743]   WARN - #c.j.p.b.d.BladeDebugPathMapper - Blade Template debug: path to cache dir is not specified in the settings\n",
      "2023-05-07 16:16:09,411 [11577744]   WARN - #c.j.p.b.d.BladeDebugPathMapper - Blade Template debug: path to cache dir is not specified in the settings\n",
      "2023-05-07 16:16:09,501 [11577834]   WARN - #c.j.p.b.d.BladeDebugPathMapper - Blade Template debug: path to cache dir is not specified in the settings\n",
      "2023-05-07 16:16:09,501 [11577834]   WARN - #c.j.p.b.d.BladeDebugPathMapper - Blade Template debug: path to cache dir is not specified in the settings\n",
      "2023-05-07 16:16:09,505 [11577838]   WARN - #c.j.p.b.d.BladeDebugPathMapper - Blade Template debug: path to cache dir is not specified in the settings\n",
      "2023-05-07 16:16:09,505 [11577838]   WARN - #c.j.p.b.d.BladeDebugPathMapper - Blade Template debug: path to cache dir is not specified in the settings\n"
     ]
    },
    {
     "name": "stdout",
     "output_type": "stream",
     "text": [
      "2023-05-07 16:16:09,612 [11577945]   WARN - #c.j.p.b.d.BladeDebugPathMapper - Blade Template debug: path to cache dir is not specified in the settings\n",
      "2023-05-07 16:16:09,612 [11577945]   WARN - #c.j.p.b.d.BladeDebugPathMapper - Blade Template debug: path to cache dir is not specified in the settings\n",
      "2023-05-07 16:16:09,619 [11577952]   WARN - #c.j.p.b.d.BladeDebugPathMapper - Blade Template debug: path to cache dir is not specified in the settings\n",
      "2023-05-07 16:16:09,619 [11577952]   WARN - #c.j.p.b.d.BladeDebugPathMapper - Blade Template debug: path to cache dir is not specified in the settings\n",
      "2023-05-07 16:16:11,163 [11579496]   WARN - #c.j.p.b.d.BladeDebugPathMapper - Blade Template debug: path to cache dir is not specified in the settings\n",
      "2023-05-07 16:16:11,163 [11579496]   WARN - #c.j.p.b.d.BladeDebugPathMapper - Blade Template debug: path to cache dir is not specified in the settings\n",
      "2023-05-07 16:16:11,169 [11579502]   WARN - #c.j.p.b.d.BladeDebugPathMapper - Blade Template debug: path to cache dir is not specified in the settings\n",
      "2023-05-07 16:16:11,170 [11579503]   WARN - #c.j.p.b.d.BladeDebugPathMapper - Blade Template debug: path to cache dir is not specified in the settings\n",
      "2023-05-07 16:16:11,651 [11579984]   WARN - #c.i.o.a.i.ActionUpdater - 205 ms to grab EDT for #update@EditorInspectionsToolbar (com.intellij.codeInsight.actions.ReaderModeActionProvider$createAction$1)\n",
      "2023-05-07 16:16:27,636 [11595969]   WARN - #c.j.p.b.d.BladeDebugPathMapper - Blade Template debug: path to cache dir is not specified in the settings\n",
      "2023-05-07 16:16:30,160 [11598493]   WARN - #c.j.p.b.d.BladeDebugPathMapper - Blade Template debug: path to cache dir is not specified in the settings\n",
      "2023-05-07 16:16:30,160 [11598493]   WARN - #c.j.p.b.d.BladeDebugPathMapper - Blade Template debug: path to cache dir is not specified in the settings\n",
      "2023-05-07 16:16:30,169 [11598502]   WARN - #c.j.p.b.d.BladeDebugPathMapper - Blade Template debug: path to cache dir is not specified in the settings\n",
      "2023-05-07 16:16:30,169 [11598502]   WARN - #c.j.p.b.d.BladeDebugPathMapper - Blade Template debug: path to cache dir is not specified in the settings\n",
      "2023-05-07 16:16:30,260 [11598593]   WARN - #c.j.p.b.d.BladeDebugPathMapper - Blade Template debug: path to cache dir is not specified in the settings\n",
      "2023-05-07 16:16:30,260 [11598593]   WARN - #c.j.p.b.d.BladeDebugPathMapper - Blade Template debug: path to cache dir is not specified in the settings\n",
      "2023-05-07 16:16:30,264 [11598597]   WARN - #c.j.p.b.d.BladeDebugPathMapper - Blade Template debug: path to cache dir is not specified in the settings\n",
      "2023-05-07 16:16:30,264 [11598597]   WARN - #c.j.p.b.d.BladeDebugPathMapper - Blade Template debug: path to cache dir is not specified in the settings\n",
      "2023-05-07 16:16:30,360 [11598693]   WARN - #c.j.p.b.d.BladeDebugPathMapper - Blade Template debug: path to cache dir is not specified in the settings\n",
      "2023-05-07 16:16:30,360 [11598693]   WARN - #c.j.p.b.d.BladeDebugPathMapper - Blade Template debug: path to cache dir is not specified in the settings\n",
      "2023-05-07 16:16:30,364 [11598697]   WARN - #c.j.p.b.d.BladeDebugPathMapper - Blade Template debug: path to cache dir is not specified in the settings\n",
      "2023-05-07 16:16:30,364 [11598697]   WARN - #c.j.p.b.d.BladeDebugPathMapper - Blade Template debug: path to cache dir is not specified in the settings\n",
      "2023-05-07 16:16:30,461 [11598794]   WARN - #c.j.p.b.d.BladeDebugPathMapper - Blade Template debug: path to cache dir is not specified in the settings\n",
      "2023-05-07 16:16:30,462 [11598795]   WARN - #c.j.p.b.d.BladeDebugPathMapper - Blade Template debug: path to cache dir is not specified in the settings\n",
      "2023-05-07 16:16:30,470 [11598803]   WARN - #c.j.p.b.d.BladeDebugPathMapper - Blade Template debug: path to cache dir is not specified in the settings\n",
      "2023-05-07 16:16:30,470 [11598803]   WARN - #c.j.p.b.d.BladeDebugPathMapper - Blade Template debug: path to cache dir is not specified in the settings\n",
      "2023-05-07 16:20:43,942 [11852275]   WARN - #c.j.p.b.d.BladeDebugPathMapper - Blade Template debug: path to cache dir is not specified in the settings\n",
      "2023-05-07 16:20:43,947 [11852280]   WARN - #c.j.p.b.d.BladeDebugPathMapper - Blade Template debug: path to cache dir is not specified in the settings\n",
      "2023-05-07 16:20:46,324 [11854657]   WARN - #c.j.p.b.d.BladeDebugPathMapper - Blade Template debug: path to cache dir is not specified in the settings\n",
      "2023-05-07 16:20:46,329 [11854662]   WARN - #c.j.p.b.d.BladeDebugPathMapper - Blade Template debug: path to cache dir is not specified in the settings\n",
      "2023-05-07 16:20:46,424 [11854757]   WARN - #c.j.p.b.d.BladeDebugPathMapper - Blade Template debug: path to cache dir is not specified in the settings\n",
      "2023-05-07 16:20:46,429 [11854762]   WARN - #c.j.p.b.d.BladeDebugPathMapper - Blade Template debug: path to cache dir is not specified in the settings\n",
      "2023-05-07 16:20:46,525 [11854858]   WARN - #c.j.p.b.d.BladeDebugPathMapper - Blade Template debug: path to cache dir is not specified in the settings\n",
      "2023-05-07 16:20:46,530 [11854863]   WARN - #c.j.p.b.d.BladeDebugPathMapper - Blade Template debug: path to cache dir is not specified in the settings\n",
      "2023-05-07 16:20:46,625 [11854958]   WARN - #c.j.p.b.d.BladeDebugPathMapper - Blade Template debug: path to cache dir is not specified in the settings\n",
      "2023-05-07 16:20:46,629 [11854962]   WARN - #c.j.p.b.d.BladeDebugPathMapper - Blade Template debug: path to cache dir is not specified in the settings\n",
      "2023-05-07 16:22:39,650 [11967983]   WARN - #c.j.p.b.d.BladeDebugPathMapper - Blade Template debug: path to cache dir is not specified in the settings\n",
      "2023-05-07 16:22:39,656 [11967989]   WARN - #c.j.p.b.d.BladeDebugPathMapper - Blade Template debug: path to cache dir is not specified in the settings\n",
      "2023-05-07 16:22:43,027 [11971360]   WARN - #c.j.p.b.d.BladeDebugPathMapper - Blade Template debug: path to cache dir is not specified in the settings\n",
      "2023-05-07 16:22:43,031 [11971364]   WARN - #c.j.p.b.d.BladeDebugPathMapper - Blade Template debug: path to cache dir is not specified in the settings\n",
      "2023-05-07 16:22:43,128 [11971461]   WARN - #c.j.p.b.d.BladeDebugPathMapper - Blade Template debug: path to cache dir is not specified in the settings\n",
      "2023-05-07 16:22:43,133 [11971466]   WARN - #c.j.p.b.d.BladeDebugPathMapper - Blade Template debug: path to cache dir is not specified in the settings\n",
      "2023-05-07 16:22:43,229 [11971562]   WARN - #c.j.p.b.d.BladeDebugPathMapper - Blade Template debug: path to cache dir is not specified in the settings\n",
      "2023-05-07 16:22:43,232 [11971565]   WARN - #c.j.p.b.d.BladeDebugPathMapper - Blade Template debug: path to cache dir is not specified in the settings\n",
      "2023-05-07 16:22:43,329 [11971662]   WARN - #c.j.p.b.d.BladeDebugPathMapper - Blade Template debug: path to cache dir is not specified in the settings\n",
      "2023-05-07 16:22:43,334 [11971667]   WARN - #c.j.p.b.d.BladeDebugPathMapper - Blade Template debug: path to cache dir is not specified in the settings\n",
      "2023-05-07 16:23:26,559 [12014892]   WARN - #c.j.p.b.d.BladeDebugPathMapper - Blade Template debug: path to cache dir is not specified in the settings\n",
      "2023-05-07 16:23:26,565 [12014898]   WARN - #c.j.p.b.d.BladeDebugPathMapper - Blade Template debug: path to cache dir is not specified in the settings\n",
      "2023-05-07 16:23:26,759 [12015092]   WARN - #c.j.p.b.d.BladeDebugPathMapper - Blade Template debug: path to cache dir is not specified in the settings\n",
      "2023-05-07 16:23:26,766 [12015099]   WARN - #c.j.p.b.d.BladeDebugPathMapper - Blade Template debug: path to cache dir is not specified in the settings\n",
      "2023-05-07 16:23:26,861 [12015194]   WARN - #c.j.p.b.d.BladeDebugPathMapper - Blade Template debug: path to cache dir is not specified in the settings\n",
      "2023-05-07 16:23:26,867 [12015200]   WARN - #c.j.p.b.d.BladeDebugPathMapper - Blade Template debug: path to cache dir is not specified in the settings\n",
      "2023-05-07 16:23:26,961 [12015294]   WARN - #c.j.p.b.d.BladeDebugPathMapper - Blade Template debug: path to cache dir is not specified in the settings\n",
      "2023-05-07 16:23:26,966 [12015299]   WARN - #c.j.p.b.d.BladeDebugPathMapper - Blade Template debug: path to cache dir is not specified in the settings\n"
     ]
    },
    {
     "name": "stdout",
     "output_type": "stream",
     "text": [
      "2023-05-07 16:23:27,063 [12015396]   WARN - #c.j.p.b.d.BladeDebugPathMapper - Blade Template debug: path to cache dir is not specified in the settings\n",
      "2023-05-07 16:23:27,068 [12015401]   WARN - #c.j.p.b.d.BladeDebugPathMapper - Blade Template debug: path to cache dir is not specified in the settings\n",
      "2023-05-07 16:24:39,805 [12088138]   WARN - #c.j.p.b.d.BladeDebugPathMapper - Blade Template debug: path to cache dir is not specified in the settings\n",
      "2023-05-07 16:24:39,813 [12088146]   WARN - #c.j.p.b.d.BladeDebugPathMapper - Blade Template debug: path to cache dir is not specified in the settings\n",
      "2023-05-07 16:24:40,007 [12088340]   WARN - #c.j.p.b.d.BladeDebugPathMapper - Blade Template debug: path to cache dir is not specified in the settings\n",
      "2023-05-07 16:24:40,016 [12088349]   WARN - #c.j.p.b.d.BladeDebugPathMapper - Blade Template debug: path to cache dir is not specified in the settings\n",
      "2023-05-07 16:24:40,111 [12088444]   WARN - #c.j.p.b.d.BladeDebugPathMapper - Blade Template debug: path to cache dir is not specified in the settings\n",
      "2023-05-07 16:24:40,129 [12088462]   WARN - #c.j.p.b.d.BladeDebugPathMapper - Blade Template debug: path to cache dir is not specified in the settings\n",
      "2023-05-07 16:24:40,231 [12088564]   WARN - #c.j.p.b.d.BladeDebugPathMapper - Blade Template debug: path to cache dir is not specified in the settings\n",
      "2023-05-07 16:24:40,245 [12088578]   WARN - #c.j.p.b.d.BladeDebugPathMapper - Blade Template debug: path to cache dir is not specified in the settings\n",
      "2023-05-07 16:24:40,412 [12088745]   WARN - #c.j.p.b.d.BladeDebugPathMapper - Blade Template debug: path to cache dir is not specified in the settings\n",
      "2023-05-07 16:24:40,427 [12088760]   WARN - #c.j.p.b.d.BladeDebugPathMapper - Blade Template debug: path to cache dir is not specified in the settings\n",
      "2023-05-07 16:26:38,268 [12206601]   WARN - #c.j.p.b.d.BladeDebugPathMapper - Blade Template debug: path to cache dir is not specified in the settings\n",
      "2023-05-07 16:26:38,272 [12206605]   WARN - #c.j.p.b.d.BladeDebugPathMapper - Blade Template debug: path to cache dir is not specified in the settings\n",
      "2023-05-07 16:26:38,474 [12206807]   WARN - #c.j.p.b.d.BladeDebugPathMapper - Blade Template debug: path to cache dir is not specified in the settings\n",
      "2023-05-07 16:26:38,479 [12206812]   WARN - #c.j.p.b.d.BladeDebugPathMapper - Blade Template debug: path to cache dir is not specified in the settings\n",
      "2023-05-07 16:26:38,580 [12206913]   WARN - #c.j.p.b.d.BladeDebugPathMapper - Blade Template debug: path to cache dir is not specified in the settings\n",
      "2023-05-07 16:26:38,584 [12206917]   WARN - #c.j.p.b.d.BladeDebugPathMapper - Blade Template debug: path to cache dir is not specified in the settings\n",
      "2023-05-07 16:26:38,675 [12207008]   WARN - #c.j.p.b.d.BladeDebugPathMapper - Blade Template debug: path to cache dir is not specified in the settings\n",
      "2023-05-07 16:26:38,679 [12207012]   WARN - #c.j.p.b.d.BladeDebugPathMapper - Blade Template debug: path to cache dir is not specified in the settings\n",
      "2023-05-07 16:26:38,774 [12207107]   WARN - #c.j.p.b.d.BladeDebugPathMapper - Blade Template debug: path to cache dir is not specified in the settings\n",
      "2023-05-07 16:26:38,778 [12207111]   WARN - #c.j.p.b.d.BladeDebugPathMapper - Blade Template debug: path to cache dir is not specified in the settings\n",
      "2023-05-07 16:27:22,248 [12250581]   WARN - #c.j.p.b.d.BladeDebugPathMapper - Blade Template debug: path to cache dir is not specified in the settings\n",
      "2023-05-07 16:27:22,252 [12250585]   WARN - #c.j.p.b.d.BladeDebugPathMapper - Blade Template debug: path to cache dir is not specified in the settings\n",
      "2023-05-07 16:27:22,356 [12250689]   WARN - #c.j.p.b.d.BladeDebugPathMapper - Blade Template debug: path to cache dir is not specified in the settings\n",
      "2023-05-07 16:27:22,361 [12250694]   WARN - #c.j.p.b.d.BladeDebugPathMapper - Blade Template debug: path to cache dir is not specified in the settings\n",
      "2023-05-07 16:27:22,453 [12250786]   WARN - #c.j.p.b.d.BladeDebugPathMapper - Blade Template debug: path to cache dir is not specified in the settings\n",
      "2023-05-07 16:27:22,459 [12250792]   WARN - #c.j.p.b.d.BladeDebugPathMapper - Blade Template debug: path to cache dir is not specified in the settings\n",
      "2023-05-07 16:27:22,561 [12250894]   WARN - #c.j.p.b.d.BladeDebugPathMapper - Blade Template debug: path to cache dir is not specified in the settings\n",
      "2023-05-07 16:27:22,567 [12250900]   WARN - #c.j.p.b.d.BladeDebugPathMapper - Blade Template debug: path to cache dir is not specified in the settings\n",
      "2023-05-07 16:27:22,654 [12250987]   WARN - #c.j.p.b.d.BladeDebugPathMapper - Blade Template debug: path to cache dir is not specified in the settings\n",
      "2023-05-07 16:27:22,661 [12250994]   WARN - #c.j.p.b.d.BladeDebugPathMapper - Blade Template debug: path to cache dir is not specified in the settings\n",
      "2023-05-07 16:27:24,020 [12252353]   WARN - #c.j.p.b.d.BladeDebugPathMapper - Blade Template debug: path to cache dir is not specified in the settings\n",
      "2023-05-07 16:27:24,027 [12252360]   WARN - #c.j.p.b.d.BladeDebugPathMapper - Blade Template debug: path to cache dir is not specified in the settings\n",
      "2023-05-07 16:27:24,222 [12252555]   WARN - #c.j.p.b.d.BladeDebugPathMapper - Blade Template debug: path to cache dir is not specified in the settings\n",
      "2023-05-07 16:27:24,229 [12252562]   WARN - #c.j.p.b.d.BladeDebugPathMapper - Blade Template debug: path to cache dir is not specified in the settings\n",
      "2023-05-07 16:27:24,329 [12252662]   WARN - #c.j.p.b.d.BladeDebugPathMapper - Blade Template debug: path to cache dir is not specified in the settings\n",
      "2023-05-07 16:27:24,335 [12252668]   WARN - #c.j.p.b.d.BladeDebugPathMapper - Blade Template debug: path to cache dir is not specified in the settings\n",
      "2023-05-07 16:27:24,426 [12252759]   WARN - #c.j.p.b.d.BladeDebugPathMapper - Blade Template debug: path to cache dir is not specified in the settings\n",
      "2023-05-07 16:27:24,434 [12252767]   WARN - #c.j.p.b.d.BladeDebugPathMapper - Blade Template debug: path to cache dir is not specified in the settings\n",
      "2023-05-07 16:27:24,626 [12252959]   WARN - #c.j.p.b.d.BladeDebugPathMapper - Blade Template debug: path to cache dir is not specified in the settings\n",
      "2023-05-07 16:27:24,633 [12252966]   WARN - #c.j.p.b.d.BladeDebugPathMapper - Blade Template debug: path to cache dir is not specified in the settings\n",
      "2023-05-07 16:27:42,834 [12271167]   WARN - #c.j.p.b.d.BladeDebugPathMapper - Blade Template debug: path to cache dir is not specified in the settings\n",
      "2023-05-07 16:27:42,838 [12271171]   WARN - #c.j.p.b.d.BladeDebugPathMapper - Blade Template debug: path to cache dir is not specified in the settings\n",
      "2023-05-07 16:27:43,037 [12271370]   WARN - #c.j.p.b.d.BladeDebugPathMapper - Blade Template debug: path to cache dir is not specified in the settings\n",
      "2023-05-07 16:27:43,042 [12271375]   WARN - #c.j.p.b.d.BladeDebugPathMapper - Blade Template debug: path to cache dir is not specified in the settings\n",
      "2023-05-07 16:27:43,138 [12271471]   WARN - #c.j.p.b.d.BladeDebugPathMapper - Blade Template debug: path to cache dir is not specified in the settings\n",
      "2023-05-07 16:27:43,143 [12271476]   WARN - #c.j.p.b.d.BladeDebugPathMapper - Blade Template debug: path to cache dir is not specified in the settings\n",
      "2023-05-07 16:27:43,240 [12271573]   WARN - #c.j.p.b.d.BladeDebugPathMapper - Blade Template debug: path to cache dir is not specified in the settings\n",
      "2023-05-07 16:27:43,244 [12271577]   WARN - #c.j.p.b.d.BladeDebugPathMapper - Blade Template debug: path to cache dir is not specified in the settings\n",
      "2023-05-07 16:27:43,341 [12271674]   WARN - #c.j.p.b.d.BladeDebugPathMapper - Blade Template debug: path to cache dir is not specified in the settings\n",
      "2023-05-07 16:27:43,344 [12271677]   WARN - #c.j.p.b.d.BladeDebugPathMapper - Blade Template debug: path to cache dir is not specified in the settings\n",
      "2023-05-07 16:28:06,861 [12295194]   WARN - #c.j.p.b.d.BladeDebugPathMapper - Blade Template debug: path to cache dir is not specified in the settings\n",
      "2023-05-07 16:28:06,865 [12295198]   WARN - #c.j.p.b.d.BladeDebugPathMapper - Blade Template debug: path to cache dir is not specified in the settings\n",
      "2023-05-07 16:28:07,063 [12295396]   WARN - #c.j.p.b.d.BladeDebugPathMapper - Blade Template debug: path to cache dir is not specified in the settings\n",
      "2023-05-07 16:28:07,068 [12295401]   WARN - #c.j.p.b.d.BladeDebugPathMapper - Blade Template debug: path to cache dir is not specified in the settings\n"
     ]
    },
    {
     "name": "stdout",
     "output_type": "stream",
     "text": [
      "2023-05-07 16:28:07,165 [12295498]   WARN - #c.j.p.b.d.BladeDebugPathMapper - Blade Template debug: path to cache dir is not specified in the settings\n",
      "2023-05-07 16:28:07,173 [12295506]   WARN - #c.j.p.b.d.BladeDebugPathMapper - Blade Template debug: path to cache dir is not specified in the settings\n",
      "2023-05-07 16:28:07,266 [12295599]   WARN - #c.j.p.b.d.BladeDebugPathMapper - Blade Template debug: path to cache dir is not specified in the settings\n",
      "2023-05-07 16:28:07,283 [12295616]   WARN - #c.j.p.b.d.BladeDebugPathMapper - Blade Template debug: path to cache dir is not specified in the settings\n",
      "2023-05-07 16:28:07,366 [12295699]   WARN - #c.j.p.b.d.BladeDebugPathMapper - Blade Template debug: path to cache dir is not specified in the settings\n",
      "2023-05-07 16:28:07,370 [12295703]   WARN - #c.j.p.b.d.BladeDebugPathMapper - Blade Template debug: path to cache dir is not specified in the settings\n",
      "2023-05-07 16:28:20,643 [12308976]   WARN - #c.j.p.b.d.BladeDebugPathMapper - Blade Template debug: path to cache dir is not specified in the settings\n",
      "2023-05-07 16:28:20,647 [12308980]   WARN - #c.j.p.b.d.BladeDebugPathMapper - Blade Template debug: path to cache dir is not specified in the settings\n",
      "2023-05-07 16:28:20,844 [12309177]   WARN - #c.j.p.b.d.BladeDebugPathMapper - Blade Template debug: path to cache dir is not specified in the settings\n",
      "2023-05-07 16:28:20,850 [12309183]   WARN - #c.j.p.b.d.BladeDebugPathMapper - Blade Template debug: path to cache dir is not specified in the settings\n",
      "2023-05-07 16:28:20,947 [12309280]   WARN - #c.j.p.b.d.BladeDebugPathMapper - Blade Template debug: path to cache dir is not specified in the settings\n",
      "2023-05-07 16:28:20,953 [12309286]   WARN - #c.j.p.b.d.BladeDebugPathMapper - Blade Template debug: path to cache dir is not specified in the settings\n",
      "2023-05-07 16:28:21,047 [12309380]   WARN - #c.j.p.b.d.BladeDebugPathMapper - Blade Template debug: path to cache dir is not specified in the settings\n",
      "2023-05-07 16:28:21,056 [12309389]   WARN - #c.j.p.b.d.BladeDebugPathMapper - Blade Template debug: path to cache dir is not specified in the settings\n",
      "2023-05-07 16:28:21,149 [12309482]   WARN - #c.j.p.b.d.BladeDebugPathMapper - Blade Template debug: path to cache dir is not specified in the settings\n",
      "2023-05-07 16:28:21,156 [12309489]   WARN - #c.j.p.b.d.BladeDebugPathMapper - Blade Template debug: path to cache dir is not specified in the settings\n",
      "2023-05-07 16:28:27,353 [12315686]   WARN - #c.j.p.b.d.BladeDebugPathMapper - Blade Template debug: path to cache dir is not specified in the settings\n",
      "2023-05-07 16:28:27,356 [12315689]   WARN - #c.j.p.b.d.BladeDebugPathMapper - Blade Template debug: path to cache dir is not specified in the settings\n",
      "2023-05-07 16:28:27,555 [12315888]   WARN - #c.j.p.b.d.BladeDebugPathMapper - Blade Template debug: path to cache dir is not specified in the settings\n",
      "2023-05-07 16:28:27,559 [12315892]   WARN - #c.j.p.b.d.BladeDebugPathMapper - Blade Template debug: path to cache dir is not specified in the settings\n",
      "2023-05-07 16:28:27,658 [12315991]   WARN - #c.j.p.b.d.BladeDebugPathMapper - Blade Template debug: path to cache dir is not specified in the settings\n",
      "2023-05-07 16:28:27,690 [12316023]   WARN - #c.j.p.b.d.BladeDebugPathMapper - Blade Template debug: path to cache dir is not specified in the settings\n",
      "2023-05-07 16:28:27,756 [12316089]   WARN - #c.j.p.b.d.BladeDebugPathMapper - Blade Template debug: path to cache dir is not specified in the settings\n",
      "2023-05-07 16:28:27,761 [12316094]   WARN - #c.j.p.b.d.BladeDebugPathMapper - Blade Template debug: path to cache dir is not specified in the settings\n",
      "2023-05-07 16:28:27,857 [12316190]   WARN - #c.j.p.b.d.BladeDebugPathMapper - Blade Template debug: path to cache dir is not specified in the settings\n",
      "2023-05-07 16:28:27,865 [12316198]   WARN - #c.j.p.b.d.BladeDebugPathMapper - Blade Template debug: path to cache dir is not specified in the settings\n",
      "2023-05-07 16:28:28,466 [12316799]   WARN - #c.j.p.b.d.BladeDebugPathMapper - Blade Template debug: path to cache dir is not specified in the settings\n",
      "2023-05-07 16:28:28,470 [12316803]   WARN - #c.j.p.b.d.BladeDebugPathMapper - Blade Template debug: path to cache dir is not specified in the settings\n",
      "2023-05-07 16:28:28,575 [12316908]   WARN - #c.j.p.b.d.BladeDebugPathMapper - Blade Template debug: path to cache dir is not specified in the settings\n",
      "2023-05-07 16:28:28,579 [12316912]   WARN - #c.j.p.b.d.BladeDebugPathMapper - Blade Template debug: path to cache dir is not specified in the settings\n",
      "2023-05-07 16:28:28,674 [12317007]   WARN - #c.j.p.b.d.BladeDebugPathMapper - Blade Template debug: path to cache dir is not specified in the settings\n",
      "2023-05-07 16:28:28,680 [12317013]   WARN - #c.j.p.b.d.BladeDebugPathMapper - Blade Template debug: path to cache dir is not specified in the settings\n",
      "2023-05-07 16:28:28,779 [12317112]   WARN - #c.j.p.b.d.BladeDebugPathMapper - Blade Template debug: path to cache dir is not specified in the settings\n",
      "2023-05-07 16:28:28,791 [12317124]   WARN - #c.j.p.b.d.BladeDebugPathMapper - Blade Template debug: path to cache dir is not specified in the settings\n",
      "2023-05-07 16:28:28,983 [12317316]   WARN - #c.j.p.b.d.BladeDebugPathMapper - Blade Template debug: path to cache dir is not specified in the settings\n",
      "2023-05-07 16:28:28,991 [12317324]   WARN - #c.j.p.b.d.BladeDebugPathMapper - Blade Template debug: path to cache dir is not specified in the settings\n",
      "2023-05-07 16:29:00,385 [12348718]   WARN - #c.j.p.b.d.BladeDebugPathMapper - Blade Template debug: path to cache dir is not specified in the settings\n",
      "2023-05-07 16:29:00,389 [12348722]   WARN - #c.j.p.b.d.BladeDebugPathMapper - Blade Template debug: path to cache dir is not specified in the settings\n",
      "2023-05-07 16:29:00,587 [12348920]   WARN - #c.j.p.b.d.BladeDebugPathMapper - Blade Template debug: path to cache dir is not specified in the settings\n",
      "2023-05-07 16:29:00,591 [12348924]   WARN - #c.j.p.b.d.BladeDebugPathMapper - Blade Template debug: path to cache dir is not specified in the settings\n",
      "2023-05-07 16:29:00,689 [12349022]   WARN - #c.j.p.b.d.BladeDebugPathMapper - Blade Template debug: path to cache dir is not specified in the settings\n",
      "2023-05-07 16:29:00,694 [12349027]   WARN - #c.j.p.b.d.BladeDebugPathMapper - Blade Template debug: path to cache dir is not specified in the settings\n",
      "2023-05-07 16:29:00,840 [12349173]   WARN - #c.j.p.b.d.BladeDebugPathMapper - Blade Template debug: path to cache dir is not specified in the settings\n",
      "2023-05-07 16:29:00,844 [12349177]   WARN - #c.j.p.b.d.BladeDebugPathMapper - Blade Template debug: path to cache dir is not specified in the settings\n",
      "2023-05-07 16:29:00,941 [12349274]   WARN - #c.j.p.b.d.BladeDebugPathMapper - Blade Template debug: path to cache dir is not specified in the settings\n",
      "2023-05-07 16:29:00,951 [12349284]   WARN - #c.j.p.b.d.BladeDebugPathMapper - Blade Template debug: path to cache dir is not specified in the settings\n",
      "2023-05-07 16:29:28,680 [12377013]   WARN - #c.j.p.b.d.BladeDebugPathMapper - Blade Template debug: path to cache dir is not specified in the settings\n",
      "2023-05-07 16:29:28,685 [12377018]   WARN - #c.j.p.b.d.BladeDebugPathMapper - Blade Template debug: path to cache dir is not specified in the settings\n",
      "2023-05-07 16:29:28,881 [12377214]   WARN - #c.j.p.b.d.BladeDebugPathMapper - Blade Template debug: path to cache dir is not specified in the settings\n",
      "2023-05-07 16:29:28,885 [12377218]   WARN - #c.j.p.b.d.BladeDebugPathMapper - Blade Template debug: path to cache dir is not specified in the settings\n",
      "2023-05-07 16:29:28,992 [12377325]   WARN - #c.j.p.b.d.BladeDebugPathMapper - Blade Template debug: path to cache dir is not specified in the settings\n",
      "2023-05-07 16:29:28,997 [12377330]   WARN - #c.j.p.b.d.BladeDebugPathMapper - Blade Template debug: path to cache dir is not specified in the settings\n",
      "2023-05-07 16:29:29,083 [12377416]   WARN - #c.j.p.b.d.BladeDebugPathMapper - Blade Template debug: path to cache dir is not specified in the settings\n",
      "2023-05-07 16:29:29,087 [12377420]   WARN - #c.j.p.b.d.BladeDebugPathMapper - Blade Template debug: path to cache dir is not specified in the settings\n",
      "2023-05-07 16:29:29,183 [12377516]   WARN - #c.j.p.b.d.BladeDebugPathMapper - Blade Template debug: path to cache dir is not specified in the settings\n",
      "2023-05-07 16:29:29,188 [12377521]   WARN - #c.j.p.b.d.BladeDebugPathMapper - Blade Template debug: path to cache dir is not specified in the settings\n"
     ]
    },
    {
     "name": "stdout",
     "output_type": "stream",
     "text": [
      "2023-05-07 16:31:01,185 [12469518]   WARN - #c.j.p.b.d.BladeDebugPathMapper - Blade Template debug: path to cache dir is not specified in the settings\n",
      "2023-05-07 16:31:01,190 [12469523]   WARN - #c.j.p.b.d.BladeDebugPathMapper - Blade Template debug: path to cache dir is not specified in the settings\n",
      "2023-05-07 16:31:01,385 [12469718]   WARN - #c.j.p.b.d.BladeDebugPathMapper - Blade Template debug: path to cache dir is not specified in the settings\n",
      "2023-05-07 16:31:01,396 [12469729]   WARN - #c.j.p.b.d.BladeDebugPathMapper - Blade Template debug: path to cache dir is not specified in the settings\n",
      "2023-05-07 16:31:01,489 [12469822]   WARN - #c.j.p.b.d.BladeDebugPathMapper - Blade Template debug: path to cache dir is not specified in the settings\n",
      "2023-05-07 16:31:01,496 [12469829]   WARN - #c.j.p.b.d.BladeDebugPathMapper - Blade Template debug: path to cache dir is not specified in the settings\n",
      "2023-05-07 16:31:01,588 [12469921]   WARN - #c.j.p.b.d.BladeDebugPathMapper - Blade Template debug: path to cache dir is not specified in the settings\n",
      "2023-05-07 16:31:01,593 [12469926]   WARN - #c.j.p.b.d.BladeDebugPathMapper - Blade Template debug: path to cache dir is not specified in the settings\n",
      "2023-05-07 16:31:01,694 [12470027]   WARN - #c.j.p.b.d.BladeDebugPathMapper - Blade Template debug: path to cache dir is not specified in the settings\n",
      "2023-05-07 16:31:01,701 [12470034]   WARN - #c.j.p.b.d.BladeDebugPathMapper - Blade Template debug: path to cache dir is not specified in the settings\n",
      "2023-05-07 16:31:18,298 [12486631]   WARN - #c.j.p.b.d.BladeDebugPathMapper - Blade Template debug: path to cache dir is not specified in the settings\n",
      "2023-05-07 16:31:18,303 [12486636]   WARN - #c.j.p.b.d.BladeDebugPathMapper - Blade Template debug: path to cache dir is not specified in the settings\n",
      "2023-05-07 16:31:18,434 [12486767]   WARN - #c.j.p.b.d.BladeDebugPathMapper - Blade Template debug: path to cache dir is not specified in the settings\n",
      "2023-05-07 16:31:18,443 [12486776]   WARN - #c.j.p.b.d.BladeDebugPathMapper - Blade Template debug: path to cache dir is not specified in the settings\n",
      "2023-05-07 16:31:18,502 [12486835]   WARN - #c.j.p.b.d.BladeDebugPathMapper - Blade Template debug: path to cache dir is not specified in the settings\n",
      "2023-05-07 16:31:18,505 [12486838]   WARN - #c.j.p.b.d.BladeDebugPathMapper - Blade Template debug: path to cache dir is not specified in the settings\n",
      "2023-05-07 16:31:18,603 [12486936]   WARN - #c.j.p.b.d.BladeDebugPathMapper - Blade Template debug: path to cache dir is not specified in the settings\n",
      "2023-05-07 16:31:18,613 [12486946]   WARN - #c.j.p.b.d.BladeDebugPathMapper - Blade Template debug: path to cache dir is not specified in the settings\n",
      "2023-05-07 16:31:18,703 [12487036]   WARN - #c.j.p.b.d.BladeDebugPathMapper - Blade Template debug: path to cache dir is not specified in the settings\n",
      "2023-05-07 16:31:18,707 [12487040]   WARN - #c.j.p.b.d.BladeDebugPathMapper - Blade Template debug: path to cache dir is not specified in the settings\n",
      "2023-05-07 16:31:42,339 [12510672]   WARN - #c.j.p.b.d.BladeDebugPathMapper - Blade Template debug: path to cache dir is not specified in the settings\n",
      "2023-05-07 16:31:42,343 [12510676]   WARN - #c.j.p.b.d.BladeDebugPathMapper - Blade Template debug: path to cache dir is not specified in the settings\n",
      "2023-05-07 16:31:42,540 [12510873]   WARN - #c.j.p.b.d.BladeDebugPathMapper - Blade Template debug: path to cache dir is not specified in the settings\n",
      "2023-05-07 16:31:42,545 [12510878]   WARN - #c.j.p.b.d.BladeDebugPathMapper - Blade Template debug: path to cache dir is not specified in the settings\n",
      "2023-05-07 16:31:42,641 [12510974]   WARN - #c.j.p.b.d.BladeDebugPathMapper - Blade Template debug: path to cache dir is not specified in the settings\n",
      "2023-05-07 16:31:42,653 [12510986]   WARN - #c.j.p.b.d.BladeDebugPathMapper - Blade Template debug: path to cache dir is not specified in the settings\n",
      "2023-05-07 16:31:42,741 [12511074]   WARN - #c.j.p.b.d.BladeDebugPathMapper - Blade Template debug: path to cache dir is not specified in the settings\n",
      "2023-05-07 16:31:42,749 [12511082]   WARN - #c.j.p.b.d.BladeDebugPathMapper - Blade Template debug: path to cache dir is not specified in the settings\n",
      "2023-05-07 16:31:42,842 [12511175]   WARN - #c.j.p.b.d.BladeDebugPathMapper - Blade Template debug: path to cache dir is not specified in the settings\n",
      "2023-05-07 16:31:42,853 [12511186]   WARN - #c.j.p.b.d.BladeDebugPathMapper - Blade Template debug: path to cache dir is not specified in the settings\n",
      "2023-05-07 16:32:11,736 [12540069]   WARN - #c.j.p.b.d.BladeDebugPathMapper - Blade Template debug: path to cache dir is not specified in the settings\n",
      "2023-05-07 16:32:11,747 [12540080]   WARN - #c.j.p.b.d.BladeDebugPathMapper - Blade Template debug: path to cache dir is not specified in the settings\n",
      "2023-05-07 16:32:11,935 [12540268]   WARN - #c.j.p.b.d.BladeDebugPathMapper - Blade Template debug: path to cache dir is not specified in the settings\n",
      "2023-05-07 16:32:11,939 [12540272]   WARN - #c.j.p.b.d.BladeDebugPathMapper - Blade Template debug: path to cache dir is not specified in the settings\n",
      "2023-05-07 16:32:12,037 [12540370]   WARN - #c.j.p.b.d.BladeDebugPathMapper - Blade Template debug: path to cache dir is not specified in the settings\n",
      "2023-05-07 16:32:12,050 [12540383]   WARN - #c.j.p.b.d.BladeDebugPathMapper - Blade Template debug: path to cache dir is not specified in the settings\n",
      "2023-05-07 16:32:12,137 [12540470]   WARN - #c.j.p.b.d.BladeDebugPathMapper - Blade Template debug: path to cache dir is not specified in the settings\n",
      "2023-05-07 16:32:12,141 [12540474]   WARN - #c.j.p.b.d.BladeDebugPathMapper - Blade Template debug: path to cache dir is not specified in the settings\n",
      "2023-05-07 16:32:12,237 [12540570]   WARN - #c.j.p.b.d.BladeDebugPathMapper - Blade Template debug: path to cache dir is not specified in the settings\n",
      "2023-05-07 16:32:12,240 [12540573]   WARN - #c.j.p.b.d.BladeDebugPathMapper - Blade Template debug: path to cache dir is not specified in the settings\n",
      "2023-05-07 16:32:41,983 [12570316]   WARN - #c.j.p.b.d.BladeDebugPathMapper - Blade Template debug: path to cache dir is not specified in the settings\n",
      "2023-05-07 16:32:41,996 [12570329]   WARN - #c.j.p.b.d.BladeDebugPathMapper - Blade Template debug: path to cache dir is not specified in the settings\n",
      "2023-05-07 16:32:42,180 [12570513]   WARN - #c.j.p.b.d.BladeDebugPathMapper - Blade Template debug: path to cache dir is not specified in the settings\n",
      "2023-05-07 16:32:42,185 [12570518]   WARN - #c.j.p.b.d.BladeDebugPathMapper - Blade Template debug: path to cache dir is not specified in the settings\n",
      "2023-05-07 16:32:42,282 [12570615]   WARN - #c.j.p.b.d.BladeDebugPathMapper - Blade Template debug: path to cache dir is not specified in the settings\n",
      "2023-05-07 16:32:42,291 [12570624]   WARN - #c.j.p.b.d.BladeDebugPathMapper - Blade Template debug: path to cache dir is not specified in the settings\n",
      "2023-05-07 16:32:42,382 [12570715]   WARN - #c.j.p.b.d.BladeDebugPathMapper - Blade Template debug: path to cache dir is not specified in the settings\n",
      "2023-05-07 16:32:42,390 [12570723]   WARN - #c.j.p.b.d.BladeDebugPathMapper - Blade Template debug: path to cache dir is not specified in the settings\n",
      "2023-05-07 16:32:42,482 [12570815]   WARN - #c.j.p.b.d.BladeDebugPathMapper - Blade Template debug: path to cache dir is not specified in the settings\n",
      "2023-05-07 16:32:42,486 [12570819]   WARN - #c.j.p.b.d.BladeDebugPathMapper - Blade Template debug: path to cache dir is not specified in the settings\n",
      "2023-05-07 16:33:06,885 [12595218]   WARN - #c.j.p.b.d.BladeDebugPathMapper - Blade Template debug: path to cache dir is not specified in the settings\n",
      "2023-05-07 16:33:06,889 [12595222]   WARN - #c.j.p.b.d.BladeDebugPathMapper - Blade Template debug: path to cache dir is not specified in the settings\n",
      "2023-05-07 16:33:07,088 [12595421]   WARN - #c.j.p.b.d.BladeDebugPathMapper - Blade Template debug: path to cache dir is not specified in the settings\n",
      "2023-05-07 16:33:07,092 [12595425]   WARN - #c.j.p.b.d.BladeDebugPathMapper - Blade Template debug: path to cache dir is not specified in the settings\n",
      "2023-05-07 16:33:07,193 [12595526]   WARN - #c.j.p.b.d.BladeDebugPathMapper - Blade Template debug: path to cache dir is not specified in the settings\n",
      "2023-05-07 16:33:07,200 [12595533]   WARN - #c.j.p.b.d.BladeDebugPathMapper - Blade Template debug: path to cache dir is not specified in the settings\n"
     ]
    },
    {
     "name": "stdout",
     "output_type": "stream",
     "text": [
      "2023-05-07 16:33:07,292 [12595625]   WARN - #c.j.p.b.d.BladeDebugPathMapper - Blade Template debug: path to cache dir is not specified in the settings\n",
      "2023-05-07 16:33:07,300 [12595633]   WARN - #c.j.p.b.d.BladeDebugPathMapper - Blade Template debug: path to cache dir is not specified in the settings\n",
      "2023-05-07 16:33:07,395 [12595728]   WARN - #c.j.p.b.d.BladeDebugPathMapper - Blade Template debug: path to cache dir is not specified in the settings\n",
      "2023-05-07 16:33:07,399 [12595732]   WARN - #c.j.p.b.d.BladeDebugPathMapper - Blade Template debug: path to cache dir is not specified in the settings\n",
      "2023-05-07 16:33:24,971 [12613304]   WARN - #c.j.p.b.d.BladeDebugPathMapper - Blade Template debug: path to cache dir is not specified in the settings\n",
      "2023-05-07 16:33:24,974 [12613307]   WARN - #c.j.p.b.d.BladeDebugPathMapper - Blade Template debug: path to cache dir is not specified in the settings\n",
      "2023-05-07 16:33:25,173 [12613506]   WARN - #c.j.p.b.d.BladeDebugPathMapper - Blade Template debug: path to cache dir is not specified in the settings\n",
      "2023-05-07 16:33:25,180 [12613513]   WARN - #c.j.p.b.d.BladeDebugPathMapper - Blade Template debug: path to cache dir is not specified in the settings\n",
      "2023-05-07 16:33:25,275 [12613608]   WARN - #c.j.p.b.d.BladeDebugPathMapper - Blade Template debug: path to cache dir is not specified in the settings\n",
      "2023-05-07 16:33:25,281 [12613614]   WARN - #c.j.p.b.d.BladeDebugPathMapper - Blade Template debug: path to cache dir is not specified in the settings\n",
      "2023-05-07 16:33:25,385 [12613718]   WARN - #c.j.p.b.d.BladeDebugPathMapper - Blade Template debug: path to cache dir is not specified in the settings\n",
      "2023-05-07 16:33:25,391 [12613724]   WARN - #c.j.p.b.d.BladeDebugPathMapper - Blade Template debug: path to cache dir is not specified in the settings\n",
      "2023-05-07 16:33:25,485 [12613818]   WARN - #c.j.p.b.d.BladeDebugPathMapper - Blade Template debug: path to cache dir is not specified in the settings\n",
      "2023-05-07 16:33:25,488 [12613821]   WARN - #c.j.p.b.d.BladeDebugPathMapper - Blade Template debug: path to cache dir is not specified in the settings\n",
      "2023-05-07 16:33:38,606 [12626939]   WARN - #c.j.p.b.d.BladeDebugPathMapper - Blade Template debug: path to cache dir is not specified in the settings\n",
      "2023-05-07 16:33:38,614 [12626947]   WARN - #c.j.p.b.d.BladeDebugPathMapper - Blade Template debug: path to cache dir is not specified in the settings\n",
      "2023-05-07 16:33:38,707 [12627040]   WARN - #c.j.p.b.d.BladeDebugPathMapper - Blade Template debug: path to cache dir is not specified in the settings\n",
      "2023-05-07 16:33:38,710 [12627043]   WARN - #c.j.p.b.d.BladeDebugPathMapper - Blade Template debug: path to cache dir is not specified in the settings\n",
      "2023-05-07 16:33:38,807 [12627140]   WARN - #c.j.p.b.d.BladeDebugPathMapper - Blade Template debug: path to cache dir is not specified in the settings\n",
      "2023-05-07 16:33:38,813 [12627146]   WARN - #c.j.p.b.d.BladeDebugPathMapper - Blade Template debug: path to cache dir is not specified in the settings\n",
      "2023-05-07 16:33:38,908 [12627241]   WARN - #c.j.p.b.d.BladeDebugPathMapper - Blade Template debug: path to cache dir is not specified in the settings\n",
      "2023-05-07 16:33:38,912 [12627245]   WARN - #c.j.p.b.d.BladeDebugPathMapper - Blade Template debug: path to cache dir is not specified in the settings\n",
      "2023-05-07 16:33:39,008 [12627341]   WARN - #c.j.p.b.d.BladeDebugPathMapper - Blade Template debug: path to cache dir is not specified in the settings\n",
      "2023-05-07 16:33:39,013 [12627346]   WARN - #c.j.p.b.d.BladeDebugPathMapper - Blade Template debug: path to cache dir is not specified in the settings\n",
      "2023-05-07 16:33:39,109 [12627442]   WARN - #c.j.p.b.d.BladeDebugPathMapper - Blade Template debug: path to cache dir is not specified in the settings\n",
      "2023-05-07 16:33:39,116 [12627449]   WARN - #c.j.p.b.d.BladeDebugPathMapper - Blade Template debug: path to cache dir is not specified in the settings\n",
      "2023-05-07 16:33:39,920 [12628253]   WARN - #c.j.p.b.d.BladeDebugPathMapper - Blade Template debug: path to cache dir is not specified in the settings\n",
      "2023-05-07 16:33:39,924 [12628257]   WARN - #c.j.p.b.d.BladeDebugPathMapper - Blade Template debug: path to cache dir is not specified in the settings\n",
      "2023-05-07 16:33:40,020 [12628353]   WARN - #c.j.p.b.d.BladeDebugPathMapper - Blade Template debug: path to cache dir is not specified in the settings\n",
      "2023-05-07 16:33:40,024 [12628357]   WARN - #c.j.p.b.d.BladeDebugPathMapper - Blade Template debug: path to cache dir is not specified in the settings\n",
      "2023-05-07 16:33:40,121 [12628454]   WARN - #c.j.p.b.d.BladeDebugPathMapper - Blade Template debug: path to cache dir is not specified in the settings\n",
      "2023-05-07 16:33:40,126 [12628459]   WARN - #c.j.p.b.d.BladeDebugPathMapper - Blade Template debug: path to cache dir is not specified in the settings\n",
      "2023-05-07 16:33:40,229 [12628562]   WARN - #c.j.p.b.d.BladeDebugPathMapper - Blade Template debug: path to cache dir is not specified in the settings\n",
      "2023-05-07 16:33:40,237 [12628570]   WARN - #c.j.p.b.d.BladeDebugPathMapper - Blade Template debug: path to cache dir is not specified in the settings\n",
      "2023-05-07 16:33:40,545 [12628878]   WARN - #c.j.p.b.d.BladeDebugPathMapper - Blade Template debug: path to cache dir is not specified in the settings\n",
      "2023-05-07 16:33:40,552 [12628885]   WARN - #c.j.p.b.d.BladeDebugPathMapper - Blade Template debug: path to cache dir is not specified in the settings\n",
      "2023-05-07 16:33:48,717 [12637050]   WARN - #c.j.p.b.d.BladeDebugPathMapper - Blade Template debug: path to cache dir is not specified in the settings\n",
      "2023-05-07 16:33:48,720 [12637053]   WARN - #c.j.p.b.d.BladeDebugPathMapper - Blade Template debug: path to cache dir is not specified in the settings\n",
      "2023-05-07 16:33:48,925 [12637258]   WARN - #c.j.p.b.d.BladeDebugPathMapper - Blade Template debug: path to cache dir is not specified in the settings\n",
      "2023-05-07 16:33:48,931 [12637264]   WARN - #c.j.p.b.d.BladeDebugPathMapper - Blade Template debug: path to cache dir is not specified in the settings\n",
      "2023-05-07 16:33:49,127 [12637460]   WARN - #c.j.p.b.d.BladeDebugPathMapper - Blade Template debug: path to cache dir is not specified in the settings\n",
      "2023-05-07 16:33:49,132 [12637465]   WARN - #c.j.p.b.d.BladeDebugPathMapper - Blade Template debug: path to cache dir is not specified in the settings\n",
      "2023-05-07 16:33:49,229 [12637562]   WARN - #c.j.p.b.d.BladeDebugPathMapper - Blade Template debug: path to cache dir is not specified in the settings\n",
      "2023-05-07 16:33:49,232 [12637565]   WARN - #c.j.p.b.d.BladeDebugPathMapper - Blade Template debug: path to cache dir is not specified in the settings\n",
      "2023-05-07 16:33:49,331 [12637664]   WARN - #c.j.p.b.d.BladeDebugPathMapper - Blade Template debug: path to cache dir is not specified in the settings\n",
      "2023-05-07 16:33:49,339 [12637672]   WARN - #c.j.p.b.d.BladeDebugPathMapper - Blade Template debug: path to cache dir is not specified in the settings\n",
      "2023-05-07 16:33:49,533 [12637866]   WARN - #c.j.p.b.d.BladeDebugPathMapper - Blade Template debug: path to cache dir is not specified in the settings\n",
      "2023-05-07 16:33:49,538 [12637871]   WARN - #c.j.p.b.d.BladeDebugPathMapper - Blade Template debug: path to cache dir is not specified in the settings\n",
      "2023-05-07 16:33:52,500 [12640833]   WARN - #c.j.p.b.d.BladeDebugPathMapper - Blade Template debug: path to cache dir is not specified in the settings\n",
      "2023-05-07 16:33:52,503 [12640836]   WARN - #c.j.p.b.d.BladeDebugPathMapper - Blade Template debug: path to cache dir is not specified in the settings\n",
      "2023-05-07 16:33:52,600 [12640933]   WARN - #c.j.p.b.d.BladeDebugPathMapper - Blade Template debug: path to cache dir is not specified in the settings\n",
      "2023-05-07 16:33:52,604 [12640937]   WARN - #c.j.p.b.d.BladeDebugPathMapper - Blade Template debug: path to cache dir is not specified in the settings\n",
      "2023-05-07 16:33:52,701 [12641034]   WARN - #c.j.p.b.d.BladeDebugPathMapper - Blade Template debug: path to cache dir is not specified in the settings\n",
      "2023-05-07 16:33:52,707 [12641040]   WARN - #c.j.p.b.d.BladeDebugPathMapper - Blade Template debug: path to cache dir is not specified in the settings\n",
      "2023-05-07 16:33:52,803 [12641136]   WARN - #c.j.p.b.d.BladeDebugPathMapper - Blade Template debug: path to cache dir is not specified in the settings\n"
     ]
    },
    {
     "name": "stdout",
     "output_type": "stream",
     "text": [
      "2023-05-07 16:33:52,813 [12641146]   WARN - #c.j.p.b.d.BladeDebugPathMapper - Blade Template debug: path to cache dir is not specified in the settings\n",
      "2023-05-07 16:33:52,905 [12641238]   WARN - #c.j.p.b.d.BladeDebugPathMapper - Blade Template debug: path to cache dir is not specified in the settings\n",
      "2023-05-07 16:33:52,911 [12641244]   WARN - #c.j.p.b.d.BladeDebugPathMapper - Blade Template debug: path to cache dir is not specified in the settings\n",
      "2023-05-07 16:36:56,771 [12825104]   WARN - #c.j.p.b.d.BladeDebugPathMapper - Blade Template debug: path to cache dir is not specified in the settings\n",
      "2023-05-07 16:36:56,777 [12825110]   WARN - #c.j.p.b.d.BladeDebugPathMapper - Blade Template debug: path to cache dir is not specified in the settings\n",
      "2023-05-07 16:36:56,972 [12825305]   WARN - #c.j.p.b.d.BladeDebugPathMapper - Blade Template debug: path to cache dir is not specified in the settings\n",
      "2023-05-07 16:36:56,977 [12825310]   WARN - #c.j.p.b.d.BladeDebugPathMapper - Blade Template debug: path to cache dir is not specified in the settings\n",
      "2023-05-07 16:36:57,074 [12825407]   WARN - #c.j.p.b.d.BladeDebugPathMapper - Blade Template debug: path to cache dir is not specified in the settings\n",
      "2023-05-07 16:36:57,082 [12825415]   WARN - #c.j.p.b.d.BladeDebugPathMapper - Blade Template debug: path to cache dir is not specified in the settings\n",
      "2023-05-07 16:36:57,177 [12825510]   WARN - #c.j.p.b.d.BladeDebugPathMapper - Blade Template debug: path to cache dir is not specified in the settings\n",
      "2023-05-07 16:36:57,189 [12825522]   WARN - #c.j.p.b.d.BladeDebugPathMapper - Blade Template debug: path to cache dir is not specified in the settings\n",
      "2023-05-07 16:36:57,277 [12825610]   WARN - #c.j.p.b.d.BladeDebugPathMapper - Blade Template debug: path to cache dir is not specified in the settings\n",
      "2023-05-07 16:36:57,300 [12825633]   WARN - #c.j.p.b.d.BladeDebugPathMapper - Blade Template debug: path to cache dir is not specified in the settings\n",
      "2023-05-07 16:38:19,010 [12907343]   WARN - #c.j.p.b.d.BladeDebugPathMapper - Blade Template debug: path to cache dir is not specified in the settings\n",
      "2023-05-07 16:38:19,016 [12907349]   WARN - #c.j.p.b.d.BladeDebugPathMapper - Blade Template debug: path to cache dir is not specified in the settings\n",
      "2023-05-07 16:38:19,317 [12907650]   WARN - #c.j.p.b.d.BladeDebugPathMapper - Blade Template debug: path to cache dir is not specified in the settings\n",
      "2023-05-07 16:38:19,324 [12907657]   WARN - #c.j.p.b.d.BladeDebugPathMapper - Blade Template debug: path to cache dir is not specified in the settings\n",
      "2023-05-07 16:38:19,418 [12907751]   WARN - #c.j.p.b.d.BladeDebugPathMapper - Blade Template debug: path to cache dir is not specified in the settings\n",
      "2023-05-07 16:38:19,423 [12907756]   WARN - #c.j.p.b.d.BladeDebugPathMapper - Blade Template debug: path to cache dir is not specified in the settings\n",
      "2023-05-07 16:38:19,518 [12907851]   WARN - #c.j.p.b.d.BladeDebugPathMapper - Blade Template debug: path to cache dir is not specified in the settings\n",
      "2023-05-07 16:38:19,524 [12907857]   WARN - #c.j.p.b.d.BladeDebugPathMapper - Blade Template debug: path to cache dir is not specified in the settings\n",
      "2023-05-07 16:38:19,620 [12907953]   WARN - #c.j.p.b.d.BladeDebugPathMapper - Blade Template debug: path to cache dir is not specified in the settings\n",
      "2023-05-07 16:38:19,626 [12907959]   WARN - #c.j.p.b.d.BladeDebugPathMapper - Blade Template debug: path to cache dir is not specified in the settings\n",
      "2023-05-07 16:38:26,146 [12914479]   WARN - #c.j.p.b.d.BladeDebugPathMapper - Blade Template debug: path to cache dir is not specified in the settings\n",
      "2023-05-07 16:38:26,149 [12914482]   WARN - #c.j.p.b.d.BladeDebugPathMapper - Blade Template debug: path to cache dir is not specified in the settings\n",
      "2023-05-07 16:38:26,347 [12914680]   WARN - #c.j.p.b.d.BladeDebugPathMapper - Blade Template debug: path to cache dir is not specified in the settings\n",
      "2023-05-07 16:38:26,359 [12914692]   WARN - #c.j.p.b.d.BladeDebugPathMapper - Blade Template debug: path to cache dir is not specified in the settings\n",
      "2023-05-07 16:38:29,498 [12917831]   WARN - #c.j.p.b.d.BladeDebugPathMapper - Blade Template debug: path to cache dir is not specified in the settings\n",
      "2023-05-07 16:38:29,502 [12917835]   WARN - #c.j.p.b.d.BladeDebugPathMapper - Blade Template debug: path to cache dir is not specified in the settings\n",
      "2023-05-07 16:38:57,309 [12945642]   WARN - #c.j.p.b.d.BladeDebugPathMapper - Blade Template debug: path to cache dir is not specified in the settings\n",
      "2023-05-07 16:38:57,313 [12945646]   WARN - #c.j.p.b.d.BladeDebugPathMapper - Blade Template debug: path to cache dir is not specified in the settings\n",
      "2023-05-07 16:38:57,513 [12945846]   WARN - #c.j.p.b.d.BladeDebugPathMapper - Blade Template debug: path to cache dir is not specified in the settings\n",
      "2023-05-07 16:38:57,521 [12945854]   WARN - #c.j.p.b.d.BladeDebugPathMapper - Blade Template debug: path to cache dir is not specified in the settings\n",
      "2023-05-07 16:39:01,687 [12950020]   WARN - #c.j.p.b.d.BladeDebugPathMapper - Blade Template debug: path to cache dir is not specified in the settings\n",
      "2023-05-07 16:39:01,692 [12950025]   WARN - #c.j.p.b.d.BladeDebugPathMapper - Blade Template debug: path to cache dir is not specified in the settings\n",
      "2023-05-07 16:39:20,170 [12968503]   WARN - #c.j.p.b.d.BladeDebugPathMapper - Blade Template debug: path to cache dir is not specified in the settings\n",
      "2023-05-07 16:39:20,174 [12968507]   WARN - #c.j.p.b.d.BladeDebugPathMapper - Blade Template debug: path to cache dir is not specified in the settings\n",
      "2023-05-07 16:39:20,374 [12968707]   WARN - #c.j.p.b.d.BladeDebugPathMapper - Blade Template debug: path to cache dir is not specified in the settings\n",
      "2023-05-07 16:39:20,382 [12968715]   WARN - #c.j.p.b.d.BladeDebugPathMapper - Blade Template debug: path to cache dir is not specified in the settings\n",
      "2023-05-07 16:39:42,047 [12990380]   WARN - #c.j.p.b.d.BladeDebugPathMapper - Blade Template debug: path to cache dir is not specified in the settings\n",
      "2023-05-07 16:39:42,052 [12990385]   WARN - #c.j.p.b.d.BladeDebugPathMapper - Blade Template debug: path to cache dir is not specified in the settings\n",
      "2023-05-07 16:39:43,056 [12991389]   WARN - #c.j.p.b.d.BladeDebugPathMapper - Blade Template debug: path to cache dir is not specified in the settings\n",
      "2023-05-07 16:39:43,060 [12991393]   WARN - #c.j.p.b.d.BladeDebugPathMapper - Blade Template debug: path to cache dir is not specified in the settings\n",
      "2023-05-07 16:39:48,023 [12996356]   WARN - #c.j.p.b.d.BladeDebugPathMapper - Blade Template debug: path to cache dir is not specified in the settings\n",
      "2023-05-07 16:39:48,027 [12996360]   WARN - #c.j.p.b.d.BladeDebugPathMapper - Blade Template debug: path to cache dir is not specified in the settings\n",
      "2023-05-07 16:39:48,125 [12996458]   WARN - #c.j.p.b.d.BladeDebugPathMapper - Blade Template debug: path to cache dir is not specified in the settings\n",
      "2023-05-07 16:39:48,132 [12996465]   WARN - #c.j.p.b.d.BladeDebugPathMapper - Blade Template debug: path to cache dir is not specified in the settings\n",
      "2023-05-07 16:39:48,224 [12996557]   WARN - #c.j.p.b.d.BladeDebugPathMapper - Blade Template debug: path to cache dir is not specified in the settings\n",
      "2023-05-07 16:39:48,228 [12996561]   WARN - #c.j.p.b.d.BladeDebugPathMapper - Blade Template debug: path to cache dir is not specified in the settings\n",
      "2023-05-07 16:39:48,330 [12996663]   WARN - #c.j.p.b.d.BladeDebugPathMapper - Blade Template debug: path to cache dir is not specified in the settings\n",
      "2023-05-07 16:39:48,338 [12996671]   WARN - #c.j.p.b.d.BladeDebugPathMapper - Blade Template debug: path to cache dir is not specified in the settings\n",
      "2023-05-07 16:42:24,087 [13152420]   WARN - #c.j.p.b.d.BladeDebugPathMapper - Blade Template debug: path to cache dir is not specified in the settings\n",
      "2023-05-07 16:42:24,090 [13152423]   WARN - #c.j.p.b.d.BladeDebugPathMapper - Blade Template debug: path to cache dir is not specified in the settings\n",
      "2023-05-07 16:42:31,424 [13159757]   WARN - #c.j.p.b.d.BladeDebugPathMapper - Blade Template debug: path to cache dir is not specified in the settings\n",
      "2023-05-07 16:42:31,428 [13159761]   WARN - #c.j.p.b.d.BladeDebugPathMapper - Blade Template debug: path to cache dir is not specified in the settings\n"
     ]
    },
    {
     "name": "stdout",
     "output_type": "stream",
     "text": [
      "2023-05-07 16:43:16,510 [13204843]   WARN - #c.j.p.b.d.BladeDebugPathMapper - Blade Template debug: path to cache dir is not specified in the settings\n",
      "2023-05-07 16:43:16,513 [13204846]   WARN - #c.j.p.b.d.BladeDebugPathMapper - Blade Template debug: path to cache dir is not specified in the settings\n",
      "2023-05-07 16:43:21,903 [13210236]   WARN - #c.j.p.b.d.BladeDebugPathMapper - Blade Template debug: path to cache dir is not specified in the settings\n",
      "2023-05-07 16:43:21,909 [13210242]   WARN - #c.j.p.b.d.BladeDebugPathMapper - Blade Template debug: path to cache dir is not specified in the settings\n",
      "2023-05-07 16:43:26,000 [13214333]   WARN - #c.j.p.b.d.BladeDebugPathMapper - Blade Template debug: path to cache dir is not specified in the settings\n",
      "2023-05-07 16:43:26,005 [13214338]   WARN - #c.j.p.b.d.BladeDebugPathMapper - Blade Template debug: path to cache dir is not specified in the settings\n",
      "2023-05-07 16:43:29,148 [13217481]   WARN - #c.j.p.b.d.BladeDebugPathMapper - Blade Template debug: path to cache dir is not specified in the settings\n",
      "2023-05-07 16:43:29,154 [13217487]   WARN - #c.j.p.b.d.BladeDebugPathMapper - Blade Template debug: path to cache dir is not specified in the settings\n",
      "2023-05-07 16:43:33,156 [13221489]   WARN - #c.j.p.b.d.BladeDebugPathMapper - Blade Template debug: path to cache dir is not specified in the settings\n",
      "2023-05-07 16:43:33,160 [13221493]   WARN - #c.j.p.b.d.BladeDebugPathMapper - Blade Template debug: path to cache dir is not specified in the settings\n",
      "2023-05-07 16:43:49,254 [13237587]   WARN - #c.j.p.b.d.BladeDebugPathMapper - Blade Template debug: path to cache dir is not specified in the settings\n",
      "2023-05-07 16:43:49,257 [13237590]   WARN - #c.j.p.b.d.BladeDebugPathMapper - Blade Template debug: path to cache dir is not specified in the settings\n",
      "2023-05-07 16:43:51,586 [13239919]   WARN - #c.j.p.b.d.BladeDebugPathMapper - Blade Template debug: path to cache dir is not specified in the settings\n",
      "2023-05-07 16:43:51,592 [13239925]   WARN - #c.j.p.b.d.BladeDebugPathMapper - Blade Template debug: path to cache dir is not specified in the settings\n",
      "2023-05-07 16:43:51,687 [13240020]   WARN - #c.j.p.b.d.BladeDebugPathMapper - Blade Template debug: path to cache dir is not specified in the settings\n",
      "2023-05-07 16:43:51,690 [13240023]   WARN - #c.j.p.b.d.BladeDebugPathMapper - Blade Template debug: path to cache dir is not specified in the settings\n",
      "2023-05-07 16:43:51,789 [13240122]   WARN - #c.j.p.b.d.BladeDebugPathMapper - Blade Template debug: path to cache dir is not specified in the settings\n",
      "2023-05-07 16:43:51,792 [13240125]   WARN - #c.j.p.b.d.BladeDebugPathMapper - Blade Template debug: path to cache dir is not specified in the settings\n",
      "2023-05-07 16:43:51,889 [13240222]   WARN - #c.j.p.b.d.BladeDebugPathMapper - Blade Template debug: path to cache dir is not specified in the settings\n",
      "2023-05-07 16:43:51,894 [13240227]   WARN - #c.j.p.b.d.BladeDebugPathMapper - Blade Template debug: path to cache dir is not specified in the settings\n",
      "2023-05-07 16:45:50,898 [13359231]   WARN - #c.j.p.b.d.BladeDebugPathMapper - Blade Template debug: path to cache dir is not specified in the settings\n",
      "2023-05-07 16:45:50,902 [13359235]   WARN - #c.j.p.b.d.BladeDebugPathMapper - Blade Template debug: path to cache dir is not specified in the settings\n",
      "2023-05-07 16:45:55,869 [13364202]   WARN - #c.j.p.b.d.BladeDebugPathMapper - Blade Template debug: path to cache dir is not specified in the settings\n",
      "2023-05-07 16:45:55,873 [13364206]   WARN - #c.j.p.b.d.BladeDebugPathMapper - Blade Template debug: path to cache dir is not specified in the settings\n",
      "2023-05-07 16:51:35,491 [13703824]   WARN - #c.j.p.PhpIndex - Invalid Signature '\\PHPUnit\\Framework\\class-string'\n",
      "2023-05-07 16:51:44,169 [13712502]   WARN - #c.j.p.PhpIndex - Invalid Signature '\\PHPUnit\\Framework\\class-string'\n",
      "2023-05-07 16:56:29,853 [13998186]   WARN - #c.j.p.b.d.BladeDebugPathMapper - Blade Template debug: path to cache dir is not specified in the settings\n",
      "2023-05-07 16:56:29,856 [13998189]   WARN - #c.j.p.b.d.BladeDebugPathMapper - Blade Template debug: path to cache dir is not specified in the settings\n",
      "2023-05-07 16:57:37,937 [14066270]   WARN - #c.j.p.b.d.BladeDebugPathMapper - Blade Template debug: path to cache dir is not specified in the settings\n",
      "2023-05-07 16:57:37,941 [14066274]   WARN - #c.j.p.b.d.BladeDebugPathMapper - Blade Template debug: path to cache dir is not specified in the settings\n",
      "2023-05-07 16:58:05,116 [14093449]   WARN - #c.j.p.PhpIndex - Invalid Signature '\\PHPUnit\\Framework\\class-string'\n",
      "2023-05-07 17:00:24,862 [14233195]   WARN - #c.j.p.b.d.BladeDebugPathMapper - Blade Template debug: path to cache dir is not specified in the settings\n",
      "2023-05-07 17:00:24,866 [14233199]   WARN - #c.j.p.b.d.BladeDebugPathMapper - Blade Template debug: path to cache dir is not specified in the settings\n",
      "2023-05-07 17:00:31,748 [14240081]   WARN - #c.j.p.b.d.BladeDebugPathMapper - Blade Template debug: path to cache dir is not specified in the settings\n",
      "2023-05-07 17:00:31,752 [14240085]   WARN - #c.j.p.b.d.BladeDebugPathMapper - Blade Template debug: path to cache dir is not specified in the settings\n",
      "2023-05-07 17:01:56,296 [14324629]   WARN - #c.j.p.b.d.BladeDebugPathMapper - Blade Template debug: path to cache dir is not specified in the settings\n",
      "2023-05-07 17:01:56,299 [14324632]   WARN - #c.j.p.b.d.BladeDebugPathMapper - Blade Template debug: path to cache dir is not specified in the settings\n",
      "2023-05-07 17:02:00,244 [14328577]   WARN - #c.j.p.b.d.BladeDebugPathMapper - Blade Template debug: path to cache dir is not specified in the settings\n",
      "2023-05-07 17:02:00,249 [14328582]   WARN - #c.j.p.b.d.BladeDebugPathMapper - Blade Template debug: path to cache dir is not specified in the settings\n",
      "2023-05-07 17:03:02,295 [14390628]   WARN - #c.j.p.PhpIndex - Invalid Signature '\\PHPUnit\\Framework\\class-string'\n",
      "2023-05-07 17:03:08,506 [14396839]   WARN - #c.j.p.b.d.BladeDebugPathMapper - Blade Template debug: path to cache dir is not specified in the settings\n",
      "2023-05-07 17:03:08,513 [14396846]   WARN - #c.j.p.b.d.BladeDebugPathMapper - Blade Template debug: path to cache dir is not specified in the settings\n",
      "2023-05-07 17:03:13,096 [14401429]   WARN - #c.j.p.b.d.BladeDebugPathMapper - Blade Template debug: path to cache dir is not specified in the settings\n",
      "2023-05-07 17:03:13,110 [14401443]   WARN - #c.j.p.b.d.BladeDebugPathMapper - Blade Template debug: path to cache dir is not specified in the settings\n",
      "2023-05-07 17:03:35,781 [14424114]   WARN - #c.j.p.b.d.BladeDebugPathMapper - Blade Template debug: path to cache dir is not specified in the settings\n",
      "2023-05-07 17:03:35,781 [14424114]   WARN - #c.j.p.b.d.BladeDebugPathMapper - Blade Template debug: path to cache dir is not specified in the settings\n",
      "2023-05-07 17:03:35,781 [14424114]   WARN - #c.j.p.b.d.BladeDebugPathMapper - Blade Template debug: path to cache dir is not specified in the settings\n",
      "2023-05-07 17:03:35,791 [14424124]   WARN - #c.j.p.b.d.BladeDebugPathMapper - Blade Template debug: path to cache dir is not specified in the settings\n",
      "2023-05-07 17:03:35,792 [14424125]   WARN - #c.j.p.b.d.BladeDebugPathMapper - Blade Template debug: path to cache dir is not specified in the settings\n",
      "2023-05-07 17:03:35,792 [14424125]   WARN - #c.j.p.b.d.BladeDebugPathMapper - Blade Template debug: path to cache dir is not specified in the settings\n",
      "2023-05-07 17:03:36,689 [14425022]   WARN - #c.j.p.b.d.BladeDebugPathMapper - Blade Template debug: path to cache dir is not specified in the settings\n",
      "2023-05-07 17:03:36,689 [14425022]   WARN - #c.j.p.b.d.BladeDebugPathMapper - Blade Template debug: path to cache dir is not specified in the settings\n",
      "2023-05-07 17:03:36,689 [14425022]   WARN - #c.j.p.b.d.BladeDebugPathMapper - Blade Template debug: path to cache dir is not specified in the settings\n",
      "2023-05-07 17:03:36,693 [14425026]   WARN - #c.j.p.b.d.BladeDebugPathMapper - Blade Template debug: path to cache dir is not specified in the settings\n",
      "2023-05-07 17:03:36,694 [14425027]   WARN - #c.j.p.b.d.BladeDebugPathMapper - Blade Template debug: path to cache dir is not specified in the settings\n",
      "2023-05-07 17:03:36,695 [14425028]   WARN - #c.j.p.b.d.BladeDebugPathMapper - Blade Template debug: path to cache dir is not specified in the settings\n"
     ]
    },
    {
     "name": "stdout",
     "output_type": "stream",
     "text": [
      "2023-05-07 17:06:35,289 [14603622]   WARN - #c.j.p.b.d.BladeDebugPathMapper - Blade Template debug: path to cache dir is not specified in the settings\n",
      "2023-05-07 17:06:35,290 [14603623]   WARN - #c.j.p.b.d.BladeDebugPathMapper - Blade Template debug: path to cache dir is not specified in the settings\n",
      "2023-05-07 17:06:35,290 [14603623]   WARN - #c.j.p.b.d.BladeDebugPathMapper - Blade Template debug: path to cache dir is not specified in the settings\n",
      "2023-05-07 17:06:35,299 [14603632]   WARN - #c.j.p.b.d.BladeDebugPathMapper - Blade Template debug: path to cache dir is not specified in the settings\n",
      "2023-05-07 17:06:35,300 [14603633]   WARN - #c.j.p.b.d.BladeDebugPathMapper - Blade Template debug: path to cache dir is not specified in the settings\n",
      "2023-05-07 17:06:35,300 [14603633]   WARN - #c.j.p.b.d.BladeDebugPathMapper - Blade Template debug: path to cache dir is not specified in the settings\n",
      "2023-05-07 17:13:51,955 [15040288]   WARN - #c.j.p.PhpIndex - Invalid Signature '\\PHPUnit\\Framework\\class-string'\n",
      "2023-05-07 17:13:51,984 [15040317]   WARN - #c.j.p.PhpIndex - Invalid Signature '\\Illuminate\\Contracts\\Support\\Arrayable'\n",
      "2023-05-07 17:13:51,984 [15040317]   WARN - #c.j.p.PhpIndex - Invalid Signature '\\Illuminate\\Support\\Collection'\n",
      "2023-05-07 17:26:11,917 [15780250]   WARN - #c.j.p.PhpIndex - Invalid Signature '\\PHPUnit\\Framework\\class-string'\n",
      "2023-05-07 17:26:15,878 [15784211]   WARN - #c.j.p.PhpIndex - Invalid Signature '\\PHPUnit\\Framework\\class-string'\n",
      "2023-05-07 17:33:37,743 [16226076]   WARN - #c.j.p.PhpIndex - Invalid Signature '\\Illuminate\\Support\\Collection'\n",
      "2023-05-07 17:33:37,822 [16226155]   WARN - #c.j.p.PhpIndex - Invalid Signature '\\Illuminate\\Support\\Collection<#ᢐ\\TKey.,#ᢐ\\TValue.>'\n",
      "2023-05-07 17:38:21,907 [16510240]   WARN - #c.j.p.PhpIndex - Invalid Signature '\\Illuminate\\Support\\Collection'\n",
      "2023-05-07 17:38:21,917 [16510250]   WARN - #c.j.p.PhpIndex - Invalid Signature '\\Illuminate\\Support\\Collection<#ᢐ\\TKey.,#ᢐ\\TValue.>'\n",
      "2023-05-07 17:39:25,412 [16573745]   WARN - #c.j.p.PhpIndex - Invalid Signature '\\Illuminate\\Support\\Collection'\n",
      "2023-05-07 17:39:25,440 [16573773]   WARN - #c.j.p.PhpIndex - Invalid Signature '\\Illuminate\\Support\\Collection<#ᢐ\\TKey.,#ᢐ\\TValue.>'\n",
      "2023-05-07 17:39:43,601 [16591934]   WARN - #c.i.o.a.i.ActionUpdater - 276 ms to grab EDT for #update@EditorInspectionsToolbar (com.intellij.openapi.editor.impl.EditorMarkupModelImpl$1)\n",
      "2023-05-07 17:39:43,602 [16591935]   WARN - #c.i.o.a.i.ActionUpdater - 276 ms to grab EDT for ViewBreakpointsAction#update@DebuggerToolbar (com.intellij.xdebugger.impl.actions.ViewBreakpointsAction)\n",
      "2023-05-07 17:39:43,696 [16592029]   WARN - #c.j.p.PhpIndex - Invalid Signature '\\Illuminate\\Support\\Traits\\EnumeratesValues'\n",
      "2023-05-07 17:39:50,633 [16598966]   WARN - #c.j.p.PhpIndex - Invalid Signature '\\Illuminate\\Support\\Traits\\EnumeratesValues'\n",
      "2023-05-07 17:39:50,646 [16598979]   WARN - #c.j.p.PhpIndex - Invalid Signature '\\Illuminate\\Support\\Collection'\n",
      "2023-05-07 17:42:48,907 [16777240]   WARN - #c.i.o.a.i.ActionUpdater - 267 ms to grab EDT for CWMTelephonyGroup#update@NavBarToolbar (com.jetbrains.rd.platform.codeWithMe.telephony.CWMTelephonyGroup)\n",
      "2023-05-07 17:42:48,911 [16777244]   WARN - #c.i.o.a.i.ActionUpdater - 266 ms to grab EDT for #update@ToolwindowTitle (com.intellij.toolWindow.ToolWindowHeader$2)\n"
     ]
    }
   ],
   "source": [
    "! phpstorm project"
   ]
  },
  {
   "cell_type": "markdown",
   "metadata": {},
   "source": [
    "You can test your solution using included tests:"
   ]
  },
  {
   "cell_type": "code",
   "execution_count": 1,
   "metadata": {},
   "outputs": [
    {
     "name": "stdout",
     "output_type": "stream",
     "text": [
      "/home/student/SI_2023/09_laravel_tdd/project\n"
     ]
    }
   ],
   "source": [
    "%cd project"
   ]
  },
  {
   "cell_type": "code",
   "execution_count": 1,
   "metadata": {},
   "outputs": [
    {
     "name": "stdout",
     "output_type": "stream",
     "text": [
      "Composer could not find a composer.json file in /home/student/SI_2023/09_laravel_tdd\r\n",
      "To initialize a project, please create a composer.json file. See https://getcomposer.org/basic-usage\r\n"
     ]
    }
   ],
   "source": [
    "! composer install"
   ]
  },
  {
   "cell_type": "code",
   "execution_count": 2,
   "metadata": {},
   "outputs": [
    {
     "name": "stdout",
     "output_type": "stream",
     "text": [
      "/usr/bin/sh: 1: vendor/bin/codecept: not found\r\n"
     ]
    }
   ],
   "source": [
    "! vendor/bin/codecept build"
   ]
  },
  {
   "cell_type": "code",
   "execution_count": 3,
   "metadata": {},
   "outputs": [
    {
     "name": "stdout",
     "output_type": "stream",
     "text": [
      "/usr/bin/sh: 1: vendor/bin/php-cs-fixer: not found\r\n"
     ]
    }
   ],
   "source": [
    "! vendor/bin/php-cs-fixer fix --diff --dry-run ."
   ]
  },
  {
   "cell_type": "code",
   "execution_count": 4,
   "metadata": {},
   "outputs": [
    {
     "name": "stdout",
     "output_type": "stream",
     "text": [
      "/usr/bin/sh: 1: vendor/bin/phpstan: not found\r\n"
     ]
    }
   ],
   "source": [
    "! vendor/bin/phpstan analyze -c phpstan.neon"
   ]
  },
  {
   "cell_type": "code",
   "execution_count": 5,
   "metadata": {},
   "outputs": [
    {
     "name": "stdout",
     "output_type": "stream",
     "text": [
      "/usr/bin/sh: 1: vendor/bin/phpcpd: not found\r\n"
     ]
    }
   ],
   "source": [
    "! vendor/bin/phpcpd . --fuzzy --min-lines 1 --min-tokens 20 --exclude vendor --exclude tests* --exclude config --exclude storage"
   ]
  },
  {
   "cell_type": "code",
   "execution_count": 6,
   "metadata": {},
   "outputs": [
    {
     "name": "stdout",
     "output_type": "stream",
     "text": [
      "cp: cannot stat '.env.example': No such file or directory\r\n"
     ]
    }
   ],
   "source": [
    "! cp .env.example .env"
   ]
  },
  {
   "cell_type": "code",
   "execution_count": 7,
   "metadata": {},
   "outputs": [
    {
     "name": "stdout",
     "output_type": "stream",
     "text": [
      "Could not open input file: artisan\r\n"
     ]
    }
   ],
   "source": [
    "! php artisan key:generate"
   ]
  },
  {
   "cell_type": "code",
   "execution_count": 8,
   "metadata": {},
   "outputs": [
    {
     "name": "stdout",
     "output_type": "stream",
     "text": [
      "Could not open input file: artisan\r\n"
     ]
    }
   ],
   "source": [
    "! php artisan migrate:fresh"
   ]
  },
  {
   "cell_type": "code",
   "execution_count": 9,
   "metadata": {},
   "outputs": [
    {
     "name": "stdout",
     "output_type": "stream",
     "text": [
      "Could not open input file: artisan\r\n"
     ]
    }
   ],
   "source": [
    "! php artisan db:seed"
   ]
  },
  {
   "cell_type": "code",
   "execution_count": 10,
   "metadata": {},
   "outputs": [
    {
     "name": "stdout",
     "output_type": "stream",
     "text": [
      "/usr/bin/sh: 1: cannot create tests_codeception/_data/dump.sql: Directory nonexistent\r\n"
     ]
    }
   ],
   "source": [
    "! mysqldump -h127.0.0.1 -u root --password=root123 test > tests_codeception/_data/dump.sql"
   ]
  },
  {
   "cell_type": "code",
   "execution_count": 11,
   "metadata": {},
   "outputs": [
    {
     "name": "stdout",
     "output_type": "stream",
     "text": [
      "\u001b[K\u001b[?25h\u001b[37;40mnpm\u001b[0m \u001b[0m\u001b[31;40mERR!\u001b[0m \u001b[0m\u001b[35mcode\u001b[0m ENOENT35marborist:ctor\u001b[0m Completed in 0ms\u001b[0m\u001b[K\n",
      "\u001b[0m\u001b[37;40mnpm\u001b[0m \u001b[0m\u001b[31;40mERR!\u001b[0m \u001b[0m\u001b[35msyscall\u001b[0m open\n",
      "\u001b[0m\u001b[37;40mnpm\u001b[0m \u001b[0m\u001b[31;40mERR!\u001b[0m \u001b[0m\u001b[35mpath\u001b[0m /home/student/SI_2023/09_laravel_tdd/package.json\n",
      "\u001b[0m\u001b[37;40mnpm\u001b[0m \u001b[0m\u001b[31;40mERR!\u001b[0m \u001b[0m\u001b[35merrno\u001b[0m -2\n",
      "\u001b[0m\u001b[37;40mnpm\u001b[0m \u001b[0m\u001b[31;40mERR!\u001b[0m \u001b[0m\u001b[35menoent\u001b[0m ENOENT: no such file or directory, open '/home/student/SI_2023/09_laravel_tdd/package.json'\n",
      "\u001b[0m\u001b[37;40mnpm\u001b[0m \u001b[0m\u001b[31;40mERR!\u001b[0m \u001b[0m\u001b[35menoent\u001b[0m This is related to npm not being able to find a file.\n",
      "\u001b[0m\u001b[37;40mnpm\u001b[0m \u001b[0m\u001b[31;40mERR!\u001b[0m \u001b[0m\u001b[35menoent\u001b[0m \n",
      "\u001b[0m\n",
      "\u001b[37;40mnpm\u001b[0m \u001b[0m\u001b[31;40mERR!\u001b[0m\u001b[35m\u001b[0m A complete log of this run can be found in:\n",
      "\u001b[0m\u001b[37;40mnpm\u001b[0m \u001b[0m\u001b[31;40mERR!\u001b[0m\u001b[35m\u001b[0m     /home/student/.npm/_logs/2023-04-26T13_41_05_411Z-debug-0.log\n",
      "\u001b[0m"
     ]
    }
   ],
   "source": [
    "! npm install"
   ]
  },
  {
   "cell_type": "code",
   "execution_count": 12,
   "metadata": {},
   "outputs": [
    {
     "name": "stdout",
     "output_type": "stream",
     "text": [
      "\u001b[37;40mnpm\u001b[0m \u001b[0m\u001b[31;40mERR!\u001b[0m \u001b[0m\u001b[35mcode\u001b[0m ENOENT\r\n",
      "\u001b[0m\u001b[37;40mnpm\u001b[0m \u001b[0m\u001b[31;40mERR!\u001b[0m \u001b[0m\u001b[35msyscall\u001b[0m open\r\n",
      "\u001b[0m\u001b[37;40mnpm\u001b[0m \u001b[0m\u001b[31;40mERR!\u001b[0m \u001b[0m\u001b[35mpath\u001b[0m /home/student/SI_2023/09_laravel_tdd/package.json\r\n",
      "\u001b[0m\u001b[37;40mnpm\u001b[0m \u001b[0m\u001b[31;40mERR!\u001b[0m \u001b[0m\u001b[35merrno\u001b[0m -2\r\n",
      "\u001b[0m\u001b[37;40mnpm\u001b[0m \u001b[0m\u001b[31;40mERR!\u001b[0m \u001b[0m\u001b[35menoent\u001b[0m ENOENT: no such file or directory, open '/home/student/SI_2023/09_laravel_tdd/package.json'\r\n",
      "\u001b[0m\u001b[37;40mnpm\u001b[0m \u001b[0m\u001b[31;40mERR!\u001b[0m \u001b[0m\u001b[35menoent\u001b[0m This is related to npm not being able to find a file.\r\n",
      "\u001b[0m\u001b[37;40mnpm\u001b[0m \u001b[0m\u001b[31;40mERR!\u001b[0m \u001b[0m\u001b[35menoent\u001b[0m \r\n",
      "\u001b[0m\r\n",
      "\u001b[37;40mnpm\u001b[0m \u001b[0m\u001b[31;40mERR!\u001b[0m\u001b[35m\u001b[0m A complete log of this run can be found in:\r\n",
      "\u001b[0m\u001b[37;40mnpm\u001b[0m \u001b[0m\u001b[31;40mERR!\u001b[0m\u001b[35m\u001b[0m     /home/student/.npm/_logs/2023-04-26T13_41_06_140Z-debug-0.log\r\n",
      "\u001b[0m"
     ]
    }
   ],
   "source": [
    "! npm run build"
   ]
  },
  {
   "cell_type": "code",
   "execution_count": 13,
   "metadata": {},
   "outputs": [
    {
     "name": "stdout",
     "output_type": "stream",
     "text": [
      "Could not open input file: artisan\r\n"
     ]
    }
   ],
   "source": [
    "! php artisan test"
   ]
  },
  {
   "cell_type": "code",
   "execution_count": 14,
   "metadata": {},
   "outputs": [
    {
     "name": "stdout",
     "output_type": "stream",
     "text": [
      "Could not open input file: artisan\n"
     ]
    }
   ],
   "source": [
    "import subprocess\n",
    "artisanServe = subprocess.Popen(['php', 'artisan', 'serve', '--port', '8888'])"
   ]
  },
  {
   "cell_type": "code",
   "execution_count": 15,
   "metadata": {},
   "outputs": [
    {
     "name": "stdout",
     "output_type": "stream",
     "text": [
      "/usr/bin/sh: 1: vendor/bin/codecept: not found\r\n"
     ]
    }
   ],
   "source": [
    "! vendor/bin/codecept run"
   ]
  },
  {
   "cell_type": "code",
   "execution_count": 19,
   "metadata": {},
   "outputs": [],
   "source": [
    "! killall php php8.1"
   ]
  },
  {
   "cell_type": "code",
   "execution_count": 20,
   "metadata": {},
   "outputs": [
    {
     "name": "stdout",
     "output_type": "stream",
     "text": [
      "/home/student/php_2022_platforma_e-handlu_typu_olx/09_laravel_tdd\n"
     ]
    }
   ],
   "source": [
    "%cd .."
   ]
  },
  {
   "cell_type": "markdown",
   "metadata": {},
   "source": [
    "Stop database:"
   ]
  },
  {
   "cell_type": "code",
   "execution_count": null,
   "metadata": {},
   "outputs": [],
   "source": [
    "! docker container stop mysql"
   ]
  }
 ],
 "metadata": {
  "kernelspec": {
   "display_name": "Python 3 (ipykernel)",
   "language": "python",
   "name": "python3"
  },
  "language_info": {
   "codemirror_mode": {
    "name": "ipython",
    "version": 3
   },
   "file_extension": ".py",
   "mimetype": "text/x-python",
   "name": "python",
   "nbconvert_exporter": "python",
   "pygments_lexer": "ipython3",
   "version": "3.10.6"
  }
 },
 "nbformat": 4,
 "nbformat_minor": 4
}
